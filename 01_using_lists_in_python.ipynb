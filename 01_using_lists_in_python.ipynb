{
 "cells": [
  {
   "metadata": {},
   "cell_type": "markdown",
   "source": [
    "- Listák használata Pythonban\n",
    "  - Listák inicializálása\n",
    "    - Inicializálás szögletes zárójelek használatával\n",
    "    - Inicializálás list() konstruktor használatával\n",
    "  - Alap műveletek listákkal\n",
    "    - Elem elérése (indexing) és szeletelés (slicing)\n",
    "    - Lista bejárása\n",
    "    - Elemek hozzáadása és meglévők módosítása\n",
    "    - Elemek törlése, kiemelés\n",
    "    - Tartalmi ellenőrzések (all, any)\n",
    "  - List comprehensions\n",
    "  - Listák másolása (+ mutable vs immutable) - középhaladó téma\n",
    "    - Shallow copy\n",
    "    - Deep copy\n",
    "  - Gyakorló feladatok"
   ],
   "id": "8aa265ec66afb942"
  },
  {
   "metadata": {},
   "cell_type": "markdown",
   "source": [
    "\n",
    "# Listák használata Pythonban\n"
   ],
   "id": "ed051a6ec2b3c5e0"
  },
  {
   "metadata": {},
   "cell_type": "markdown",
   "source": "## Listák inicializálása",
   "id": "559c748601862b44"
  },
  {
   "metadata": {},
   "cell_type": "markdown",
   "source": "### Inicializálás szögletes zárójelek használatával",
   "id": "36d8445ff2dc649d"
  },
  {
   "metadata": {
    "ExecuteTime": {
     "end_time": "2025-10-27T06:55:07.102616Z",
     "start_time": "2025-10-27T06:55:07.099837Z"
    }
   },
   "cell_type": "code",
   "source": [
    "# üres lista inicializálása\n",
    "ures_lista = []\n",
    "print(type(ures_lista))\n",
    "print(ures_lista)"
   ],
   "id": "3bc05285c7df5dbd",
   "outputs": [
    {
     "name": "stdout",
     "output_type": "stream",
     "text": [
      "<class 'list'>\n",
      "[]\n"
     ]
    }
   ],
   "execution_count": 82
  },
  {
   "metadata": {
    "ExecuteTime": {
     "end_time": "2025-10-27T06:55:07.144931Z",
     "start_time": "2025-10-27T06:55:07.141123Z"
    }
   },
   "cell_type": "code",
   "source": [
    "# lista inicializálása azonotos típusú elemekkel (str)\n",
    "alkatreszek = ['RAM memória', 'PCI kártya', 'hangkártya', 'CPU', 'SSD meghajtó']\n",
    "print(type(alkatreszek[0]))\n",
    "\n",
    "# lista inicializálása azonotos típusú elemekkel (int)\n",
    "portok = [80, 443, 22, 21]\n",
    "print(type(portok[0]))"
   ],
   "id": "38e7cad9f52525f9",
   "outputs": [
    {
     "name": "stdout",
     "output_type": "stream",
     "text": [
      "<class 'str'>\n",
      "<class 'int'>\n"
     ]
    }
   ],
   "execution_count": 83
  },
  {
   "metadata": {
    "ExecuteTime": {
     "end_time": "2025-10-27T06:55:07.155271Z",
     "start_time": "2025-10-27T06:55:07.151654Z"
    }
   },
   "cell_type": "code",
   "source": [
    "# a lista eltérő típusú adatok tárolását is lehetővé teszi, ez az egyik erőssége e adattípusnak\n",
    "vegyes_lista = ['PCI kártya', None, 80, True, None, 'Flat is better than nested.']\n",
    "for elem in vegyes_lista:\n",
    "    print(f\"<{elem}> típusa {type(elem)}\")"
   ],
   "id": "a41d97e4c2f0c6f6",
   "outputs": [
    {
     "name": "stdout",
     "output_type": "stream",
     "text": [
      "<PCI kártya> típusa <class 'str'>\n",
      "<None> típusa <class 'NoneType'>\n",
      "<80> típusa <class 'int'>\n",
      "<True> típusa <class 'bool'>\n",
      "<None> típusa <class 'NoneType'>\n",
      "<Flat is better than nested.> típusa <class 'str'>\n"
     ]
    }
   ],
   "execution_count": 84
  },
  {
   "metadata": {
    "ExecuteTime": {
     "end_time": "2025-10-27T06:55:07.185906Z",
     "start_time": "2025-10-27T06:55:07.182182Z"
    }
   },
   "cell_type": "code",
   "source": [
    "# nested/beágyazott/kétdimenziós lista létrehozása\n",
    "projekt_fajlok = [['Projekt A', 'kereses.py'], ['Projekt B', 'readme.md']]\n",
    "for elem in projekt_fajlok:\n",
    "    print(f\"<{elem}> típusa {type(elem)}\")\n",
    "\n",
    "negyzetes_matrixok = [\n",
    "    [\n",
    "        [7, -5, 2],\n",
    "        [0, -2, -1],\n",
    "        [4, 0, 7]\n",
    "    ],\n",
    "    [\n",
    "        [1, 2, 3],\n",
    "        [4, 5, 6],\n",
    "        [7, 8, 9]\n",
    "    ],\n",
    "    [\n",
    "        [10, -5, 2],\n",
    "        [0, 15, -1],\n",
    "        [4, 0, 7]\n",
    "    ]\n",
    "]"
   ],
   "id": "add4ff9c2427c26b",
   "outputs": [
    {
     "name": "stdout",
     "output_type": "stream",
     "text": [
      "<['Projekt A', 'kereses.py']> típusa <class 'list'>\n",
      "<['Projekt B', 'readme.md']> típusa <class 'list'>\n"
     ]
    }
   ],
   "execution_count": 85
  },
  {
   "metadata": {
    "ExecuteTime": {
     "end_time": "2025-10-27T06:55:07.200334Z",
     "start_time": "2025-10-27T06:55:07.198666Z"
    }
   },
   "cell_type": "code",
   "source": "",
   "id": "2389657d479830aa",
   "outputs": [],
   "execution_count": null
  },
  {
   "metadata": {},
   "cell_type": "markdown",
   "source": "### Inicializálás list() konstruktor használatával",
   "id": "557de3b35c0e1ccf"
  },
  {
   "metadata": {
    "ExecuteTime": {
     "end_time": "2025-10-27T06:55:07.227678Z",
     "start_time": "2025-10-27T06:55:07.222462Z"
    }
   },
   "cell_type": "code",
   "source": [
    "# üres lista inicializálása\n",
    "ures_lista = list()\n",
    "print(type(ures_lista))\n",
    "print(ures_lista)\n",
    "\n",
    "# lista létrehozása stringből\n",
    "alkatresz_betui =list('SSD meghajtó')\n",
    "print(type(alkatresz_betui))\n",
    "print(alkatresz_betui)\n",
    "\n",
    "# lista létrehozása range-ből\n",
    "meretek_tartomanybol = list(range(1, 15, 3))\n",
    "print(type(meretek_tartomanybol))\n",
    "print(meretek_tartomanybol)\n",
    "\n",
    "# lista létrehozása tuple adattípusból (később részletesen tárgyaljuk)\n",
    "portok = list((8080, 22, 3306))\n",
    "print(type(portok))\n",
    "print(portok)\n",
    "\n",
    "# lista l;trehozásával halmaz(set) konvertálásával\n",
    "protokollok = list({'HTTP', 'FTP', 'SSH'})\n"
   ],
   "id": "4c2c5a7ffca39f30",
   "outputs": [
    {
     "name": "stdout",
     "output_type": "stream",
     "text": [
      "<class 'list'>\n",
      "[]\n",
      "<class 'list'>\n",
      "['S', 'S', 'D', ' ', 'm', 'e', 'g', 'h', 'a', 'j', 't', 'ó']\n",
      "<class 'list'>\n",
      "[1, 4, 7, 10, 13]\n",
      "<class 'list'>\n",
      "[8080, 22, 3306]\n"
     ]
    }
   ],
   "execution_count": 86
  },
  {
   "metadata": {
    "ExecuteTime": {
     "end_time": "2025-10-27T06:55:07.251434Z",
     "start_time": "2025-10-27T06:55:07.248156Z"
    }
   },
   "cell_type": "code",
   "source": [
    "alkatreszek = ['RAM memória', 'PCI kártya', 'hangkártya', 'CPU', 'SSD meghajtó']\n",
    "portok = [80, 443, 22, 3036, 8081, 21]\n",
    "negyzetes_matrix = [[1, 0, 0], [0, 10, 0], [0, 0, 1]]\n",
    "\n",
    "print(f\"Az 3. alkatrész a listában: {alkatreszek[2]}\")\n",
    "print(f\"Az első és utolsó port: {portok[0]}, port: {portok[-1]}\")\n",
    "print(f\"A mátrix főátlójának középső eleme: {negyzetes_matrix[1][1]}\")\n",
    "\n"
   ],
   "id": "5e8125777b1a6631",
   "outputs": [
    {
     "name": "stdout",
     "output_type": "stream",
     "text": [
      "Az 3. alkatrész a listában: hangkártya\n",
      "Az első és utolsó port: 80, port: 21\n",
      "A mátrix főátlójának középső eleme: 10\n"
     ]
    }
   ],
   "execution_count": 87
  },
  {
   "metadata": {
    "ExecuteTime": {
     "end_time": "2025-10-27T06:55:07.280303Z",
     "start_time": "2025-10-27T06:55:07.275575Z"
    }
   },
   "cell_type": "code",
   "source": [
    "# szeletelés (slicing)\n",
    "# szeletelés szintaxisa lista[start:stop:lepes] - ha nem adott akkor a lepes alapértelmezetten 1.\n",
    "l1 = portok[1:3]\n",
    "print(f\"A szeletelt lista: {l1} és címe {id(l1)}\" \\\n",
    "      + f\" Az eredeti lista memória címe {id(portok[0])}.\")\n",
    "l2 = l1\n",
    "l2[0] = 0\n",
    "print(f\"A szeletelt lista: {l1} és memória címe {id(l1)}.\" )\n",
    "print(f\"A hivatkozó lista: {l2} és memória címe {id(l2)}\")\n",
    "# a \"helyes\" megoldás majd a lista megoldásnál lesz elérhető\n"
   ],
   "id": "2efe8c6b7807679a",
   "outputs": [
    {
     "name": "stdout",
     "output_type": "stream",
     "text": [
      "A szeletelt lista: [443, 22] és címe 4527956480 Az eredeti lista memória címe 4475388552.\n",
      "A szeletelt lista: [0, 22] és memória címe 4527956480.\n",
      "A hivatkozó lista: [0, 22] és memória címe 4527956480\n"
     ]
    }
   ],
   "execution_count": 88
  },
  {
   "metadata": {
    "ExecuteTime": {
     "end_time": "2025-10-27T06:55:07.298461Z",
     "start_time": "2025-10-27T06:55:07.293592Z"
    }
   },
   "cell_type": "code",
   "source": [
    "# további példák a szeletelésről\n",
    "szamok = [1, 2, 3, 4, 5]\n",
    "szamok_megforditva = szamok[::-1]\n",
    "print(f\"Szamok: {szamok} és megforditva {szamok_megforditva}\")\n",
    "\n",
    "szoveg = \"Gézakékazég\"\n",
    "szoveg_megforditva = szoveg[::-1]\n",
    "print(f\"Szoveg:{szoveg} és megfordítva:{szoveg_megforditva}\")\n",
    "\n",
    "# Lista másolása (\"shallow\" másolat)\n",
    "szamlista1 = [[1, 2], [3, 4]]\n",
    "szamlista2 = szamlista1[:]  # \"shallow\" másolat\n",
    "l2[1] = -1\n",
    "l2.append(4)\n",
    "print(f\"{l1}@{id(l1)}, {l2}@{id(l2)}\")\n",
    "\n",
    "# listák összefűzése\n",
    "l3 = szamok + [7,8]\n",
    "print(f\"Összefűzéssel kapott lista {l3}\")\n",
    "\n",
    "# listák összefűzése ismétléssel\n",
    "l4 = szamok + [1]*3\n",
    "print(f\"Összefűzéssel és ismétléssek kapott lista {l4} és hossza:{len(l4)}\")\n",
    "\n",
    "# elem előfordulásának tesztelése\n",
    "print(f\"Előfordulás ellenőrzése: {\"1\" in l4}\")\n",
    "print(f\"Előfordulás ellenőrzése: {1 in l4}\")\n"
   ],
   "id": "749fbd2301993174",
   "outputs": [
    {
     "name": "stdout",
     "output_type": "stream",
     "text": [
      "Szamok: [1, 2, 3, 4, 5] és megforditva [5, 4, 3, 2, 1]\n",
      "Szoveg:Gézakékazég és megfordítva:gézakékazéG\n",
      "[0, -1, 4]@4527956480, [0, -1, 4]@4527956480\n",
      "Összefűzéssel kapott lista [1, 2, 3, 4, 5, 7, 8]\n",
      "Összefűzéssel és ismétléssek kapott lista [1, 2, 3, 4, 5, 1, 1, 1] és hossza:8\n",
      "Előfordulás ellenőrzése: False\n",
      "Előfordulás ellenőrzése: True\n"
     ]
    }
   ],
   "execution_count": 89
  },
  {
   "metadata": {},
   "cell_type": "markdown",
   "source": "### Lista bejárása",
   "id": "de32eb69cd61e95a"
  },
  {
   "metadata": {
    "ExecuteTime": {
     "end_time": "2025-10-27T06:55:07.336799Z",
     "start_time": "2025-10-27T06:55:07.327306Z"
    }
   },
   "cell_type": "code",
   "source": [
    "# elem alapú iteráció\n",
    "alkatreszek = ['RAM memória', 'PCI kártya', 'hangkártya', 'CPU', 'SSD meghajtó']\n",
    "\n",
    "print(\"Elem-alapú iteráció\")\n",
    "for alkatresz in alkatreszek:\n",
    "    print(f\"Alkatrész: {alkatresz.upper()}\")\n",
    "\n",
    "# index-alapú iteráció\n",
    "portok = [80, 443, 22, 3036, 8081, 21]\n",
    "print(\"\\nIndex-alapú iteráció\")\n",
    "for i in range(len(portok)):\n",
    "    aktualis_port = portok[i]\n",
    "    if aktualis_port < 1024:\n",
    "        print(f\"Index {i}: Rendszerport ({aktualis_port})\")\n",
    "    else:\n",
    "        print(f\"Index {i}: Alkalmazási port ({aktualis_port})\")\n",
    "\n",
    "# index és elem alapú iteráció\n",
    "print(\"\\nIndex és elem-alapú iteráció\")\n",
    "for index, port in enumerate(portok):\n",
    "    print(f\"Index {index}: port ({port})\")\n"
   ],
   "id": "ad60203a624816fd",
   "outputs": [
    {
     "name": "stdout",
     "output_type": "stream",
     "text": [
      "Elem-alapú iteráció\n",
      "Alkatrész: RAM MEMÓRIA\n",
      "Alkatrész: PCI KÁRTYA\n",
      "Alkatrész: HANGKÁRTYA\n",
      "Alkatrész: CPU\n",
      "Alkatrész: SSD MEGHAJTÓ\n",
      "\n",
      "Index-alapú iteráció\n",
      "Index 0: Rendszerport (80)\n",
      "Index 1: Rendszerport (443)\n",
      "Index 2: Rendszerport (22)\n",
      "Index 3: Alkalmazási port (3036)\n",
      "Index 4: Alkalmazási port (8081)\n",
      "Index 5: Rendszerport (21)\n",
      "\n",
      "Index és elem-alapú iteráció\n",
      "Index 0: port (80)\n",
      "Index 1: port (443)\n",
      "Index 2: port (22)\n",
      "Index 3: port (3036)\n",
      "Index 4: port (8081)\n",
      "Index 5: port (21)\n"
     ]
    }
   ],
   "execution_count": 90
  },
  {
   "metadata": {
    "ExecuteTime": {
     "end_time": "2025-10-27T06:55:07.352474Z",
     "start_time": "2025-10-27T06:55:07.349427Z"
    }
   },
   "cell_type": "code",
   "source": [
    "# Feladat\n",
    "# Határozzuk meg egy egész számokat tartalmazó lista maximumát.\n",
    "# Implementáljus a maximumkereső algoritmust.\n",
    "from random import randint\n",
    "N = 10\n",
    "szamok = [\n",
    "    randint(-15, 15)\n",
    "    for _ in range(N)\n",
    "]\n",
    "print(szamok)\n",
    "\n",
    "# megoldas közösen a csoporttal\n"
   ],
   "id": "8bb1d54e613d63be",
   "outputs": [
    {
     "name": "stdout",
     "output_type": "stream",
     "text": [
      "[-13, 13, 13, -12, -12, -8, -9, 15, -14, -10]\n"
     ]
    }
   ],
   "execution_count": 91
  },
  {
   "metadata": {
    "ExecuteTime": {
     "end_time": "2025-10-26T21:24:39.084686Z",
     "start_time": "2025-10-26T21:24:39.082668Z"
    }
   },
   "cell_type": "markdown",
   "source": "### Elemek hozzáadása és meglévők módosítása",
   "id": "eb514aed21fd4bd"
  },
  {
   "metadata": {
    "ExecuteTime": {
     "end_time": "2025-10-27T06:55:07.376562Z",
     "start_time": "2025-10-27T06:55:07.371563Z"
    }
   },
   "cell_type": "code",
   "source": [
    "eszkozok = ['egér', 'billentyűzet', 'notebook töltő', 'mouse pad', 'videokártya']\n",
    "# első elem felülírása\n",
    "eszkozok[0] = \"webkamera\"\n",
    "eszkozok[-2] = \"külső mikrofon\"\n",
    "print(eszkozok)\n",
    "\n",
    "portok = [80, 443, 22, 3036, 8081, 21]\n",
    "\n",
    "#hozzáadás a végéhez\n",
    "portok.append(25)\n",
    "# beszúrás adott indexre (figyelem az első index 0)\n",
    "portok.insert(1, 220)\n",
    "print(portok)\n",
    "# kiterjesztés - \"hozzáragasztja a végéhez\"\n",
    "portok.extend([5050, 53])\n",
    "print(f\"A kiterjesztett lista {portok}\")"
   ],
   "id": "64a06c4ec1d620a9",
   "outputs": [
    {
     "name": "stdout",
     "output_type": "stream",
     "text": [
      "['webkamera', 'billentyűzet', 'notebook töltő', 'külső mikrofon', 'videokártya']\n",
      "[80, 220, 443, 22, 3036, 8081, 21, 25]\n",
      "A kiterjesztett lista [80, 220, 443, 22, 3036, 8081, 21, 25, 5050, 53]\n"
     ]
    }
   ],
   "execution_count": 92
  },
  {
   "metadata": {},
   "cell_type": "markdown",
   "source": "### Elemek törlése, kiemelés",
   "id": "eb5e144300aabfae"
  },
  {
   "metadata": {
    "ExecuteTime": {
     "end_time": "2025-10-27T06:55:07.401687Z",
     "start_time": "2025-10-27T06:55:07.397935Z"
    }
   },
   "cell_type": "code",
   "source": [
    "portok = [80, 443, 22, 3036, 8081, 21, 25, 21, 8080, 80]\n",
    "print(f\"Portok: {portok}\")\n",
    "# törlés adott indexről\n",
    "idx = 1\n",
    "del portok[idx]\n",
    "print(f\"Portok az {idx} indexről való törlést követően: {portok}\")\n",
    "\n",
    "# elem első előfordulásának törlése\n",
    "elem = \"80\"\n",
    "portok.remove(int(elem)) # a törléshez fontos a\n",
    "print(f\"Portok az {elem} első előfordulásának törlését követően: {portok}\")\n",
    "\n",
    "# elem kiemelése a \"stack\" tetejéről\n",
    "elem = portok.pop()\n",
    "print(f\"Kivett elem {elem} és a lista tartalma ezt követően: {portok}\")\n",
    "\n",
    "# veszélyes művelet\n",
    "portok.clear()\n",
    "print(f\"Portok a clear műveletet követően: {portok}\")\n"
   ],
   "id": "efc095a5d2fcec37",
   "outputs": [
    {
     "name": "stdout",
     "output_type": "stream",
     "text": [
      "Portok: [80, 443, 22, 3036, 8081, 21, 25, 21, 8080, 80]\n",
      "Portok az 1 indexről való törlést követően: [80, 22, 3036, 8081, 21, 25, 21, 8080, 80]\n",
      "Portok az 80 első előfordulásának törlését követően: [22, 3036, 8081, 21, 25, 21, 8080, 80]\n",
      "Kivett elem 80 és a lista tartalma ezt követően: [22, 3036, 8081, 21, 25, 21, 8080]\n",
      "Portok a clear műveletet követően: []\n"
     ]
    }
   ],
   "execution_count": 93
  },
  {
   "metadata": {},
   "cell_type": "markdown",
   "source": "### Tartalmi ellenőrzések (all, any)",
   "id": "cd7248372b27dbbc"
  },
  {
   "metadata": {
    "ExecuteTime": {
     "end_time": "2025-10-27T06:55:07.423157Z",
     "start_time": "2025-10-27T06:55:07.418459Z"
    }
   },
   "cell_type": "code",
   "source": [
    "alkatreszek = ['RAM memória', 'PCI kártya', 'SSD meghajtó', 'CPU']\n",
    "portok = [80, 443, 22, 21]\n",
    "\n",
    "# Vizsgáljuk meg, hogy mindegyik alkatrész neve min 3 karakter vagy hosszabb.\n",
    "mind_hosszabb = all(len(a) >= 3 for a in alkatreszek)\n",
    "print(f\"Minden alkatrész név hosszúsága (>=3): {mind_hosszabb}\")\n",
    "\n",
    "\n",
    "# Van-e alkalmazás port a listában\n",
    "van_alkalmazas_port = any(p > 1024 for p in portok)\n",
    "print(f\"Van-e alkalmazás port (>1024): {van_alkalmazas_port}\")\n",
    "\n",
    "print(\"any([])\", any([]))\n",
    "print(\"all([])\", all([]))\n"
   ],
   "id": "2d0aea13cef38e48",
   "outputs": [
    {
     "name": "stdout",
     "output_type": "stream",
     "text": [
      "Minden alkatrész név hosszúsága (>=3): True\n",
      "Van-e alkalmazás port (>1024): False\n",
      "any([]) False\n",
      "all([]) True\n"
     ]
    }
   ],
   "execution_count": 94
  },
  {
   "metadata": {},
   "cell_type": "markdown",
   "source": [
    "## List comprehensions\n",
    "A \"lista-értelmezés (?)\" egy tömör, olvasható és rendkívül gyors módja annak, hogy listákat hozzunk létre iterálható (bejárható) adatokból, opcionális szűréssel és transzformációval.\n"
   ],
   "id": "91372ddec0fcdb89"
  },
  {
   "metadata": {
    "ExecuteTime": {
     "end_time": "2025-10-27T06:55:07.444359Z",
     "start_time": "2025-10-27T06:55:07.441300Z"
    }
   },
   "cell_type": "code",
   "source": [
    "# transzformációhoz használt list comprehension\n",
    "alkatreszek = ['RAM memória', 'PCI kártya', 'hangkártya', 'CPU', 'SSD meghajtó']\n",
    "\n",
    "# Minden alkatrész nevét nagybetűssé tesszük\n",
    "alkatreszek_nagybetuvel = [nev.upper() for nev in alkatreszek]\n",
    "\n",
    "print(f\"Nagybetűs alkatrész nevek: {alkatreszek_nagybetuvel}\")"
   ],
   "id": "36beb48815a0c02f",
   "outputs": [
    {
     "name": "stdout",
     "output_type": "stream",
     "text": [
      "Nagybetűs alkatrész nevek: ['RAM MEMÓRIA', 'PCI KÁRTYA', 'HANGKÁRTYA', 'CPU', 'SSD MEGHAJTÓ']\n"
     ]
    }
   ],
   "execution_count": 95
  },
  {
   "metadata": {
    "ExecuteTime": {
     "end_time": "2025-10-27T06:55:07.470956Z",
     "start_time": "2025-10-27T06:55:07.466169Z"
    }
   },
   "cell_type": "code",
   "source": [
    "# szűréshez használt list comprehension\n",
    "portok = [80, 443, 22, 21, 8080, 3306]\n",
    "\n",
    "# csak a rendszerportokat szeretnénk meghagyni\n",
    "rendszer_portok = [p for p in portok if p < 1024]\n",
    "\n",
    "print(f\"Rendszer portok: {rendszer_portok}\")"
   ],
   "id": "1f16835374043cd2",
   "outputs": [
    {
     "name": "stdout",
     "output_type": "stream",
     "text": [
      "Rendszer portok: [80, 443, 22, 21]\n"
     ]
    }
   ],
   "execution_count": 96
  },
  {
   "metadata": {
    "ExecuteTime": {
     "end_time": "2025-10-27T06:55:07.487466Z",
     "start_time": "2025-10-27T06:55:07.484352Z"
    }
   },
   "cell_type": "code",
   "source": [
    "# feltételes transzformáció, tördelés az olvashatóságért (Readability counts.)\n",
    "matrix = [\n",
    "    [3, -5, 2],\n",
    "    [0, 15, -1],\n",
    "    [-4, 0, 7]\n",
    "]\n",
    "\n",
    "# csak a pozitív számokat gyűjtjük ki a mátrixból\n",
    "pozitiv_szamok = [elem \\\n",
    "                  for sor in matrix \\\n",
    "                  for elem in sor \\\n",
    "                  if elem > 0]\n",
    "\n",
    "print(f\"Pozitív számok a mátrixból: {pozitiv_szamok}\")"
   ],
   "id": "1e13633742b1a2f0",
   "outputs": [
    {
     "name": "stdout",
     "output_type": "stream",
     "text": [
      "Pozitív számok a mátrixból: [3, 2, 15, 7]\n"
     ]
    }
   ],
   "execution_count": 97
  },
  {
   "metadata": {
    "ExecuteTime": {
     "end_time": "2025-10-27T06:55:07.501733Z",
     "start_time": "2025-10-27T06:55:07.498742Z"
    }
   },
   "cell_type": "code",
   "source": [
    "# feltételes értékadás\n",
    "portok = [80, 22, 1025, 443, 8080]\n",
    "port_kategoriak = [\n",
    "    \"Rendszerport\" if port <= 1024 else \"Alkalmazásport\"\n",
    "    for port in portok\n",
    "]\n",
    "\n",
    "print(f\"Vizsgált portok: {portok}\")\n",
    "print(f\"Kategóriák: {port_kategoriak}\")"
   ],
   "id": "856baca115047891",
   "outputs": [
    {
     "name": "stdout",
     "output_type": "stream",
     "text": [
      "Vizsgált portok: [80, 22, 1025, 443, 8080]\n",
      "Kategóriák: ['Rendszerport', 'Rendszerport', 'Alkalmazásport', 'Rendszerport', 'Alkalmazásport']\n"
     ]
    }
   ],
   "execution_count": 98
  },
  {
   "metadata": {},
   "cell_type": "markdown",
   "source": "## Listák másolása (+ mutable vs immutable) - középhaladó téma",
   "id": "1a00151286438581"
  },
  {
   "metadata": {
    "ExecuteTime": {
     "end_time": "2025-10-27T06:55:07.529354Z",
     "start_time": "2025-10-27T06:55:07.524129Z"
    }
   },
   "cell_type": "code",
   "source": [
    "# az int immutable Pythonban\n",
    "x: int = 1\n",
    "print(f\"x kezdeti értéke {x} és annak az objektumnak a címe ahová mutat: {id(x)}\")\n",
    "\n",
    "x += 1\n",
    "print(f\"x módosított értéke {x} és annak az új objektumnak a címe ahová mutat: {id(x)}\")\n",
    "\n",
    "# az str is immutable Pythonban\n",
    "s:str = \"web\"\n",
    "print(id(s))\n",
    "\n",
    "s = s + \"kamera\"\n",
    "print(s)\n",
    "print(id(s))\n",
    "\n",
    "# a lista objektum módosítható, mutable\n",
    "l:list = [1, 2, 3, 4, 5]\n",
    "print(f\"l kezdeti értéke {l} és annak az objektumnak a címe ahová mutat: {id(l)}\")\n",
    "\n",
    "l.append(-1)\n",
    "print(f\"l módosított értéke {l} és annak az objektumnak a címe ahová mutat: {id(l)}\")\n",
    "\n",
    "# \"pro\" észrevétel, Python ínyencség\n",
    "l = l + [7, 8]\n",
    "print(f\"l módosított értéke {l} és annak az objektumnak a címe ahová mutat: {id(l)}\")\n",
    "l += [9, 9]\n",
    "print(f\"l módosított értéke {l} és annak az objektumnak a címe ahová mutat: {id(l)}\")\n",
    "# fontos a \"+=\" vagy l.extend() helyben módosítja a listát\n"
   ],
   "id": "f15ac3c28154ee12",
   "outputs": [
    {
     "name": "stdout",
     "output_type": "stream",
     "text": [
      "x kezdeti értéke 1 és annak az objektumnak a címe ahová mutat: 4475386024\n",
      "x módosított értéke 2 és annak az új objektumnak a címe ahová mutat: 4475386056\n",
      "4456913760\n",
      "webkamera\n",
      "4528468848\n",
      "l kezdeti értéke [1, 2, 3, 4, 5] és annak az objektumnak a címe ahová mutat: 4528170304\n",
      "l módosított értéke [1, 2, 3, 4, 5, -1] és annak az objektumnak a címe ahová mutat: 4528170304\n",
      "l módosított értéke [1, 2, 3, 4, 5, -1, 7, 8] és annak az objektumnak a címe ahová mutat: 4528457344\n",
      "l módosított értéke [1, 2, 3, 4, 5, -1, 7, 8, 9, 9] és annak az objektumnak a címe ahová mutat: 4528457344\n"
     ]
    }
   ],
   "execution_count": 99
  },
  {
   "metadata": {},
   "cell_type": "markdown",
   "source": "### Shallow copy",
   "id": "fda9c0f0a053a50b"
  },
  {
   "metadata": {
    "ExecuteTime": {
     "end_time": "2025-10-27T06:55:07.598825Z",
     "start_time": "2025-10-27T06:55:07.594566Z"
    }
   },
   "cell_type": "code",
   "source": [
    "a = [1, 2, 3]\n",
    "print(type(a[0]))\n",
    "b = a[:]\n",
    "b[0] = -1\n",
    "b.append(4)\n",
    "print(f\"Az 'a' lista tartalma {a} és címe {id(a)}. a[0] címe {id(a[0])}.\")\n",
    "print(f\"A 'b' lista tartalma {b} és címe {id(b)}. b[0] címe {id(b[0])}.\")\n",
    "# 'a' nem változik, mert az int immutable\n",
    "\n",
    "a = [[1, 2], [3, 4]]\n",
    "b = a[:]\n",
    "b[0][0] = -1\n",
    "print(f\"Az 'a' lista tartalma {a} és címe {id(a)}. a[0] címe {id(a[0])}.\")\n",
    "print(f\"A 'b' lista tartalma {b} és címe {id(b)}. b[0] címe {id(b[0])}.\")\n",
    "# 'a' változik, mert a belső lista [1, 2] mutable\n"
   ],
   "id": "c1f284f07ffff93b",
   "outputs": [
    {
     "name": "stdout",
     "output_type": "stream",
     "text": [
      "<class 'int'>\n",
      "Az 'a' lista tartalma [1, 2, 3] és címe 4528463040. a[0] címe 4475386024.\n",
      "A 'b' lista tartalma [-1, 2, 3, 4] és címe 4527605504. b[0] címe 4475385960.\n",
      "Az 'a' lista tartalma [[-1, 2], [3, 4]] és címe 4528620864. a[0] címe 4528329536.\n",
      "A 'b' lista tartalma [[-1, 2], [3, 4]] és címe 4527606528. b[0] címe 4528329536.\n"
     ]
    }
   ],
   "execution_count": 100
  },
  {
   "metadata": {},
   "cell_type": "markdown",
   "source": "### Deep copy",
   "id": "c5638a1abd24361"
  },
  {
   "metadata": {
    "ExecuteTime": {
     "end_time": "2025-10-27T06:55:07.620062Z",
     "start_time": "2025-10-27T06:55:07.611044Z"
    }
   },
   "cell_type": "code",
   "source": [
    "import copy\n",
    "\n",
    "a = [[1, 2], [3, 4]]\n",
    "b = copy.deepcopy(a)\n",
    "\n",
    "b[0][0] = -1\n",
    "\n",
    "print(f\"Az 'a' lista tartalma {a} és címe {id(a)}. a[0] címe {id(a[0])}.\")\n",
    "print(f\"A 'b' lista tartalma {b} és címe {id(b)}. b[0] címe {id(b[0])}.\")"
   ],
   "id": "dd770b6bd90e25ff",
   "outputs": [
    {
     "name": "stdout",
     "output_type": "stream",
     "text": [
      "Az 'a' lista tartalma [[1, 2], [3, 4]] és címe 4528628928. a[0] címe 4528339904.\n",
      "A 'b' lista tartalma [[-1, 2], [3, 4]] és címe 4528621440. b[0] címe 4528337280.\n"
     ]
    }
   ],
   "execution_count": 101
  },
  {
   "metadata": {},
   "cell_type": "markdown",
   "source": [
    "## Gyakorló feladatok\n",
    "**Feladat 1**:\n",
    "Írjunk egy rövid, hatékony Python kódot, amely eldönti, hogy egy adott lista kizárólag egész számokat (int) és None értékeket tartalmaz-e.\n",
    "```\n",
    "Bemenet 1: [1, None, None, -1, 'Alma']. Elvárt kimenet 1:False\n",
    "Bemenet 2: [1, -2, None, -1, None]. Elvárt kimenet 1:True\n",
    "```\n",
    "Ötlet: használjuk az `isinstance()` és `all()` függvényeket.\n"
   ],
   "id": "d7314e69be1edc48"
  },
  {
   "metadata": {
    "ExecuteTime": {
     "end_time": "2025-10-27T06:55:07.650452Z",
     "start_time": "2025-10-27T06:55:07.648753Z"
    }
   },
   "cell_type": "code",
   "source": "",
   "id": "1ea07a2398c5bbcc",
   "outputs": [],
   "execution_count": null
  }
 ],
 "metadata": {
  "kernelspec": {
   "display_name": "Python 3",
   "language": "python",
   "name": "python3"
  },
  "language_info": {
   "codemirror_mode": {
    "name": "ipython",
    "version": 2
   },
   "file_extension": ".py",
   "mimetype": "text/x-python",
   "name": "python",
   "nbconvert_exporter": "python",
   "pygments_lexer": "ipython2",
   "version": "2.7.6"
  }
 },
 "nbformat": 4,
 "nbformat_minor": 5
}
