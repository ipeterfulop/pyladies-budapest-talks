{
 "cells": [
  {
   "metadata": {
    "collapsed": true,
    "ExecuteTime": {
     "end_time": "2025-10-27T00:14:43.945478Z",
     "start_time": "2025-10-27T00:14:43.940396Z"
    }
   },
   "cell_type": "markdown",
   "source": [
    "- Szótárak használata Pythonban\n",
    "  - Szótárak inicializálása\n",
    "    - Inicializálás `{}` használatával\n",
    "    - Inicializálás `dict()` konstruktor használatával\n",
    "  - Alapműveletek szótárakkal\n",
    "    - Elem elérése és hozzáadása/módosítása\n",
    "    - Bejárás\n",
    "    - Törlés és eltávolítás\n",
    "    - Tartalmi ellenőrzések\n",
    "  - Dictionary comprehensions (A szótár-értelmezés)\n",
    "  - Gyakorló feladatok"
   ],
   "id": "24a97f94b5d488f3"
  },
  {
   "metadata": {},
   "cell_type": "markdown",
   "source": [
    "# Szótárak használata Pythonban\n",
    "\n",
    "A szótár az egyik leggyakrabban használt adatstruktúra a Pythonban.\n",
    "Kulcs–érték párokat tárol, és a 3.7-es verziótól kezdve megőrzi az elemek sorrendjét is.\n",
    "Az alábbiakban áttekintjük, hogyan működik, és miért hasznos a használata."
   ],
   "id": "3e6ba1a12fdf2307"
  },
  {
   "metadata": {},
   "cell_type": "markdown",
   "source": "## Szótárak inicializálása",
   "id": "1a798c3f0245c847"
  },
  {
   "metadata": {},
   "cell_type": "markdown",
   "source": "### Inicializálás {} használatával",
   "id": "afd809720d4f3bc4"
  },
  {
   "metadata": {},
   "cell_type": "code",
   "source": [
    "# üres szótár inicializálása\n",
    "ures_szotar = {}\n",
    "print(type(ures_szotar))\n",
    "print(ures_szotar)"
   ],
   "id": "86168710d6d55981",
   "outputs": [],
   "execution_count": null
  },
  {
   "metadata": {},
   "cell_type": "code",
   "source": [
    "# szótár inicializálása azonos típusú kulcsokkal\n",
    "alkatresz_spec = {\n",
    "    'CPU': 'Intel Core i9',\n",
    "    'RAM': 64,\n",
    "    'SSD': 'Samsung 990 Pro',\n",
    "    'GPU': 'RTX 4070'\n",
    "}\n",
    "print(type(alkatresz_spec['CPU']))\n",
    "print(f\"RAM mérete (GB): {alkatresz_spec['RAM']}\")\n",
    "\n",
    "# szótár inicializálása int kulcsokkal\n",
    "port_leirasok = {\n",
    "    80: 'HTTP',\n",
    "    443: 'HTTPS/SSL',\n",
    "    22: 'SSH',\n",
    "    21: 'FTP'\n",
    "}\n",
    "print(type(port_leirasok[80]))\n",
    "print(f\"443-as port: {port_leirasok[443]} protokoll\")\n",
    "\n",
    "# A kulcsok nem lehetnek megváltoztathatók (mutable), pl. lista nem lehet kulcs.\n",
    "# Az értékek azonban bármilyen típusúak lehetnek, akár listák vagy más szótárak is.\n",
    "projekt_fajlok = {\n",
    "    'Projekt A': ['kereses.py', 'adatbazis.py'],\n",
    "    'Projekt B': ['readme.md', 'main.py', 'config.ini']\n",
    "}\n",
    "\n",
    "for projekt, fajlok in projekt_fajlok.items():\n",
    "    print(f\"'{projekt}' fájljai: {fajlok} (típusa: {type(fajlok)})\")"
   ],
   "id": "6a0c7ed06f61339a",
   "outputs": [],
   "execution_count": null
  },
  {
   "metadata": {},
   "cell_type": "markdown",
   "source": "### Inicializálás `dict()` konstruktor használatával",
   "id": "965a71f7cc7c15b0"
  },
  {
   "metadata": {},
   "cell_type": "code",
   "source": [
    "# üres szótár inicializálása\n",
    "ures_szotar_2 = dict()\n",
    "print(type(ures_szotar_2))\n",
    "print(ures_szotar_2)\n",
    "\n",
    "# szótár létrehozása kulcsszavas argumentumokkal (a kulcsok itt stringek lesznek)\n",
    "protokoll_verzio = dict(http=1.1, ssh=2.0, ftp=3.0)\n",
    "print(f\"Protokoll verziók: {protokoll_verzio}\")\n",
    "\n",
    "# szótár létrehozása két-elemű tuple-ök listájából (A tuple-t később részletesen tárgyaljuk)\n",
    "port_szam_nevvel = [(8080, 'Proxy'), (3306, 'MySQL'), (5432, 'PostgreSQL')]\n",
    "portok = dict(port_szam_nevvel)\n",
    "print(f\"Portok szótárként: {portok}\")"
   ],
   "id": "d95db8d895c3bd0f",
   "outputs": [],
   "execution_count": null
  },
  {
   "metadata": {},
   "cell_type": "markdown",
   "source": "## Alapműveletek szótárakkal",
   "id": "21d091bd7f649709"
  },
  {
   "metadata": {},
   "cell_type": "markdown",
   "source": "### Elem elérése és hozzáadása/módosítása",
   "id": "43bf8b23e8483562"
  },
  {
   "metadata": {
    "ExecuteTime": {
     "end_time": "2025-10-28T06:43:49.475649Z",
     "start_time": "2025-10-28T06:43:49.469958Z"
    }
   },
   "cell_type": "code",
   "source": [
    "pc_konfiguracio = {\n",
    "    'CPU': 'Intel Core i9',\n",
    "    'RAM': 64,\n",
    "    'SSD': 'Samsung 990 Pro'\n",
    "}\n",
    "print(f\"Jelenlegi CPU: {pc_konfiguracio['CPU']}\")"
   ],
   "id": "2e9e6979507fc8be",
   "outputs": [
    {
     "name": "stdout",
     "output_type": "stream",
     "text": [
      "Jelenlegi CPU: Intel Core i9\n"
     ]
    }
   ],
   "execution_count": 3
  },
  {
   "metadata": {
    "ExecuteTime": {
     "end_time": "2025-10-28T06:45:03.392831Z",
     "start_time": "2025-10-28T06:45:03.380634Z"
    }
   },
   "cell_type": "code",
   "source": [
    "\n",
    "# Elem hozzáadása (új kulcs-érték párt definiálunk)\n",
    "pc_konfiguracio['Hangkártya'] = 'Sound Blaster Z'\n",
    "print(f\"\\nÚj érték-kulcs hozzáadva: {pc_konfiguracio}. Szótár memória címe: {id(pc_konfiguracio)}\")\n",
    "\n",
    "pc_konfiguracio = pc_konfiguracio | {'GPU': 'NVIDIA RTX 4070', 'Tápegység': '750W'}\n",
    "print(f\"\\nTovábbi elemek hozzáadva (merge operátor): {pc_konfiguracio}.\\nSzótár memória címe: {id(pc_konfiguracio)}\")\n",
    "\n",
    "# dict.update(): új elemeket hozzáadja, a meglévőket frissíti\n",
    "pc_konfiguracio.update({'Hűtés': 'Víz hűtés', 'Alaplap': 'ASUS ROG Strix Z790-E', 'CPU': 'Intel Core i7'})\n",
    "print(f\"\\nTovábbi elemek hozzáadva (update metódus): {pc_konfiguracio}.\\nSzótár memória címe: {id(pc_konfiguracio)}\")\n",
    "\n",
    "# Meglévő elem módosítása\n",
    "pc_konfiguracio['RAM'] = 128\n",
    "print(f\"\\nRAM frissítve: {pc_konfiguracio}\")\n"
   ],
   "id": "6a5c332bb939ced4",
   "outputs": [
    {
     "name": "stdout",
     "output_type": "stream",
     "text": [
      "\n",
      "Új érték-kulcs hozzáadva: {'CPU': 'Intel Core i7', 'RAM': 128, 'SSD': 'Samsung 990 Pro', 'Hangkártya': 'Sound Blaster Z', 'GPU': 'NVIDIA RTX 4070', 'Tápegység': '750W', 'Hűtés': 'Víz hűtés', 'Alaplap': 'ASUS ROG Strix Z790-E'}. Szótár memória címe: 4604932480\n",
      "\n",
      "További elemek hozzáadva (merge operátor): {'CPU': 'Intel Core i7', 'RAM': 128, 'SSD': 'Samsung 990 Pro', 'Hangkártya': 'Sound Blaster Z', 'GPU': 'NVIDIA RTX 4070', 'Tápegység': '750W', 'Hűtés': 'Víz hűtés', 'Alaplap': 'ASUS ROG Strix Z790-E'}.\n",
      "Szótár memória címe: 4604935360\n",
      "\n",
      "További elemek hozzáadva (update metódus): {'CPU': 'Intel Core i7', 'RAM': 128, 'SSD': 'Samsung 990 Pro', 'Hangkártya': 'Sound Blaster Z', 'GPU': 'NVIDIA RTX 4070', 'Tápegység': '750W', 'Hűtés': 'Víz hűtés', 'Alaplap': 'ASUS ROG Strix Z790-E'}.\n",
      "Szótár memória címe: 4604935360\n",
      "\n",
      "RAM frissítve: {'CPU': 'Intel Core i7', 'RAM': 128, 'SSD': 'Samsung 990 Pro', 'Hangkártya': 'Sound Blaster Z', 'GPU': 'NVIDIA RTX 4070', 'Tápegység': '750W', 'Hűtés': 'Víz hűtés', 'Alaplap': 'ASUS ROG Strix Z790-E'}\n"
     ]
    }
   ],
   "execution_count": 5
  },
  {
   "metadata": {
    "ExecuteTime": {
     "end_time": "2025-10-28T06:45:09.946225Z",
     "start_time": "2025-10-28T06:45:09.939395Z"
    }
   },
   "cell_type": "code",
   "source": [
    "# Hibakezelés: ha nem létező kulcsot kérünk le, az KeyError-t okoz.\n",
    "kulcs = 'Monitor'\n",
    "# print(pc_konfiguracio[kulcs])\n",
    "\n",
    "# elkerülhető a hiba a get() metódussal, amely visszaad egy alapértelmezett értéket, ha a kulcs nem létezik\n",
    "print(f\"{kulcs}: {pc_konfiguracio.get(kulcs, 'Nem elérhető')}\")\n",
    "\n",
    "# Alternatív megoldás: try-except blokk használata\n",
    "try:\n",
    "    print(pc_konfiguracio[kulcs])\n",
    "except KeyError:\n",
    "    print(f\"Hiba: A '{kulcs}' kulcs nem található a szótárban.\")"
   ],
   "id": "1b816ed8fc8f18e",
   "outputs": [
    {
     "name": "stdout",
     "output_type": "stream",
     "text": [
      "Monitor: Nem elérhető\n",
      "Hiba: A 'Monitor' kulcs nem található a szótárban.\n"
     ]
    }
   ],
   "execution_count": 6
  },
  {
   "metadata": {},
   "cell_type": "code",
   "source": "",
   "id": "9099f066149966b2",
   "outputs": [],
   "execution_count": null
  },
  {
   "metadata": {},
   "cell_type": "code",
   "source": [
    "# a collections standard modul egy beépített modul,\n",
    "# amely a szabványos beépített konténer adattípusok (dict, list, tuple, set)\n",
    "# kibővített, nagy teljesítményű, speciális változatát tartalmazza.\n",
    "from collections import defaultdict\n",
    "\n",
    "# Key error elkerülése defaultdict használatával\n",
    "pc_konfiguracio_dd = defaultdict(str)\n",
    "\n",
    "# Adatok feltöltése (ugyanúgy, mint egy normál dict esetében)\n",
    "pc_konfiguracio_dd['CPU'] = 'Intel Core i9-13900K'\n",
    "pc_konfiguracio_dd['RAM'] = '32'\n",
    "pc_konfiguracio_dd['SSD'] = 'Samsung 990 Pro'\n",
    "\n",
    "print(f\"Kezdeti szótár: {dict(pc_konfiguracio_dd)}\")\n",
    "\n",
    "# meglévő elem módosítása (ugyanúgy működik, mint a sima dict)\n",
    "pc_konfiguracio_dd['RAM'] = '128'\n",
    "print(f\"\\nRAM frissítve (új érték: {pc_konfiguracio_dd['RAM']})\")\n",
    "\n",
    "# hiányzó kulcs lekérdezése defaultdict-tal\n",
    "kulcs = 'Monitor'\n",
    "# Amikor lekérdezzük a 'Monitor' kulcsot, a defaultdict AUTOMATIKUSAN létrehozza a kulcsot\n",
    "# és a megadott alapértelmezett (str()) értékkel inicializálja, majd visszaadja az értéket.\n",
    "print(f\"Lekérdezett alkatrész ({kulcs}): {pc_konfiguracio_dd[kulcs]}\")"
   ],
   "id": "434c31eaedcd6670",
   "outputs": [],
   "execution_count": null
  },
  {
   "metadata": {},
   "cell_type": "markdown",
   "source": "### Bejárás",
   "id": "dc8efeeb59d0cc9f"
  },
  {
   "metadata": {},
   "cell_type": "code",
   "source": [
    "protokoll_portok = {80: 'HTTP', 443: 'HTTPS/SSL', 22: 'SSH', 21: 'FTP'}\n",
    "print(f\"Protokoll portok szótár: {protokoll_portok}\")\n",
    "\n",
    "# bejárás a KULCSOKON (alapértelmezett)\n",
    "print(\"Bejárás KULCSOKON:\")\n",
    "for portszam in protokoll_portok:\n",
    "    print(f\"Port szám: {portszam}\")\n",
    "\n",
    "# bejárás az ÉRTÉKEKEN (values())\n",
    "print(\"\\nBejárás ÉRTÉKEKEN (values()):\")\n",
    "for protokoll in protokoll_portok.values():\n",
    "    print(f\"Protokoll: {protokoll}\")\n",
    "\n",
    "# bejárás KULCS-ÉRTÉK PÁROKON (items()) - gyakran használt bejárási mód\n",
    "print(\"\\nBejárás KULCS-ÉRTÉK párokon (items()):\")\n",
    "for port_szam, protokoll in protokoll_portok.items():\n",
    "    print(f\"A {port_szam} port a {protokoll} protokollhoz tartozik.\")\n",
    "\n",
    "# bejárás és kulcsos elérés (nem javasolt, ha van items())\n",
    "print(\"\\nBejárás kulcsok és indexing segítségével (nem javasolt, nem elegáns):\")\n",
    "for kulcs in protokoll_portok.keys():\n",
    "    print(f\"Kulcs: {kulcs}, Érték: {protokoll_portok[kulcs]}\")"
   ],
   "id": "dff0018deb8ecf0a",
   "outputs": [],
   "execution_count": null
  },
  {
   "metadata": {},
   "cell_type": "markdown",
   "source": "### Törlés és eltávolítás",
   "id": "31be9722f66c8b0d"
  },
  {
   "metadata": {},
   "cell_type": "code",
   "source": [
    "apple_macbook = {\n",
    "    'CPU': 'Apple M4 Pro',\n",
    "    'RAM': 24,\n",
    "    'SSD': '512GB SSD',\n",
    "    'notebook típus': 'MacBook Pro laptop',\n",
    "    'kijelző méret': 14.0,\n",
    "    'GPU': '16 magos',\n",
    "    'CPU magok': 12,\n",
    "    'OS': 'macOS',\n",
    "    'ár(Ft)': 869090\n",
    "}\n",
    "print(f\"\\nEredeti állapot: {apple_macbook}\")\n",
    "del apple_macbook['OS']\n",
    "print(f\"\\nEltávolítva az OS kulcs: {apple_macbook}\")\n",
    "\n",
    "tipus = apple_macbook.pop('notebook típus')\n",
    "print(f\"\\nEltávolítva a notebook típus kulcs: {tipus}, maradt: {apple_macbook}\")"
   ],
   "id": "17c51e91a85bbf95",
   "outputs": [],
   "execution_count": null
  },
  {
   "metadata": {},
   "cell_type": "markdown",
   "source": "### Tartalmi ellenőrzések",
   "id": "6b6fd0d20adb8944"
  },
  {
   "metadata": {},
   "cell_type": "code",
   "source": [
    "pc_konfiguracio = {\n",
    "    'CPU': 'Intel Core i9',\n",
    "    'RAM': 64,\n",
    "    'SSD': 'Samsung 990 Pro'\n",
    "}\n",
    "\n",
    "# Kulcs létezik-e? (nagyon hatékony O(1) művelet)\n",
    "keresett_kulcs = 'GPU'\n",
    "print(f\"A {keresett_kulcs} kulcs létezik-e? {keresett_kulcs in pc_konfiguracio}\")"
   ],
   "id": "27deff1163de24f4",
   "outputs": [],
   "execution_count": null
  },
  {
   "metadata": {},
   "cell_type": "code",
   "source": [
    "# érték létezik-e? (kevésbé hatékony)\n",
    "keresett_ertek = 64\n",
    "print(f\"A '{keresett_ertek}' érték létezik-e? {keresett_ertek in pc_konfiguracio.values()}\")"
   ],
   "id": "990765e6e2b14a57",
   "outputs": [],
   "execution_count": null
  },
  {
   "metadata": {},
   "cell_type": "code",
   "source": [
    "# minden elem megfelel-e a feltételnek?\n",
    "notebook_ertekelesek = {\n",
    "    'Apple M4 Pro': 99.3,\n",
    "    'Lenovo V15 G4 Laptop': 45.3,\n",
    "    'HP 255 G10 Laptop': 30,\n",
    "    'Lenovo IdeaPad Slim 3': 78.5,\n",
    "    'Acer Aspire 1': 25,\n",
    "    'Dell XPS 13': 95.0\n",
    "}\n",
    "\n",
    "minden_pontszam_numerikus_e = all(isinstance(pontszam, (int, float)) \\\n",
    "                       for pontszam in notebook_ertekelesek.values())\n",
    "print(f\"Minden pontszám numerikus? (True/False): {minden_pontszam_numerikus_e}\")\n"
   ],
   "id": "1340262e1b9010a2",
   "outputs": [],
   "execution_count": null
  },
  {
   "metadata": {},
   "cell_type": "code",
   "source": [
    "# van-e olyan laptop, aminek 99 feletti a pontszáma?\n",
    "notebook_kuszobertek = 99\n",
    "van_kiemelkedo = any(pontszam > notebook_kuszobertek for pontszam in notebook_ertekelesek.values())\n",
    "print(f\"Van-e notebook {notebook_kuszobertek} feletti pontszámmal? (True): {van_kiemelkedo}\")"
   ],
   "id": "ff8806fc1a10c853",
   "outputs": [],
   "execution_count": null
  },
  {
   "metadata": {},
   "cell_type": "markdown",
   "source": "## Dictionary comprehensions (A szótár-értelmezés)",
   "id": "54dfc59cd94baaf1"
  },
  {
   "metadata": {},
   "cell_type": "code",
   "source": [
    "# 1. szótár-értelmezés használata kulcsok és értékek felcserélésére.\n",
    "\n",
    "port_protokoll = {80: 'HTTP', 443: 'HTTPS', 22: 'SSH'}\n",
    "print(f\"Eredeti szótár: {port_protokoll}\")\n",
    "\n",
    "# a kulcsok és értékek felcserélése\n",
    "protokoll_portok = {\n",
    "    protokoll: port\n",
    "    for port, protokoll in port_protokoll.items()\n",
    "}\n",
    "print(f\"Felcserélt szótár: {protokoll_portok}\")"
   ],
   "id": "42cfd97bb0930df8",
   "outputs": [],
   "execution_count": null
  },
  {
   "metadata": {},
   "cell_type": "code",
   "source": [
    "\n",
    "# 2. szótár-értelmezés használata egy `if` feltétellel a kulcs-érték párok szűrésére.\n",
    "\n",
    "notebook_ar = {\n",
    "    'Lenovo V15 G4 Laptop': 152_990,\n",
    "    'HP 255 G10 Laptop': 198_990,\n",
    "    'Lenovo IdeaPad Slim 3 15IRU8 Laptop': 117_990,\n",
    "    'Acer Aspire 1 - A114-33-C0ZR': 85_000\n",
    "}\n",
    "ar_kuszobertek = 150_000\n",
    "\n",
    "# Csak a ar_kuszobertek alatti árú notebookok megtartása (olcsó kategória)\n",
    "olcso_notebookok = {\n",
    "    nev: ar\n",
    "    for nev, ar in notebook_ar.items()\n",
    "    if ar < ar_kuszobertek\n",
    "}\n",
    "\n",
    "print(f\"Eredeti árlista: {notebook_ar}\")\n",
    "print(f\"Olcsó notebookok (ár < {ar_kuszobertek}): {olcso_notebookok}\")"
   ],
   "id": "e8b898a4895787fd",
   "outputs": [],
   "execution_count": null
  },
  {
   "metadata": {},
   "cell_type": "code",
   "source": [
    "# 3. feltételes értékadás (inline if-else)\n",
    "portok = [80, 22, 1025, 443, 8080]\n",
    "\n",
    "# minden portot minősítünk Rendszerportnak vagy Alkalmazásportnak a port számától függően\n",
    "port_besorolasok = {\n",
    "    port: \"Rendszerport\" if port <= 1024 else \"Alkalmazásport\"\n",
    "    for port in portok\n",
    "}\n",
    "print(f\"Port besorolások: {port_besorolasok}\")\n"
   ],
   "id": "e80ce53046bd678",
   "outputs": [],
   "execution_count": null
  },
  {
   "metadata": {},
   "cell_type": "markdown",
   "source": "## Gyakorló feladatok",
   "id": "e9052b4c10a6f1ab"
  },
  {
   "metadata": {},
   "cell_type": "markdown",
   "source": [
    "D1. Adott egy lista, amely `n` véletlenszerűen generált számot tartalmaz, a `min_ertek` és `max_ertek` között.\n",
    "\n",
    "-  Építs egy szótárat, amely a számokat kulcsként, és azok előfordulási gyakoriságát értékként tárolja.\n",
    "Példa bemenet: `n=6, min_ertek = 1, max_ertek = 10, szamok = [5, 5, 3, 7, 5, 3]`\n",
    "Várt kimenet: `{5: 3, 3: 2, 7: 1}`\n",
    "- Old meg, hogy az előfordulási gyakoriságot a számok növekvő sorrendjében jelenítse meg a szótár, azaz a kulcsok rendezve legyenek. Fenti példa kimenete ekkor: `{3: 2, 5: 3, 7: 1}`"
   ],
   "id": "3c49ce5449228454"
  },
  {
   "metadata": {},
   "cell_type": "code",
   "source": [
    "from random import randint\n",
    "from collections import defaultdict\n",
    "n=20\n",
    "min_ertek = 1\n",
    "max_ertek = 10\n",
    "\n",
    "szamok = [randint(min_ertek, max_ertek) for _ in range(n)]\n",
    "print(f\"Generált számok: {szamok}\")\n",
    "\n",
    "# Írd ide a megoldást!\n"
   ],
   "id": "2e8f6f914cc38923",
   "outputs": [],
   "execution_count": null
  }
 ],
 "metadata": {
  "kernelspec": {
   "display_name": "Python 3",
   "language": "python",
   "name": "python3"
  },
  "language_info": {
   "codemirror_mode": {
    "name": "ipython",
    "version": 2
   },
   "file_extension": ".py",
   "mimetype": "text/x-python",
   "name": "python",
   "nbconvert_exporter": "python",
   "pygments_lexer": "ipython2",
   "version": "2.7.6"
  }
 },
 "nbformat": 4,
 "nbformat_minor": 5
}
