{
 "cells": [
  {
   "metadata": {
    "collapsed": true
   },
   "cell_type": "markdown",
   "source": [
    "# Set (halmaz) használata Pythonban\n",
    "A **set** (halmaz) egy **rendezetlen** gyűjtemény, amely **csak egyedi** elemeket tárolhat. Nincs indexelése, és elemei **immutable** objektumok kell legyenek (pl. lista nem lehet set eleme, de tuple igen). A halmazok fő előnye a **rendkívül gyors ellenőrzése annak hogy adott elem szerepel-e benne vagy sem**."
   ],
   "id": "dc6d027886b69e"
  },
  {
   "metadata": {},
   "cell_type": "markdown",
   "source": "",
   "id": "749240abde953765"
  }
 ],
 "metadata": {
  "kernelspec": {
   "display_name": "Python 3",
   "language": "python",
   "name": "python3"
  },
  "language_info": {
   "codemirror_mode": {
    "name": "ipython",
    "version": 2
   },
   "file_extension": ".py",
   "mimetype": "text/x-python",
   "name": "python",
   "nbconvert_exporter": "python",
   "pygments_lexer": "ipython2",
   "version": "2.7.6"
  }
 },
 "nbformat": 4,
 "nbformat_minor": 5
}
