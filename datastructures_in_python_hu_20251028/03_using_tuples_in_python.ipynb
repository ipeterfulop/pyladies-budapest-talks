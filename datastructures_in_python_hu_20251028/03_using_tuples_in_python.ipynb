{
 "cells": [
  {
   "metadata": {
    "collapsed": true
   },
   "cell_type": "markdown",
   "source": [
    "# A `tuple` használata Pythonban\n",
    "A tuple a lista testvére: rendezett, indexelhető gyűjtemény, amely **NEM** módosítható a létrehozása után. Emiatt a tuple az **immutable** típusok közé tartozik."
   ],
   "id": "f09acc62b3f556c2"
  },
  {
   "metadata": {},
   "cell_type": "markdown",
   "source": "## Tuple inicializálása",
   "id": "81dc819a4a4d5a70"
  },
  {
   "metadata": {},
   "cell_type": "markdown",
   "source": "### Inicializálás `()` zárójelek használatával",
   "id": "4493d970332332d6"
  },
  {
   "metadata": {},
   "cell_type": "code",
   "source": [
    "# üres tuple inicializálása\n",
    "ures_tuple = ()\n",
    "print(type(ures_tuple))\n",
    "print(ures_tuple)\n",
    "\n",
    "# egyetlen elemű tuple-höz vessző kell, különben a zárójelet csak csoportosításra használja a Python.\n",
    "egy_elem_tuple = ('monitor',)\n",
    "print(f\"Egy elemet tartalmazó tuple: {egy_elem_tuple} típusa: {type(egy_elem_tuple)}\")\n",
    "\n",
    "ez_nem_egy_tuple = ('monitor')\n",
    "print(f\"Zárójeles string: '{ez_nem_egy_tuple}' típusa: {type(ez_nem_egy_tuple)}\")\n"
   ],
   "id": "65556d29a021f774",
   "outputs": [],
   "execution_count": null
  },
  {
   "metadata": {},
   "cell_type": "code",
   "source": [
    "# tuple inicializálása azonotos típusú elemekkel (int)\n",
    "portok = (80, 443, 22, 21)\n",
    "print(f\"Portok: {portok}\")\n",
    "\n",
    "# tuple inicializálása string elemekkel (hardver komponensek)\n",
    "notebook_komponensek = ('RAM memória', 'PCI kártya', 'SSD meghajtó', 'CPU')\n",
    "print(f\"Notebook komponensek: {notebook_komponensek}\")\n",
    "#\n",
    "# A tuple eltérő típusú adatok tárolására is alkalmas, gyakori a fix rekordok tárolása.\n",
    "vegyes_konfiguracio = ('MacBook Pro', 14.0, 'Apple M4 Pro', 24, 512, True)\n",
    "for elem in vegyes_konfiguracio:\n",
    "    print(f\"<{elem}> típusa {type(elem)}\")"
   ],
   "id": "55069189cc3614c6",
   "outputs": [],
   "execution_count": null
  },
  {
   "metadata": {},
   "cell_type": "markdown",
   "source": "### Inicializálás `tuple()` konstruktor használatával",
   "id": "be1d7713f10ea4"
  },
  {
   "metadata": {},
   "cell_type": "code",
   "source": [
    "# üres tuple\n",
    "ures_tuple_2 = tuple()\n",
    "print(type(ures_tuple_2))\n",
    "print(ures_tuple_2)\n",
    "\n",
    "# tuple létrehozása stringből\n",
    "pc_komponens_betui = tuple('SSD meghajtó')\n",
    "print(f\"Stringből létrehozott tuple: {pc_komponens_betui} és típusa: {type(pc_komponens_betui)}\")\n",
    "\n",
    "# tuple létrehozása listából\n",
    "portok = [8080, 22, 3306]\n",
    "portok_tuple = tuple(portok)\n",
    "print(f\"Listából létrehozott tuple: {portok_tuple}\")\n",
    "\n",
    "# tuple létrehozása szótár kulcsaiból\n",
    "pc_konfiguracio = {\n",
    "    'CPU': 'Intel Core i9',\n",
    "    'RAM': 64,\n",
    "    'SSD': 'Samsung 990 Pro',\n",
    "    'kijelző méret': 14.5,\n",
    "}\n",
    "konfiguracio_kulcsok = tuple(pc_konfiguracio)\n",
    "print(f\"Szótár kulcsaiból létrehozott tuple: {konfiguracio_kulcsok}\")\n",
    "# a tuple() konstruktor a alapértelmezetten a szótár kulcsait használja\n",
    "\n",
    "# mi jön létre így?\n",
    "konfiguracio_kulcs_ertekek = tuple(pc_konfiguracio.items())\n",
    "print(f\"Szótár kulcs-érték párjaiból létrehozott tuple: {konfiguracio_kulcs_ertekek}\")"
   ],
   "id": "502dd95d61831d9e",
   "outputs": [],
   "execution_count": null
  },
  {
   "metadata": {},
   "cell_type": "markdown",
   "source": "## Alapműveletek tuple-ökkel",
   "id": "39b5b8e438281e8b"
  },
  {
   "metadata": {},
   "cell_type": "markdown",
   "source": "### Elem elérése (indexing) és szeletelés (slicing)",
   "id": "44ccebffaf4dd639"
  },
  {
   "metadata": {},
   "cell_type": "code",
   "source": [
    "szamitogep_komponensek = ('RAM memória', 'PCI kártya', 'SSD meghajtó', 'CPU')\n",
    "portok = (80, 443, 22, 3036, 8081, 21)\n",
    "\n",
    "# indexelés: Ugyanúgy működik, mint a listáknál\n",
    "print(f\"A 3. komponens: {szamitogep_komponensek[2]}\")\n",
    "print(f\"Az utolsó port: {portok[-1]}\")"
   ],
   "id": "eee7727cac98ae4e",
   "outputs": [],
   "execution_count": null
  },
  {
   "metadata": {},
   "cell_type": "markdown",
   "source": "## Mikor ...?",
   "id": "5d45dcbdc5c26ee0"
  },
  {
   "metadata": {},
   "cell_type": "markdown",
   "source": [
    "### Mikor ajánlott a tuple használata?\n",
    "\n",
    "- **adatbiztonság (immutability)**: ez a tuple legfőbb erőssége. Ha garantálni akjuk, hogy a gyűjtemény tartalma a létrehozás után nem változik meg, használjunka tuple-t. Példa:\n",
    "    -  konfigurációs beállítások\n",
    "    -  állandó adatok (pl. hónapok nevei), vagy\n",
    "    - függvények visszatérési értékei\n",
    "- **szótárkulcsok**: a standard Python szótárakhoz (dict) csak hash-elhető (immutable) objektumok használhatók kulcsként. Mivel a tuple immutable, használható szótárkulcsként. A lista viszont nem.\n",
    "- **teljesítmény**: a tuple-ok memóriában kisebb helyet foglalnak, és gyorsabban is kezelhetők, mint a listák. Például nagy, statikus adatsorok tárolásához, melyeket csak olvasni kell.\n",
    "-  több visszatérési értéket adó függvények visszatérési értékeként: a Python függvényekkel több értéket is visszaadhatsz egyetlen entitásként. Ez a Pythonban mindig implicit tuple-ként jön létre. Példa: `return x, y, hiba_kód`"
   ],
   "id": "a948b60be1c7d310"
  },
  {
   "metadata": {},
   "cell_type": "markdown",
   "source": [
    "### Mikor NEM ajánlott a tuple használata?\n",
    "- **gyakori módosítások**: ha a gyűjtemény tartalmát gyakran kell módosítani (hozzáadás, eltávolítás, frissítés) a program futása során, akkor a lista használata ajánlott, mivel a tuple nem módosítható."
   ],
   "id": "37ef17a94211309c"
  }
 ],
 "metadata": {
  "kernelspec": {
   "display_name": "Python 3",
   "language": "python",
   "name": "python3"
  },
  "language_info": {
   "codemirror_mode": {
    "name": "ipython",
    "version": 2
   },
   "file_extension": ".py",
   "mimetype": "text/x-python",
   "name": "python",
   "nbconvert_exporter": "python",
   "pygments_lexer": "ipython2",
   "version": "2.7.6"
  }
 },
 "nbformat": 4,
 "nbformat_minor": 5
}
