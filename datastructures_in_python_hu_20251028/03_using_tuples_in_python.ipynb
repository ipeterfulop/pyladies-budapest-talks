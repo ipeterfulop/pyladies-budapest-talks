{
 "cells": [
  {
   "metadata": {
    "collapsed": true
   },
   "cell_type": "markdown",
   "source": [
    "- 1. A `tuple` használata Pythonban\n",
    "    - 1.1. Tuple inicializálása\n",
    "        - 1.1.1. Inicializálás `()` zárójelek használatával\n",
    "        - 1.1.2. Inicializálás `tuple()` konstruktor használatával\n",
    "    - 1.2. Alapműveletek tuple-ökkel\n",
    "        - 1.2.1. Elem elérése (indexing) és szeletelés (slicing)\n",
    "        - 1.2.2. Másolás és összefűzés\n",
    "        - 1.2.3. Csomagolás és kicsomagolás\n",
    "        - 1.2.4. Bejárás (iterálás)\n",
    "        - 1.2.5. Tartalmi ellenőrzések\n",
    "        - 1.2.6. Tuple-ök és generátorok\n",
    "    - 1.3. Mikor ...?\n",
    "        - 1.3.1. Mikor ajánlott a tuple használata?\n",
    "        - 1.3.2. Mikor NEM ajánlott a tuple használata?\n"
   ],
   "id": "f09acc62b3f556c2"
  },
  {
   "metadata": {},
   "cell_type": "markdown",
   "source": [
    "# A `tuple` használata Pythonban\n",
    "A tuple a lista testvére: rendezett, indexelhető gyűjtemény, amely **NEM** módosítható a létrehozása után. Emiatt a tuple az **immutable** típusok közé tartozik."
   ],
   "id": "f5deaedae278be85"
  },
  {
   "metadata": {},
   "cell_type": "markdown",
   "source": "## Tuple inicializálása",
   "id": "81dc819a4a4d5a70"
  },
  {
   "metadata": {},
   "cell_type": "markdown",
   "source": "### Inicializálás `()` zárójelek használatával",
   "id": "4493d970332332d6"
  },
  {
   "metadata": {},
   "cell_type": "code",
   "source": [
    "# üres tuple inicializálása\n",
    "ures_tuple = ()\n",
    "print(type(ures_tuple))\n",
    "print(ures_tuple)\n",
    "\n",
    "# egyetlen elemű tuple-höz vessző kell, különben a zárójelet csak csoportosításra használja a Python.\n",
    "egy_elem_tuple = ('monitor',)\n",
    "print(f\"Egy elemet tartalmazó tuple: {egy_elem_tuple} típusa: {type(egy_elem_tuple)}\")\n",
    "\n",
    "ez_nem_egy_tuple = ('monitor')\n",
    "print(f\"Zárójeles string: '{ez_nem_egy_tuple}' típusa: {type(ez_nem_egy_tuple)}\")\n"
   ],
   "id": "65556d29a021f774",
   "outputs": [],
   "execution_count": null
  },
  {
   "metadata": {},
   "cell_type": "code",
   "source": [
    "# tuple inicializálása azonotos típusú elemekkel (int)\n",
    "portok = (80, 443, 22, 21)\n",
    "print(f\"Portok: {portok}\")\n",
    "\n",
    "# tuple inicializálása string elemekkel (hardver komponensek)\n",
    "notebook_komponensek = ('RAM memória', 'PCI kártya', 'SSD meghajtó', 'CPU')\n",
    "print(f\"Notebook komponensek: {notebook_komponensek}\")\n",
    "\n",
    "# A tuple eltérő típusú adatok tárolására is alkalmas, gyakori a fix rekordok tárolása.\n",
    "vegyes_konfiguracio = ('MacBook Pro', 14.0, 'Apple M4 Pro', 24, 512, True)\n",
    "for elem in vegyes_konfiguracio:\n",
    "    print(f\"<{elem}> típusa {type(elem)}\")"
   ],
   "id": "55069189cc3614c6",
   "outputs": [],
   "execution_count": null
  },
  {
   "metadata": {},
   "cell_type": "code",
   "source": [
    "# a tuple (immutable) - Hiba!\n",
    "t = (1, 2, 3)\n",
    "try:\n",
    "    # TypeError-t dob\n",
    "    t[0] = -1\n",
    "except TypeError:\n",
    "    print(\"A tuple nem módosítható (immutable).\")"
   ],
   "id": "3ae4be1aa931767",
   "outputs": [],
   "execution_count": null
  },
  {
   "metadata": {},
   "cell_type": "markdown",
   "source": "### Inicializálás `tuple()` konstruktor használatával",
   "id": "be1d7713f10ea4"
  },
  {
   "metadata": {},
   "cell_type": "code",
   "source": [
    "# üres tuple\n",
    "ures_tuple_2 = tuple()\n",
    "print(type(ures_tuple_2))\n",
    "print(ures_tuple_2)\n",
    "\n",
    "# tuple létrehozása stringből\n",
    "pc_komponens_betui = tuple('SSD meghajtó')\n",
    "print(f\"Stringből létrehozott tuple: {pc_komponens_betui} és típusa: {type(pc_komponens_betui)}\")\n",
    "\n",
    "# tuple létrehozása listából\n",
    "portok = [8080, 22, 3306]\n",
    "portok_tuple = tuple(portok)\n",
    "print(f\"Listából létrehozott tuple: {portok_tuple}\")\n",
    "\n",
    "# tuple létrehozása szótár kulcsaiból\n",
    "pc_konfiguracio = {\n",
    "    'CPU': 'Intel Core i9',\n",
    "    'RAM': 64,\n",
    "    'SSD': 'Samsung 990 Pro',\n",
    "    'kijelző méret': 14.5,\n",
    "}\n",
    "konfiguracio_kulcsok = tuple(pc_konfiguracio)\n",
    "print(f\"Szótár kulcsaiból létrehozott tuple: {konfiguracio_kulcsok}\")\n",
    "# a tuple() konstruktor a alapértelmezetten a szótár kulcsait használja\n",
    "\n",
    "# mi jön létre így?\n",
    "konfiguracio_kulcs_ertekek = tuple(pc_konfiguracio.items())\n",
    "print(f\"Szótár kulcs-érték párjaiból létrehozott tuple: {konfiguracio_kulcs_ertekek}\")"
   ],
   "id": "502dd95d61831d9e",
   "outputs": [],
   "execution_count": null
  },
  {
   "metadata": {},
   "cell_type": "markdown",
   "source": "## Alapműveletek tuple-ökkel",
   "id": "39b5b8e438281e8b"
  },
  {
   "metadata": {},
   "cell_type": "markdown",
   "source": "### Elem elérése (indexing) és szeletelés (slicing)",
   "id": "44ccebffaf4dd639"
  },
  {
   "metadata": {},
   "cell_type": "code",
   "source": [
    "szamitogep_komponensek = ('RAM memória', 'PCI kártya', 'SSD meghajtó', 'CPU')\n",
    "portok = (80, 443, 22, 3036, 8081, 21)\n",
    "\n",
    "# indexelés: ugyanúgy működik, mint a listáknál\n",
    "print(f\"A 3. komponens: {szamitogep_komponensek[2]}\")\n",
    "print(f\"Az utolsó port: {portok[-1]}\")"
   ],
   "id": "eee7727cac98ae4e",
   "outputs": [],
   "execution_count": null
  },
  {
   "metadata": {},
   "cell_type": "code",
   "source": [
    "# szeletelés: ugyanúgy működik, mint a listáknál\n",
    "t1 = portok[1:4]\n",
    "print(f\"A szeletelt tuple: {t1}\")"
   ],
   "id": "4e6c9d515b8e459f",
   "outputs": [],
   "execution_count": null
  },
  {
   "metadata": {},
   "cell_type": "markdown",
   "source": "### Másolás és összefűzés",
   "id": "bc47fc237a671e97"
  },
  {
   "metadata": {},
   "cell_type": "code",
   "source": [
    "# a tuple[:] is egy új tuple-t hoz létre, de mivel immutable, nincs jelentősége a 'shallow' másolásnak.\n",
    "portok = (80, 443, 22, 3036, 8081, 21)\n",
    "portok_masolat = portok[:]\n",
    "print(f\"Másolt tuple {portok_masolat}, címe: {id(portok_masolat)}\")\n",
    "print(f\"Eredeti tuple címe: {id(portok)}, címe  {id(portok_masolat)}\")\n",
    "\n",
    "\n",
    "# hogyan működik a másolás, ha a tuple módosítható elemeket (pl. listákat) tartalmaz?\n",
    "szamok = (1, [2, 3])\n",
    "szamok_masolat = szamok[:]\n",
    "\n",
    "# A masolatban lévő lista MÓDOSÍTÁSRA kerül, és EZ a módosítás\n",
    "# az eredeti tuple-ben lévő lista tartalmát is érinti (mert a referencia másolódott!).\n",
    "\n",
    "szamok_masolat[1].append(4)\n",
    "print(f\"Eredeti tuple: {szamok}\")\n",
    "print(f\"Tuple másolat: {szamok_masolat}\")"
   ],
   "id": "caa7084054bfdcb8",
   "outputs": [],
   "execution_count": null
  },
  {
   "metadata": {},
   "cell_type": "code",
   "source": [
    "# összefűzés: ugyanúgy működik, mint a listáknál\n",
    "protokoll_portok = (80, 443)\n",
    "adatbazis_portok = (3306, 5432)\n",
    "portok = protokoll_portok + adatbazis_portok\n",
    "print(f\"Összefűzés: {portok}\")"
   ],
   "id": "ac7bfa1d2f54a84b",
   "outputs": [],
   "execution_count": null
  },
  {
   "metadata": {},
   "cell_type": "code",
   "source": [
    "# ismétlés: új tuple jön létre\n",
    "ismetelheto = (4, 8)\n",
    "negyszer_ismetelve = ismetelheto * 4\n",
    "print(f\"Ismételve: {negyszer_ismetelve}\")"
   ],
   "id": "3f202d962106577",
   "outputs": [],
   "execution_count": null
  },
  {
   "metadata": {},
   "cell_type": "markdown",
   "source": "### Csomagolás és kicsomagolás",
   "id": "ac206c2e7bad553c"
  },
  {
   "metadata": {
    "ExecuteTime": {
     "end_time": "2025-10-28T11:29:48.628717Z",
     "start_time": "2025-10-28T11:29:48.621664Z"
    }
   },
   "cell_type": "code",
   "source": [
    "# csomagolás (tuple packing)\n",
    "komponens_specifikacio = ('SSD', 512, 'GB')\n",
    "print(f\"\\nCsomagolva: {komponens_specifikacio}\")\n",
    "# kicsomagolás (tuple unpacking)\n",
    "komponens, meret, mertekegyseg = komponens_specifikacio\n",
    "print(f\"\\nKicsomagolva: {komponens}, {meret} {mertekegyseg}\")"
   ],
   "id": "15989cb6aa1c50f3",
   "outputs": [
    {
     "name": "stdout",
     "output_type": "stream",
     "text": [
      "\n",
      "Csomagolva: ('SSD', 512, 'GB')\n",
      "\n",
      "Kicsomagolva: SSD, 512 GB\n"
     ]
    }
   ],
   "execution_count": 26
  },
  {
   "metadata": {},
   "cell_type": "markdown",
   "source": "### Bejárás (iterálás)",
   "id": "728ad6ee43e369f3"
  },
  {
   "metadata": {
    "ExecuteTime": {
     "end_time": "2025-10-28T11:32:43.400697Z",
     "start_time": "2025-10-28T11:32:43.389518Z"
    }
   },
   "cell_type": "code",
   "source": [
    "komponensek = ('RAM memória', 'PCI kártya', 'SSD meghajtó', 'CPU')\n",
    "\n",
    "# Elem-alapú iteráció (A leggyakoribb)\n",
    "print(\"Elem-alapú iteráció\")\n",
    "for komponens in komponensek:\n",
    "    print(f\"Komponens: {komponens}\")"
   ],
   "id": "d4f33d60315e4bfc",
   "outputs": [
    {
     "name": "stdout",
     "output_type": "stream",
     "text": [
      "Elem-alapú iteráció\n",
      "Komponens: RAM memória\n",
      "Komponens: PCI kártya\n",
      "Komponens: SSD meghajtó\n",
      "Komponens: CPU\n"
     ]
    }
   ],
   "execution_count": 27
  },
  {
   "metadata": {},
   "cell_type": "code",
   "outputs": [],
   "execution_count": null,
   "source": [
    "# index és elem-alapú iteráció (enumerate() használatával)\n",
    "komponensek = ('RAM memória', 'PCI kártya', 'SSD meghajtó', 'CPU')\n",
    "print(\"\\nIndex és elem-alapú iteráció\")\n",
    "for index, komponens in enumerate(komponensek):\n",
    "    print(f\"{index}. pozíció: {komponens}\")"
   ],
   "id": "de749063baed177b"
  },
  {
   "metadata": {},
   "cell_type": "markdown",
   "source": "### Tartalmi ellenőrzések",
   "id": "ee6d51ac9f73a9f0"
  },
  {
   "metadata": {
    "ExecuteTime": {
     "end_time": "2025-10-28T11:36:14.814327Z",
     "start_time": "2025-10-28T11:36:14.806524Z"
    }
   },
   "cell_type": "code",
   "source": [
    "portok = (80, 443, 22, 3036, 8081, 21, 80)\n",
    "\n",
    "# elem előfordulásának tesztelése (gyors)\n",
    "print(f\"443-as port létezik-e: {443 in portok}\")\n",
    "print(f\"888-as port létezik-e: {888 in portok}\")"
   ],
   "id": "a3846e0f6aa322c8",
   "outputs": [
    {
     "name": "stdout",
     "output_type": "stream",
     "text": [
      "443-as port létezik-e: True\n",
      "888-as port létezik-e: False\n"
     ]
    }
   ],
   "execution_count": 29
  },
  {
   "metadata": {
    "ExecuteTime": {
     "end_time": "2025-10-28T11:38:31.333831Z",
     "start_time": "2025-10-28T11:38:31.323563Z"
    }
   },
   "cell_type": "code",
   "source": [
    "portok = (80, 443, 22, 3036, 8081, 21, 80)\n",
    "# elem előfordulásának számlálása\n",
    "print(f\"80-as port előfordulása: {portok.count(80)}\")\n",
    "\n",
    "# elem első előfordulási indexének megkeresése\n",
    "print(f\"3036-os port indexe: {portok.index(80)}\")\n"
   ],
   "id": "344c1c0a8accd98b",
   "outputs": [
    {
     "name": "stdout",
     "output_type": "stream",
     "text": [
      "80-as port előfordulása: 2\n",
      "3036-os port indexe: 0\n"
     ]
    }
   ],
   "execution_count": 32
  },
  {
   "metadata": {},
   "cell_type": "markdown",
   "source": [
    "## Tuple-ök és generátorok\n",
    "A lista-értelmezéssel szemben a kerek zárójelekkel létrehozott szerkezet **generátort** (Generator Expression) hoz létre, nem tuple-t."
   ],
   "id": "1eab24dc83067b66"
  },
  {
   "metadata": {
    "ExecuteTime": {
     "end_time": "2025-10-28T11:45:51.304802Z",
     "start_time": "2025-10-28T11:45:51.296989Z"
    }
   },
   "cell_type": "code",
   "source": [
    "# list comprehension\n",
    "negyzetek = [i**2 for i in range(5)]\n",
    "print(f\"Lista típusa: {type(negyzetek)}\")\n",
    "print(f\"Lista tartalma: {negyzetek}\")\n",
    "\n",
    "generator_negyzetek = (i**2 for i in range(5))\n",
    "print(f\"Generátor típusa: {type(generator_negyzetek)}\")\n",
    "print(f\"Generátor tartalma (kiírás): {tuple(generator_negyzetek)}\")\n",
    "\n",
    "# tuple explicit létrehozása generátorból\n",
    "tuple_negyzetek = tuple(i**2 for i in range(5))\n",
    "print(f\"Tuple explicit létrehozása generátorból: {tuple_negyzetek}\")\n",
    "\n",
    "# tuple listából comprehension-nel\n",
    "tuple_kobok = tuple([i**3 for i in range(10)])\n",
    "print(f\"Tuple tuple listából comprehension-nel: {tuple_kobok}\")\n"
   ],
   "id": "aef782fc27e22851",
   "outputs": [
    {
     "name": "stdout",
     "output_type": "stream",
     "text": [
      "Lista típusa: <class 'list'>\n",
      "Lista tartalma: [0, 1, 4, 9, 16]\n",
      "Generátor típusa: <class 'generator'>\n",
      "Generátor tartalma (kiírás): (0, 1, 4, 9, 16)\n",
      "Tuple létrehozva: (0, 1, 4, 9, 16)\n",
      "Tuple létrehozva: (0, 1, 8, 27, 64, 125, 216, 343, 512, 729)\n"
     ]
    }
   ],
   "execution_count": 40
  },
  {
   "metadata": {},
   "cell_type": "code",
   "outputs": [],
   "execution_count": null,
   "source": "",
   "id": "4df4766f5f7f0ef6"
  },
  {
   "metadata": {},
   "cell_type": "markdown",
   "source": "## Mikor ...?",
   "id": "5d45dcbdc5c26ee0"
  },
  {
   "metadata": {},
   "cell_type": "markdown",
   "source": [
    "### Mikor ajánlott a tuple használata?\n",
    "\n",
    "- **adatbiztonság (immutability)**: ez a tuple legfőbb erőssége. Ha garantálni akjuk, hogy a gyűjtemény tartalma a létrehozás után nem változik meg, használjunka tuple-t. Példa:\n",
    "    -  konfigurációs beállítások\n",
    "    -  állandó adatok (pl. hónapok nevei), vagy\n",
    "    - függvények visszatérési értékei\n",
    "- **szótárkulcsok**: a standard Python szótárakhoz (dict) csak hash-elhető (immutable) objektumok használhatók kulcsként. Mivel a tuple immutable, használható szótárkulcsként. A lista viszont nem.\n",
    "- **teljesítmény**: a tuple-ok memóriában kisebb helyet foglalnak, és gyorsabban is kezelhetők, mint a listák. Például nagy, statikus adatsorok tárolásához, melyeket csak olvasni kell.\n",
    "-  több visszatérési értéket adó függvények visszatérési értékeként: a Python függvényekkel több értéket is visszaadhatsz egyetlen entitásként. Ez a Pythonban mindig implicit tuple-ként jön létre. Példa: `return x, y, hiba_kód`"
   ],
   "id": "a948b60be1c7d310"
  },
  {
   "metadata": {},
   "cell_type": "markdown",
   "source": [
    "### Mikor NEM ajánlott a tuple használata?\n",
    "- **gyakori módosítások**: ha a gyűjtemény tartalmát gyakran kell módosítani (hozzáadás, eltávolítás, frissítés) a program futása során, akkor a lista használata ajánlott, mivel a tuple nem módosítható."
   ],
   "id": "37ef17a94211309c"
  }
 ],
 "metadata": {
  "kernelspec": {
   "display_name": "Python 3",
   "language": "python",
   "name": "python3"
  },
  "language_info": {
   "codemirror_mode": {
    "name": "ipython",
    "version": 2
   },
   "file_extension": ".py",
   "mimetype": "text/x-python",
   "name": "python",
   "nbconvert_exporter": "python",
   "pygments_lexer": "ipython2",
   "version": "2.7.6"
  }
 },
 "nbformat": 4,
 "nbformat_minor": 5
}
