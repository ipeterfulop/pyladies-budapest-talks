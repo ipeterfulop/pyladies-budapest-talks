{
 "cells": [
  {
   "metadata": {
    "collapsed": true,
    "ExecuteTime": {
     "end_time": "2025-10-27T00:14:43.945478Z",
     "start_time": "2025-10-27T00:14:43.940396Z"
    }
   },
   "cell_type": "markdown",
   "source": [
    "# Szótárak használata Pythonban\n",
    "\n",
    "A szótár az egyik leggyakrabban használt adatstruktúra a Pythonban.\n",
    "Kulcs–érték párokat tárol, és a 3.7-es verziótól kezdve megőrzi az elemek sorrendjét is.\n",
    "Az alábbiakban áttekintjük, hogyan működik, és miért hasznos a használata."
   ],
   "id": "24a97f94b5d488f3"
  },
  {
   "metadata": {},
   "cell_type": "markdown",
   "source": "## Szótárak inicializálása",
   "id": "1a798c3f0245c847"
  },
  {
   "metadata": {},
   "cell_type": "markdown",
   "source": "### Inicializálás {} használatával",
   "id": "afd809720d4f3bc4"
  },
  {
   "metadata": {},
   "cell_type": "code",
   "source": [
    "# üres szótár inicializálása\n",
    "ures_szotar = {}\n",
    "print(type(ures_szotar))\n",
    "print(ures_szotar)"
   ],
   "id": "86168710d6d55981",
   "outputs": [],
   "execution_count": null
  },
  {
   "metadata": {
    "ExecuteTime": {
     "end_time": "2025-10-27T00:27:32.893665Z",
     "start_time": "2025-10-27T00:27:32.883698Z"
    }
   },
   "cell_type": "code",
   "source": [
    "# szótár inicializálása azonos típusú kulcsokkal\n",
    "alkatresz_spec = {\n",
    "    'CPU': 'Intel Core i9',\n",
    "    'RAM': 64,\n",
    "    'SSD': 'Samsung 990 Pro',\n",
    "    'GPU': 'RTX 4070'\n",
    "}\n",
    "print(type(alkatresz_spec['CPU']))\n",
    "print(f\"RAM mérete (GB): {alkatresz_spec['RAM']}\")\n",
    "\n",
    "# szótár inicializálása int kulcsokkal\n",
    "port_leirasok = {\n",
    "    80: 'HTTP',\n",
    "    443: 'HTTPS/SSL',\n",
    "    22: 'SSH',\n",
    "    21: 'FTP'\n",
    "}\n",
    "print(type(port_leirasok[80]))\n",
    "print(f\"443-as port: {port_leirasok[443]} protokoll\")\n",
    "\n",
    "# A kulcsok nem lehetnek megváltoztathatók (mutable), pl. lista nem lehet kulcs.\n",
    "# Az értékek azonban bármilyen típusúak lehetnek, akár listák vagy más szótárak is.\n",
    "projekt_fajlok = {\n",
    "    'Projekt A': ['kereses.py', 'adatbazis.py'],\n",
    "    'Projekt B': ['readme.md', 'main.py', 'config.ini']\n",
    "}\n",
    "\n",
    "for projekt, fajlok in projekt_fajlok.items():\n",
    "    print(f\"'{projekt}' fájljai: {fajlok} (típusa: {type(fajlok)})\")"
   ],
   "id": "6a0c7ed06f61339a",
   "outputs": [
    {
     "name": "stdout",
     "output_type": "stream",
     "text": [
      "<class 'str'>\n",
      "RAM mérete (GB): 64\n",
      "<class 'str'>\n",
      "443-as port: HTTPS/SSL protokoll\n",
      "'Projekt A' fájljai: ['kereses.py', 'adatbazis.py'] (típusa: <class 'list'>)\n",
      "'Projekt B' fájljai: ['readme.md', 'main.py', 'config.ini'] (típusa: <class 'list'>)\n"
     ]
    }
   ],
   "execution_count": 3
  },
  {
   "metadata": {},
   "cell_type": "markdown",
   "source": "### Inicializálás `dict()` konstruktor használatával",
   "id": "965a71f7cc7c15b0"
  },
  {
   "metadata": {},
   "cell_type": "code",
   "source": [
    "# üres szótár inicializálása\n",
    "ures_szotar_2 = dict()\n",
    "print(type(ures_szotar_2))\n",
    "print(ures_szotar_2)\n",
    "\n",
    "# szótár létrehozása kulcsszavas argumentumokkal (a kulcsok itt stringek lesznek)\n",
    "protokoll_verzio = dict(http=1.1, ssh=2.0, ftp=3.0)\n",
    "print(f\"Protokoll verziók: {protokoll_verzio}\")\n",
    "\n",
    "# szótár létrehozása két-elemű tuple-ök listájából (A tuple-t később részletesen tárgyaljuk)\n",
    "port_szam_nevvel = [(8080, 'Proxy'), (3306, 'MySQL'), (5432, 'PostgreSQL')]\n",
    "portok = dict(port_szam_nevvel)\n",
    "print(f\"Portok szótárként: {portok}\")"
   ],
   "id": "d95db8d895c3bd0f",
   "outputs": [],
   "execution_count": null
  },
  {
   "metadata": {},
   "cell_type": "markdown",
   "source": "## Alapvető műveletek szótárakkal",
   "id": "21d091bd7f649709"
  },
  {
   "metadata": {},
   "cell_type": "markdown",
   "source": "### Elem elérése (Indexing) és hozzáadása/módosítása",
   "id": "43bf8b23e8483562"
  },
  {
   "metadata": {},
   "cell_type": "code",
   "source": [
    "alkatresz_specifikacio = {\n",
    "    'CPU': 'Intel Core i9',\n",
    "    'RAM': 64,\n",
    "    'SSD': 'Samsung 990 Pro'\n",
    "}\n",
    "print(f\"Jelenlegi CPU: {alkatresz_specifikacio['CPU']}\")\n",
    "\n",
    "# Elem hozzáadása (új kulcs-érték párt definiálunk)\n",
    "alkatresz_specifikacio['Hangkártya'] = 'Sound Blaster Z'\n",
    "print(f\"Hozzáadva: {alkatresz_specifikacio}\")\n",
    "\n",
    "# Meglévő elem módosítása\n",
    "alkatresz_specifikacio['RAM'] = 128\n",
    "print(f\"RAM frissítve: {alkatresz_specifikacio}\")\n",
    "\n",
    "# Hibakezelés: ha nem létező kulcsot kérünk le, az KeyError-t okoz.\n",
    "kulcs = 'Monitor'\n",
    "try:\n",
    "    print(alkatresz_specifikacio[kulcs])\n",
    "except KeyError:\n",
    "    print(f\"Hiba: A '{kulcs}' kulcs nem található a szótárban.\")"
   ],
   "id": "2e9e6979507fc8be",
   "outputs": [],
   "execution_count": null
  },
  {
   "metadata": {
    "ExecuteTime": {
     "end_time": "2025-10-27T16:18:03.066906Z",
     "start_time": "2025-10-27T16:18:03.058185Z"
    }
   },
   "cell_type": "code",
   "source": [
    "# a collections csomag (vagy modul) egy beépített modul,\n",
    "# amely a szabványos beépített konténer adattípusok (dict, list, tuple, set)\n",
    "# kibővített, nagy teljesítményű, speciális változatát tartalmazza.\n",
    "from collections import defaultdict\n",
    "\n",
    "# Key error elkerülése defaultdict használatával\n",
    "alkatresz_specifikacio_dd = defaultdict(str)\n",
    "\n",
    "# Adatok feltöltése (ugyanúgy, mint egy normál dict esetében)\n",
    "alkatresz_specifikacio_dd['CPU'] = 'Intel Core i9-13900K'\n",
    "alkatresz_specifikacio_dd['RAM'] = '32'\n",
    "alkatresz_specifikacio_dd['SSD'] = 'Samsung 990 Pro'\n",
    "\n",
    "print(f\"Kezdeti szótár: {dict(alkatresz_specifikacio_dd)}\")\n",
    "\n",
    "# 1. Meglévő elem módosítása (Ugyanúgy működik, mint a sima dict)\n",
    "alkatresz_specifikacio_dd['RAM'] = '128'\n",
    "print(f\"\\nRAM frissítve (új érték: {alkatresz_specifikacio_dd['RAM']})\")\n",
    "\n",
    "# 2. Hiányzó kulcs lekérdezése defaultdict-tal\n",
    "kulcs = 'Monitor'\n",
    "# Amikor lekérdezzük a 'Monitor' kulcsot, a defaultdict AUTOMATIKUSAN létrehozza a kulcsot\n",
    "# és a megadott alapértelmezett (str()) értékkel inicializálja, majd visszaadja az értéket.\n",
    "print(f\"Lekérdezett alkatrész ({kulcs}): {alkatresz_specifikacio_dd[kulcs]}\")"
   ],
   "id": "434c31eaedcd6670",
   "outputs": [
    {
     "name": "stdout",
     "output_type": "stream",
     "text": [
      "Kezdeti szótár: {'CPU': 'Intel Core i9-13900K', 'RAM': '32', 'SSD': 'Samsung 990 Pro'}\n",
      "\n",
      "RAM frissítve (új érték: 128)\n",
      "Lekérdezett alkatrész (Monitor): \n"
     ]
    }
   ],
   "execution_count": 10
  }
 ],
 "metadata": {
  "kernelspec": {
   "display_name": "Python 3",
   "language": "python",
   "name": "python3"
  },
  "language_info": {
   "codemirror_mode": {
    "name": "ipython",
    "version": 2
   },
   "file_extension": ".py",
   "mimetype": "text/x-python",
   "name": "python",
   "nbconvert_exporter": "python",
   "pygments_lexer": "ipython2",
   "version": "2.7.6"
  }
 },
 "nbformat": 4,
 "nbformat_minor": 5
}
