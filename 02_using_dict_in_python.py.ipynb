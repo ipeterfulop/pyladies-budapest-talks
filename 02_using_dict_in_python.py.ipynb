{
 "cells": [
  {
   "metadata": {
    "collapsed": true,
    "ExecuteTime": {
     "end_time": "2025-10-27T00:14:43.945478Z",
     "start_time": "2025-10-27T00:14:43.940396Z"
    }
   },
   "cell_type": "markdown",
   "source": [
    "# Szótárak használata Pythonban\n",
    "\n",
    "A szótár az egyik leggyakrabban használt adatstruktúra a Pythonban.\n",
    "Kulcs–érték párokat tárol, és a 3.7-es verziótól kezdve megőrzi az elemek sorrendjét is.\n",
    "Az alábbiakban áttekintjük, hogyan működik, és miért hasznos a használata."
   ],
   "id": "24a97f94b5d488f3"
  },
  {
   "metadata": {},
   "cell_type": "markdown",
   "source": "## Szótárak inicializálása",
   "id": "1a798c3f0245c847"
  },
  {
   "metadata": {},
   "cell_type": "markdown",
   "source": "### Inicializálás {} használatával",
   "id": "afd809720d4f3bc4"
  },
  {
   "metadata": {},
   "cell_type": "code",
   "source": [
    "# üres szótár inicializálása\n",
    "ures_szotar = {}\n",
    "print(type(ures_szotar))\n",
    "print(ures_szotar)"
   ],
   "id": "86168710d6d55981",
   "outputs": [],
   "execution_count": null
  },
  {
   "metadata": {
    "ExecuteTime": {
     "end_time": "2025-10-27T00:27:32.893665Z",
     "start_time": "2025-10-27T00:27:32.883698Z"
    }
   },
   "cell_type": "code",
   "source": [
    "# szótár inicializálása azonos típusú kulcsokkal\n",
    "alkatresz_spec = {\n",
    "    'CPU': 'Intel Core i9',\n",
    "    'RAM': 64,\n",
    "    'SSD': 'Samsung 990 Pro',\n",
    "    'GPU': 'RTX 4070'\n",
    "}\n",
    "print(type(alkatresz_spec['CPU']))\n",
    "print(f\"RAM mérete (GB): {alkatresz_spec['RAM']}\")\n",
    "\n",
    "# szótár inicializálása int kulcsokkal\n",
    "port_leirasok = {\n",
    "    80: 'HTTP',\n",
    "    443: 'HTTPS/SSL',\n",
    "    22: 'SSH',\n",
    "    21: 'FTP'\n",
    "}\n",
    "print(type(port_leirasok[80]))\n",
    "print(f\"443-as port: {port_leirasok[443]} protokoll\")\n",
    "\n",
    "# A kulcsok nem lehetnek megváltoztathatók (mutable), pl. lista nem lehet kulcs.\n",
    "# Az értékek azonban bármilyen típusúak lehetnek, akár listák vagy más szótárak is.\n",
    "projekt_fajlok = {\n",
    "    'Projekt A': ['kereses.py', 'adatbazis.py'],\n",
    "    'Projekt B': ['readme.md', 'main.py', 'config.ini']\n",
    "}\n",
    "\n",
    "for projekt, fajlok in projekt_fajlok.items():\n",
    "    print(f\"'{projekt}' fájljai: {fajlok} (típusa: {type(fajlok)})\")"
   ],
   "id": "6a0c7ed06f61339a",
   "outputs": [
    {
     "name": "stdout",
     "output_type": "stream",
     "text": [
      "<class 'str'>\n",
      "RAM mérete (GB): 64\n",
      "<class 'str'>\n",
      "443-as port: HTTPS/SSL protokoll\n",
      "'Projekt A' fájljai: ['kereses.py', 'adatbazis.py'] (típusa: <class 'list'>)\n",
      "'Projekt B' fájljai: ['readme.md', 'main.py', 'config.ini'] (típusa: <class 'list'>)\n"
     ]
    }
   ],
   "execution_count": 3
  },
  {
   "metadata": {},
   "cell_type": "markdown",
   "source": "### Inicializálás `dict()` konstruktor használatával",
   "id": "965a71f7cc7c15b0"
  },
  {
   "metadata": {
    "ExecuteTime": {
     "end_time": "2025-10-27T00:31:17.832617Z",
     "start_time": "2025-10-27T00:31:17.821557Z"
    }
   },
   "cell_type": "code",
   "source": [
    "# üres szótár inicializálása\n",
    "ures_szotar_2 = dict()\n",
    "print(type(ures_szotar_2))\n",
    "print(ures_szotar_2)\n",
    "\n",
    "# szótár létrehozása kulcsszavas argumentumokkal (a kulcsok itt stringek lesznek)\n",
    "protokoll_verzio = dict(http=1.1, ssh=2.0, ftp=3.0)\n",
    "print(f\"Protokoll verziók: {protokoll_verzio}\")\n",
    "\n",
    "# szótár létrehozása két-elemű tuple-ök listájából (A tuple-t később részletesen tárgyaljuk)\n",
    "port_szam_nevvel = [(8080, 'Proxy'), (3306, 'MySQL'), (5432, 'PostgreSQL')]\n",
    "portok = dict(port_szam_nevvel)\n",
    "print(f\"Portok szótárként: {portok}\")"
   ],
   "id": "d95db8d895c3bd0f",
   "outputs": [
    {
     "name": "stdout",
     "output_type": "stream",
     "text": [
      "<class 'dict'>\n",
      "{}\n",
      "Protokoll verziók: {'http': 1.1, 'ssh': 2.0, 'ftp': 3.0}\n",
      "Portok szótárként: {8080: 'Proxy', 3306: 'MySQL', 5432: 'PostgreSQL'}\n"
     ]
    }
   ],
   "execution_count": 4
  },
  {
   "metadata": {},
   "cell_type": "markdown",
   "source": "## Alapvető műveletek szótárakkal",
   "id": "21d091bd7f649709"
  },
  {
   "metadata": {},
   "cell_type": "markdown",
   "source": "### Elem elérése (Indexing) és hozzáadása/módosítása",
   "id": "43bf8b23e8483562"
  },
  {
   "metadata": {
    "ExecuteTime": {
     "end_time": "2025-10-27T00:50:45.071791Z",
     "start_time": "2025-10-27T00:50:44.870718Z"
    }
   },
   "cell_type": "code",
   "source": [
    "alkatresz_specifikacio = {\n",
    "    'CPU': 'Intel Core i9',\n",
    "    'RAM': 64,\n",
    "    'SSD': 'Samsung 990 Pro'\n",
    "}\n",
    "print(f\"Jelenlegi CPU: {alkatresz_specifikacio['CPU']}\")\n",
    "\n",
    "# Elem hozzáadása (új kulcs-érték párt definiálunk)\n",
    "alkatresz_specifikacio['Hangkártya'] = 'Sound Blaster Z'\n",
    "print(f\"Hozzáadva: {alkatresz_specifikacio}\")\n",
    "\n",
    "# Meglévő elem módosítása\n",
    "alkatresz_specifikacio['RAM'] = 128\n",
    "print(f\"RAM frissítve: {alkatresz_specifikacio}\")\n",
    "\n",
    "# Hibakezelés: ha nem létező kulcsot kérünk le, az KeyError-t okoz.\n",
    "# print(alkatresz_spec['Monitor'])"
   ],
   "id": "b390713a5cd63990",
   "outputs": [
    {
     "name": "stdout",
     "output_type": "stream",
     "text": [
      "Jelenlegi CPU: Intel Core i9\n",
      "Hozzáadva: {'CPU': 'Intel Core i9', 'RAM': 64, 'SSD': 'Samsung 990 Pro', 'Hangkártya': 'Sound Blaster Z'}\n",
      "RAM frissítve: {'CPU': 'Intel Core i9', 'RAM': 128, 'SSD': 'Samsung 990 Pro', 'Hangkártya': 'Sound Blaster Z'}\n"
     ]
    },
    {
     "ename": "KeyError",
     "evalue": "'Monitor'",
     "output_type": "error",
     "traceback": [
      "\u001B[31m---------------------------------------------------------------------------\u001B[39m",
      "\u001B[31mKeyError\u001B[39m                                  Traceback (most recent call last)",
      "\u001B[36mCell\u001B[39m\u001B[36m \u001B[39m\u001B[32mIn[5]\u001B[39m\u001B[32m, line 17\u001B[39m\n\u001B[32m     14\u001B[39m \u001B[38;5;28mprint\u001B[39m(\u001B[33mf\u001B[39m\u001B[33m\"\u001B[39m\u001B[33mRAM frissítve: \u001B[39m\u001B[38;5;132;01m{\u001B[39;00malkatresz_specifikacio\u001B[38;5;132;01m}\u001B[39;00m\u001B[33m\"\u001B[39m)\n\u001B[32m     16\u001B[39m \u001B[38;5;66;03m# Hibakezelés: ha nem létező kulcsot kérünk le, az KeyError-t okoz.\u001B[39;00m\n\u001B[32m---> \u001B[39m\u001B[32m17\u001B[39m \u001B[38;5;28mprint\u001B[39m(\u001B[43malkatresz_spec\u001B[49m\u001B[43m[\u001B[49m\u001B[33;43m'\u001B[39;49m\u001B[33;43mMonitor\u001B[39;49m\u001B[33;43m'\u001B[39;49m\u001B[43m]\u001B[49m) \u001B[38;5;66;03m# -> KeyError\u001B[39;00m\n",
      "\u001B[31mKeyError\u001B[39m: 'Monitor'"
     ]
    }
   ],
   "execution_count": 5
  }
 ],
 "metadata": {
  "kernelspec": {
   "display_name": "Python 3",
   "language": "python",
   "name": "python3"
  },
  "language_info": {
   "codemirror_mode": {
    "name": "ipython",
    "version": 2
   },
   "file_extension": ".py",
   "mimetype": "text/x-python",
   "name": "python",
   "nbconvert_exporter": "python",
   "pygments_lexer": "ipython2",
   "version": "2.7.6"
  }
 },
 "nbformat": 4,
 "nbformat_minor": 5
}
