{
 "cells": [
  {
   "metadata": {},
   "cell_type": "markdown",
   "source": [
    "\n"
   ],
   "id": "1523f8e814ad0488"
  },
  {
   "metadata": {},
   "cell_type": "markdown",
   "source": [
    "\n",
    "# Bevezetés a Python Polars csomag használatába"
   ],
   "id": "c0ac4b307de055b1"
  },
  {
   "metadata": {},
   "cell_type": "markdown",
   "source": [
    "\n",
    "## 1. Telepítés\n",
    "\n",
    "Az alap csomag telepítése:\n",
    "```bash\n",
    " pip install polars\n",
    "```\n",
    "\n",
    "### 1.1 Opcionális csomagok (függőségek) telepítése\n",
    "\n",
    "| Tag        | Leírás                                                                                           |\n",
    "|------------|--------------------------------------------------------------------------------------------------|\n",
    "| all        | Az összes opcionális függőség telepítése (az összes alábbi)                                       |\n",
    "| pandas     | Telepítés Pandas-szal az adatok Pandas Dataframe-ekre/sorozatokra való átalakításához            |\n",
    "| numpy      | Telepítés numpy-val az adatok numpy tömbökké történő átalakításához                               |\n",
    "| pyarrow    | Adatformátumok olvasása a PyArrow használatával                                                  |\n",
    "| fsspec     | Távoli fájlrendszerekből való olvasás támogatása                                                 |\n",
    "| connectorx | SQL adatbázisokból való olvasás támogatása                                                       |\n",
    "| xlsx2csv   | Excel fájlokból való olvasás támogatása                                                          |\n",
    "| deltalake  | Delta Lake táblákból való olvasás támogatása                                                     |\n",
    "| timezone   | Időzóna támogatás, csak akkor szükséges, ha Python<3.9-et használ, vagy Windows rendszeren van   |\n",
    "\n",
    "Opcionális függőségek részhalmazainak telepítése:  \n",
    "```bash\n",
    " pip install 'polars[pandas,numpy]'\n",
    "```\n",
    "\n",
    "Az összes opcionális függőség telepítése:  \n",
    "```bash\n",
    "pip install 'polars[all]'\n",
    "``` \n",
    "\n",
    "### 1.2 Konfiguráció\n",
    "\n",
    "Konfigurációs lehetőségek a hivatalos dokumentációban: [Config](https://docs.pola.rs/api/python/stable/reference/config.html)\n"
   ],
   "id": "97b93085b985cac4"
  },
  {
   "metadata": {
    "ExecuteTime": {
     "end_time": "2024-10-29T19:18:00.394261Z",
     "start_time": "2024-10-29T19:18:00.388994Z"
    }
   },
   "cell_type": "code",
   "source": [
    "import numpy as np\n",
    "import polars as pl\n",
    "\n",
    "pl.Config.set_tbl_rows(3)  # Az alapértelmezett érték 10\n",
    "pl.Config.set_tbl_cols(6)  # Az alapértelmezett érték 10\n",
    "pl.Config.set_verbose(active=True)"
   ],
   "id": "91c1ea6cf2cef8a5",
   "outputs": [
    {
     "data": {
      "text/plain": [
       "polars.config.Config"
      ]
     },
     "execution_count": 7,
     "metadata": {},
     "output_type": "execute_result"
    }
   ],
   "execution_count": 7
  },
  {
   "metadata": {
    "ExecuteTime": {
     "end_time": "2024-10-29T19:18:03.891587Z",
     "start_time": "2024-10-29T19:18:03.886217Z"
    }
   },
   "cell_type": "code",
   "source": [
    "import random\n",
    "import string\n",
    "\n",
    "nr_cols = 10\n",
    "nr_rows = 6\n",
    "string_length = 5\n",
    "data = {}\n",
    "for i in range(nr_cols):\n",
    "    data[f'column_{i}'] = [\"\".join(random.choice(string.ascii_letters) for c in range(string_length)) \\\n",
    "                           for _ in range(nr_rows)]\n",
    "\n",
    "df = pl.DataFrame(data)\n",
    "print(df)\n",
    "\n",
    "print(\"Konfigurációs beállítások felülírása:\")\n",
    "with pl.Config(tbl_cols=-1):\n",
    "    print(df)"
   ],
   "id": "9f2208e98c44e5cc",
   "outputs": [
    {
     "name": "stdout",
     "output_type": "stream",
     "text": [
      "shape: (6, 10)\n",
      "┌──────────┬──────────┬──────────┬───┬──────────┬──────────┬──────────┐\n",
      "│ column_0 ┆ column_1 ┆ column_2 ┆ … ┆ column_7 ┆ column_8 ┆ column_9 │\n",
      "│ ---      ┆ ---      ┆ ---      ┆   ┆ ---      ┆ ---      ┆ ---      │\n",
      "│ str      ┆ str      ┆ str      ┆   ┆ str      ┆ str      ┆ str      │\n",
      "╞══════════╪══════════╪══════════╪═══╪══════════╪══════════╪══════════╡\n",
      "│ vVIIr    ┆ LuIaN    ┆ yCLTb    ┆ … ┆ qylzQ    ┆ udGvY    ┆ Ivorb    │\n",
      "│ wiwQC    ┆ YqhSW    ┆ nnlqY    ┆ … ┆ shSKM    ┆ rJQxe    ┆ aZCOZ    │\n",
      "│ …        ┆ …        ┆ …        ┆ … ┆ …        ┆ …        ┆ …        │\n",
      "│ OhENt    ┆ STSox    ┆ CMIdt    ┆ … ┆ WJRsI    ┆ QVpHe    ┆ EqxLa    │\n",
      "└──────────┴──────────┴──────────┴───┴──────────┴──────────┴──────────┘\n",
      "Konfigurációs beállítások felülírása:\n",
      "shape: (6, 10)\n",
      "┌─────────┬─────────┬─────────┬─────────┬─────────┬─────────┬─────────┬─────────┬─────────┬────────┐\n",
      "│ column_ ┆ column_ ┆ column_ ┆ column_ ┆ column_ ┆ column_ ┆ column_ ┆ column_ ┆ column_ ┆ column │\n",
      "│ 0       ┆ 1       ┆ 2       ┆ 3       ┆ 4       ┆ 5       ┆ 6       ┆ 7       ┆ 8       ┆ _9     │\n",
      "│ ---     ┆ ---     ┆ ---     ┆ ---     ┆ ---     ┆ ---     ┆ ---     ┆ ---     ┆ ---     ┆ ---    │\n",
      "│ str     ┆ str     ┆ str     ┆ str     ┆ str     ┆ str     ┆ str     ┆ str     ┆ str     ┆ str    │\n",
      "╞═════════╪═════════╪═════════╪═════════╪═════════╪═════════╪═════════╪═════════╪═════════╪════════╡\n",
      "│ vVIIr   ┆ LuIaN   ┆ yCLTb   ┆ PoqDG   ┆ CcCkj   ┆ DebPm   ┆ Gspoo   ┆ qylzQ   ┆ udGvY   ┆ Ivorb  │\n",
      "│ wiwQC   ┆ YqhSW   ┆ nnlqY   ┆ LHFgs   ┆ ahCKM   ┆ GhRud   ┆ nKtzt   ┆ shSKM   ┆ rJQxe   ┆ aZCOZ  │\n",
      "│ …       ┆ …       ┆ …       ┆ …       ┆ …       ┆ …       ┆ …       ┆ …       ┆ …       ┆ …      │\n",
      "│ OhENt   ┆ STSox   ┆ CMIdt   ┆ QsemW   ┆ hMRef   ┆ rwzDY   ┆ xDLAa   ┆ WJRsI   ┆ QVpHe   ┆ EqxLa  │\n",
      "└─────────┴─────────┴─────────┴─────────┴─────────┴─────────┴─────────┴─────────┴─────────┴────────┘\n"
     ]
    }
   ],
   "execution_count": 8
  },
  {
   "metadata": {},
   "cell_type": "markdown",
   "source": [
    "## 2. Támogatott adattípusok\n",
    "\n",
    "Link a hivatalos dokumentáció kapcsolódó oldalához: [Data types](https://docs.pola.rs/api/python/stable/reference/datatypes.html)\n"
   ],
   "id": "e109350df19af0a5"
  },
  {
   "metadata": {
    "ExecuteTime": {
     "end_time": "2024-10-29T19:23:53.428678Z",
     "start_time": "2024-10-29T19:23:53.393244Z"
    }
   },
   "cell_type": "code",
   "source": [
    "df_szemelyek = pl.DataFrame({\n",
    "    \"nev\": [\"Kovács Jolán\", \"Nagy János\", \"Kiss Mária\", \"Nagy Zoltán\"],\n",
    "    \"nem\": [\"nő\", \"férfi\", \"nő\", \"férfi\"],\n",
    "    \"szuletesi_datum\": [\"1996-05-12\", \"1987-02-23\", \"1993-11-30\", \"1979-09-15\"],\n",
    "    \"magassag\": [165.5, 180.0, 173.3, 165.0]\n",
    "}, infer_schema_length=1)\n",
    "\n",
    "# infer_schema_length: int vagy None  \n",
    "# A séma kikövetkeztetéséhez beolvasandó maximális sorok száma. Ha None értékre van állítva, akkor a teljes adat beolvasható (ez lassú lehet).\n",
    "\n",
    "print(df_szemelyek.schema)\n",
    "print(df_szemelyek.dtypes)\n",
    "\n",
    "elvart_sema = pl.Schema({\n",
    "    \"x\": pl.Float64,\n",
    "    \"y\": pl.Float64,\n",
    "    \"szin\": pl.Utf8,\n",
    "    \"datum\": pl.Date\n",
    "})\n",
    "df_pontok = pl.DataFrame({\n",
    "    \"x\": [1.1, 2, 3.5, 4, 5],\n",
    "    \"y\": [6.5, -4, 3, 2.1, 1],\n",
    "    \"szin\": [\"piros\", \"kék\", \"piros\", \"sárga\", \"fekete\"],\n",
    "    \"datum\": [\"2021-01-12\", \"2021-02-23\", \"2021-03-30\", \"2021-04-15\", \"2021-05-20\"]\n",
    "}, schema=elvart_sema)\n",
    "\n",
    "print(df_pontok)\n",
    "\n"
   ],
   "id": "2e7c7ab9793d71a8",
   "outputs": [
    {
     "name": "stdout",
     "output_type": "stream",
     "text": [
      "Schema({'nev': String, 'nem': String, 'szuletesi_datum': String, 'magassag': Float64})\n",
      "[String, String, String, Float64]\n",
      "shape: (5, 4)\n",
      "┌─────┬──────┬────────┬────────────┐\n",
      "│ x   ┆ y    ┆ szin   ┆ datum      │\n",
      "│ --- ┆ ---  ┆ ---    ┆ ---        │\n",
      "│ f64 ┆ f64  ┆ str    ┆ date       │\n",
      "╞═════╪══════╪════════╪════════════╡\n",
      "│ 1.1 ┆ 6.5  ┆ piros  ┆ 2021-01-12 │\n",
      "│ 2.0 ┆ -4.0 ┆ kék    ┆ 2021-02-23 │\n",
      "│ …   ┆ …    ┆ …      ┆ …          │\n",
      "│ 5.0 ┆ 1.0  ┆ fekete ┆ 2021-05-20 │\n",
      "└─────┴──────┴────────┴────────────┘\n"
     ]
    }
   ],
   "execution_count": 10
  },
  {
   "metadata": {},
   "cell_type": "markdown",
   "source": [
    " ### 2.1 További adattípusok\n",
    "\n",
    "| Kategória       | Típus       | Leírás                                                                                                                     | Megjegyzés                                     |\n",
    "|:----------------|-------------|-----------------------------------------------------------------------------------------------------------------------------|------------------------------------------------|\n",
    "| Idő és dátum    | Date        | Naptári dátum típus. Az Arrow date32 adat típust használja, napok az 1970-01-01 UNIX epoch óta int32 formátumban.           | -5877641-06-24 és 5879610-09-09 között         |\n",
    "|                 | Datetime    | Naptári dátum és idő típus. Pontos időbélyeg int64 formátumban kódolva az UNIX epoch óta. Alapértelmezett egység mikroszekundum. |                                                |\n",
    "|                 | Duration    | Időtartam/különbség típus.                                                                                                  |                                                |\n",
    "|                 | Time        | Napi idő típus.                                                                                                            |                                                |\n",
    "| Beágyazott      | Array(*args, **kwargs) | Fix hosszúságú lista típus.                                                                                |                                                |\n",
    "|                 | List(*args, **kwargs)  | Változó hosszúságú lista típus.                                                                               |                                                |\n",
    "|                 | Struct(*args, **kwargs) | Struktúra típus.                                                                                             |                                                |\n",
    "| Egyéb           | Boolean     | Boolean típus, amely 1 bitnyi helyet foglal.                                                                               | Igaz vagy Hamis                                |\n",
    "|                 | Binary      | Bináris típus változó hosszúságú bájtokkal.                                                                                |                                                |\n",
    "|                 | Categorical | Egy kategóriák szerinti kódolás sztringek halmazához. Hatékonyabb memóriakezelést tesz lehetővé, ha egy oszlopban kevés egyedi sztring található. |                                                |\n",
    "|                 | Null        | Null / None értékeket képviselő típus.                                                                                     |                                                |\n",
    "|                 | Object      | Bármilyen Python objektum csomagolására szolgáló típus.                                                                    | Használata elkerülendő, amennyiben lehetséges. |\n",
    "|                 | String      | UTF-8 kódolású sztring típus változó hosszúsággal.                                                                         |                                                |\n",
    "|                 | Unknown     | Típus, amely azokat az adatértékeket képviseli, amelyeket statikusan nem lehetett meghatározni.                             |                                                |\n",
    "\n"
   ],
   "id": "e5020339eb24f389"
  },
  {
   "metadata": {},
   "cell_type": "markdown",
   "source": [
    "Pár példa a fenti típusok használatára:"
   ],
   "id": "d470f253e7cbb64a"
  },
  {
   "metadata": {
    "ExecuteTime": {
     "end_time": "2024-10-29T19:27:53.860160Z",
     "start_time": "2024-10-29T19:27:53.852398Z"
    }
   },
   "cell_type": "code",
   "source": [
    "pontok_df = pl.DataFrame({\n",
    "    \"egesz_szamok\": [[1,2, -1], [3,4]],\n",
    "    \"tizedes_szamok\": [[4.2,-1, 3.1], [3, 1, 0, 2]]\n",
    "    }, strict=False)\n",
    "print(pontok_df)"
   ],
   "id": "6a435e1fc6e8b240",
   "outputs": [
    {
     "name": "stdout",
     "output_type": "stream",
     "text": [
      "shape: (2, 2)\n",
      "┌──────────────┬───────────────────┐\n",
      "│ egesz_szamok ┆ tizedes_szamok    │\n",
      "│ ---          ┆ ---               │\n",
      "│ list[i64]    ┆ list[f64]         │\n",
      "╞══════════════╪═══════════════════╡\n",
      "│ [1, 2, -1]   ┆ [4.2, -1.0, 3.1]  │\n",
      "│ [3, 4]       ┆ [3.0, 1.0, … 2.0] │\n",
      "└──────────────┴───────────────────┘\n"
     ]
    }
   ],
   "execution_count": 12
  },
  {
   "metadata": {
    "ExecuteTime": {
     "end_time": "2024-10-29T18:15:51.720250Z",
     "start_time": "2024-10-29T18:15:51.713628Z"
    }
   },
   "cell_type": "code",
   "source": [
    "df_tombok = pl.DataFrame(\n",
    "    [\n",
    "        pl.Series(\"tomb_1\", [[-1, 2], [2, 4]]),\n",
    "        pl.Series(\"tomb2_2\", [[1, 7, 1], [2, -1, 0]]),\n",
    "    ],\n",
    "    schema={\n",
    "        \"tomb_1\": pl.Array(shape=(2,), inner=pl.Int64),\n",
    "        \"tomb_2\": pl.Array(shape=(3,), inner=pl.Int64)\n",
    "    }\n",
    ")\n",
    "print(df_tombok)\n",
    "# korábban \"tomb_1\": pl.Array(width=2, ez deprecated lett\n"
   ],
   "id": "42391c66a1a7e97e",
   "outputs": [
    {
     "name": "stdout",
     "output_type": "stream",
     "text": [
      "shape: (2, 2)\n",
      "┌───────────────┬───────────────┐\n",
      "│ tomb_1        ┆ tomb_2        │\n",
      "│ ---           ┆ ---           │\n",
      "│ array[i64, 2] ┆ array[i64, 3] │\n",
      "╞═══════════════╪═══════════════╡\n",
      "│ [-1, 2]       ┆ [1, 7, 1]     │\n",
      "│ [2, 4]        ┆ [2, -1, 0]    │\n",
      "└───────────────┴───────────────┘\n"
     ]
    }
   ],
   "execution_count": 196
  },
  {
   "metadata": {},
   "cell_type": "markdown",
   "source": [
    "### 2.2 Konverziók\n",
    "\n",
    "    "
   ],
   "id": "d38707295559cb06"
  },
  {
   "metadata": {
    "ExecuteTime": {
     "end_time": "2024-10-29T19:34:29.606035Z",
     "start_time": "2024-10-29T19:34:29.598910Z"
    }
   },
   "cell_type": "code",
   "source": [
    "\n",
    "df = pl.DataFrame({\n",
    "    \"id\": [1, 2, 3, 4, 5],\n",
    "    \"meres_1\": [6, -1, 3, 9.0, -10],\n",
    "    \"meres_2\": [\"1\", \"2\", \"3\", \"4\", \"5\"]\n",
    "}, strict=False)\n",
    "print(df)\n",
    "print(f\"Becsült méret: {df.estimated_size('b')} bájt\")\n",
    "#region-> polars.DataFrame.cast() metódus használata\n",
    "df = df.with_columns(\n",
    "    pl.col(\"id\").cast(pl.UInt32),\n",
    "    pl.col(\"meres_1\").cast(pl.Int32),\n",
    "    pl.col(\"meres_2\").cast(pl.Int32)\n",
    ")\n",
    "\n",
    "print(df)\n",
    "print(f\"Becsült méret: {df.estimated_size('b')} bájt\")\n",
    "#endregion\n"
   ],
   "id": "dd8769828a327d6a",
   "outputs": [
    {
     "name": "stdout",
     "output_type": "stream",
     "text": [
      "shape: (5, 3)\n",
      "┌─────┬─────────┬─────────┐\n",
      "│ id  ┆ meres_1 ┆ meres_2 │\n",
      "│ --- ┆ ---     ┆ ---     │\n",
      "│ i64 ┆ f64     ┆ str     │\n",
      "╞═════╪═════════╪═════════╡\n",
      "│ 1   ┆ 6.0     ┆ 1       │\n",
      "│ 2   ┆ -1.0    ┆ 2       │\n",
      "│ …   ┆ …       ┆ …       │\n",
      "│ 5   ┆ -10.0   ┆ 5       │\n",
      "└─────┴─────────┴─────────┘\n",
      "Becsült méret: 85 bájt\n",
      "shape: (5, 3)\n",
      "┌─────┬─────────┬─────────┐\n",
      "│ id  ┆ meres_1 ┆ meres_2 │\n",
      "│ --- ┆ ---     ┆ ---     │\n",
      "│ u32 ┆ i32     ┆ i32     │\n",
      "╞═════╪═════════╪═════════╡\n",
      "│ 1   ┆ 6       ┆ 1       │\n",
      "│ 2   ┆ -1      ┆ 2       │\n",
      "│ …   ┆ …       ┆ …       │\n",
      "│ 5   ┆ -10     ┆ 5       │\n",
      "└─────┴─────────┴─────────┘\n",
      "Becsült méret: 60 bájt\n"
     ]
    }
   ],
   "execution_count": 16
  },
  {
   "metadata": {
    "ExecuteTime": {
     "end_time": "2024-10-29T18:15:51.783787Z",
     "start_time": "2024-10-29T18:15:51.772122Z"
    }
   },
   "cell_type": "code",
   "source": [
    "df = pl.DataFrame({\n",
    "    \"id\": [1, 2, 3, 4, 5],\n",
    "    \"meres_1\": [6, -1, 3, 9.0, -10],\n",
    "    \"meres_2\": [1.0, -2.0, 4.0, 5.0, 6.0]\n",
    "}, strict=False).cast(pl.Int32)\n",
    "print(df)"
   ],
   "id": "8d113d9ff50f343",
   "outputs": [
    {
     "name": "stdout",
     "output_type": "stream",
     "text": [
      "shape: (5, 3)\n",
      "┌─────┬─────────┬─────────┐\n",
      "│ id  ┆ meres_1 ┆ meres_2 │\n",
      "│ --- ┆ ---     ┆ ---     │\n",
      "│ i32 ┆ i32     ┆ i32     │\n",
      "╞═════╪═════════╪═════════╡\n",
      "│ 1   ┆ 6       ┆ 1       │\n",
      "│ 2   ┆ -1      ┆ -2      │\n",
      "│ …   ┆ …       ┆ …       │\n",
      "│ 5   ┆ -10     ┆ 6       │\n",
      "└─────┴─────────┴─────────┘\n"
     ]
    }
   ],
   "execution_count": 198
  },
  {
   "metadata": {},
   "cell_type": "markdown",
   "source": [
    "## 3. Ismerkedés a polars.DataFrame osztállyal\n",
    "A `polars.DataFrame` osztály bemutatása a hivatalos dokumentációban:   \n",
    "[https://docs.pola.rs/api/python/stable/reference/dataframe/index.html](https://docs.pola.rs/api/python/stable/reference/dataframe/index.html)   és [implementációja a Github repóban](https://github.com/pola-rs/polars/blob/py-1.12.0/py-polars/polars/dataframe/frame.py#L191-L11302)  "
   ],
   "id": "cad14ca076dd62ae"
  },
  {
   "metadata": {},
   "cell_type": "markdown",
   "source": [
    "**Megjegyzés:** Amennyiben a `df.plot(...)` sorokra `ModuleUpgradeRequiredError: altair>=5.4.0 is required for .plot` hibával találkozunk akkor szükséges az `altair` parancs szükséges az alábbi parancs futtatása:\n",
    "```bash\n",
    "pip install --upgrade altair\n",
    "```"
   ],
   "id": "1a125db0bdbf8c0f"
  },
  {
   "metadata": {
    "ExecuteTime": {
     "end_time": "2024-10-29T19:40:40.986253Z",
     "start_time": "2024-10-29T19:40:40.688241Z"
    }
   },
   "cell_type": "code",
   "source": [
    "#region-> Példa egyszerű Polars dataframe létrehozására, adatok diagramon való megjelenítése\n",
    "import polars as pl\n",
    "from datetime import date\n",
    "\n",
    "df = pl.DataFrame(\n",
    "    {\n",
    "        \"date\": [date(2020, 1, 2), date(2020, 1, 3), date(2020, 1, 4)] * 2,\n",
    "        \"stock\": [\"a\", \"a\", \"a\", \"b\", \"b\", \"b\"],\n",
    "        \"price\": [1, 4, 6, 1, 5, 2],\n",
    "\n",
    "    }\n",
    ")\n",
    "\n",
    "print(f\"A DataFrame sémája: {df.schema}\")\n",
    "print(f\"A DataFrameben tárolt adatok megtekintése: {df}\")\n",
    "print(\"További információk:\", df.describe())\n",
    "\n",
    "df.plot.line(x=\"date\", y=\"price\", color=\"stock\")\n",
    "#endregion"
   ],
   "id": "ba0f7a30a457ed5d",
   "outputs": [
    {
     "name": "stdout",
     "output_type": "stream",
     "text": [
      "A DataFrame sémája: Schema({'date': Date, 'stock': String, 'price': Int64})\n",
      "A DataFrameben tárolt adatok megtekintése: shape: (6, 3)\n",
      "┌────────────┬───────┬───────┐\n",
      "│ date       ┆ stock ┆ price │\n",
      "│ ---        ┆ ---   ┆ ---   │\n",
      "│ date       ┆ str   ┆ i64   │\n",
      "╞════════════╪═══════╪═══════╡\n",
      "│ 2020-01-02 ┆ a     ┆ 1     │\n",
      "│ 2020-01-03 ┆ a     ┆ 4     │\n",
      "│ …          ┆ …     ┆ …     │\n",
      "│ 2020-01-04 ┆ b     ┆ 2     │\n",
      "└────────────┴───────┴───────┘\n",
      "További információk: shape: (9, 4)\n",
      "┌────────────┬────────────┬───────┬───────┐\n",
      "│ statistic  ┆ date       ┆ stock ┆ price │\n",
      "│ ---        ┆ ---        ┆ ---   ┆ ---   │\n",
      "│ str        ┆ str        ┆ str   ┆ f64   │\n",
      "╞════════════╪════════════╪═══════╪═══════╡\n",
      "│ count      ┆ 6          ┆ 6     ┆ 6.0   │\n",
      "│ null_count ┆ 0          ┆ 0     ┆ 0.0   │\n",
      "│ …          ┆ …          ┆ …     ┆ …     │\n",
      "│ max        ┆ 2020-01-04 ┆ b     ┆ 6.0   │\n",
      "└────────────┴────────────┴───────┴───────┘\n"
     ]
    },
    {
     "data": {
      "text/html": [
       "\n",
       "<style>\n",
       "  #altair-viz-48b7c034154c403e8924bb32094e06f6.vega-embed {\n",
       "    width: 100%;\n",
       "    display: flex;\n",
       "  }\n",
       "\n",
       "  #altair-viz-48b7c034154c403e8924bb32094e06f6.vega-embed details,\n",
       "  #altair-viz-48b7c034154c403e8924bb32094e06f6.vega-embed details summary {\n",
       "    position: relative;\n",
       "  }\n",
       "</style>\n",
       "<div id=\"altair-viz-48b7c034154c403e8924bb32094e06f6\"></div>\n",
       "<script type=\"text/javascript\">\n",
       "  var VEGA_DEBUG = (typeof VEGA_DEBUG == \"undefined\") ? {} : VEGA_DEBUG;\n",
       "  (function(spec, embedOpt){\n",
       "    let outputDiv = document.currentScript.previousElementSibling;\n",
       "    if (outputDiv.id !== \"altair-viz-48b7c034154c403e8924bb32094e06f6\") {\n",
       "      outputDiv = document.getElementById(\"altair-viz-48b7c034154c403e8924bb32094e06f6\");\n",
       "    }\n",
       "    const paths = {\n",
       "      \"vega\": \"https://cdn.jsdelivr.net/npm/vega@5?noext\",\n",
       "      \"vega-lib\": \"https://cdn.jsdelivr.net/npm/vega-lib?noext\",\n",
       "      \"vega-lite\": \"https://cdn.jsdelivr.net/npm/vega-lite@5.20.1?noext\",\n",
       "      \"vega-embed\": \"https://cdn.jsdelivr.net/npm/vega-embed@6?noext\",\n",
       "    };\n",
       "\n",
       "    function maybeLoadScript(lib, version) {\n",
       "      var key = `${lib.replace(\"-\", \"\")}_version`;\n",
       "      return (VEGA_DEBUG[key] == version) ?\n",
       "        Promise.resolve(paths[lib]) :\n",
       "        new Promise(function(resolve, reject) {\n",
       "          var s = document.createElement('script');\n",
       "          document.getElementsByTagName(\"head\")[0].appendChild(s);\n",
       "          s.async = true;\n",
       "          s.onload = () => {\n",
       "            VEGA_DEBUG[key] = version;\n",
       "            return resolve(paths[lib]);\n",
       "          };\n",
       "          s.onerror = () => reject(`Error loading script: ${paths[lib]}`);\n",
       "          s.src = paths[lib];\n",
       "        });\n",
       "    }\n",
       "\n",
       "    function showError(err) {\n",
       "      outputDiv.innerHTML = `<div class=\"error\" style=\"color:red;\">${err}</div>`;\n",
       "      throw err;\n",
       "    }\n",
       "\n",
       "    function displayChart(vegaEmbed) {\n",
       "      vegaEmbed(outputDiv, spec, embedOpt)\n",
       "        .catch(err => showError(`Javascript Error: ${err.message}<br>This usually means there's a typo in your chart specification. See the javascript console for the full traceback.`));\n",
       "    }\n",
       "\n",
       "    if(typeof define === \"function\" && define.amd) {\n",
       "      requirejs.config({paths});\n",
       "      require([\"vega-embed\"], displayChart, err => showError(`Error loading script: ${err.message}`));\n",
       "    } else {\n",
       "      maybeLoadScript(\"vega\", \"5\")\n",
       "        .then(() => maybeLoadScript(\"vega-lite\", \"5.20.1\"))\n",
       "        .then(() => maybeLoadScript(\"vega-embed\", \"6\"))\n",
       "        .catch(showError)\n",
       "        .then(() => displayChart(vegaEmbed));\n",
       "    }\n",
       "  })({\"config\": {\"view\": {\"continuousWidth\": 300, \"continuousHeight\": 300}}, \"data\": {\"name\": \"data-2570eccee77fe25af3fdf118b1812d4d\"}, \"mark\": {\"type\": \"line\", \"tooltip\": true}, \"encoding\": {\"color\": {\"field\": \"stock\", \"type\": \"nominal\"}, \"x\": {\"field\": \"date\", \"type\": \"temporal\"}, \"y\": {\"field\": \"price\", \"type\": \"quantitative\"}}, \"params\": [{\"name\": \"param_1\", \"select\": {\"type\": \"interval\", \"encodings\": [\"x\", \"y\"]}, \"bind\": \"scales\"}], \"$schema\": \"https://vega.github.io/schema/vega-lite/v5.20.1.json\", \"datasets\": {\"data-2570eccee77fe25af3fdf118b1812d4d\": [{\"date\": \"2020-01-02T00:00:00\", \"stock\": \"a\", \"price\": 1}, {\"date\": \"2020-01-03T00:00:00\", \"stock\": \"a\", \"price\": 4}, {\"date\": \"2020-01-04T00:00:00\", \"stock\": \"a\", \"price\": 6}, {\"date\": \"2020-01-02T00:00:00\", \"stock\": \"b\", \"price\": 1}, {\"date\": \"2020-01-03T00:00:00\", \"stock\": \"b\", \"price\": 5}, {\"date\": \"2020-01-04T00:00:00\", \"stock\": \"b\", \"price\": 2}]}}, {\"mode\": \"vega-lite\"});\n",
       "</script>"
      ],
      "text/plain": [
       "alt.Chart(...)"
      ]
     },
     "execution_count": 17,
     "metadata": {},
     "output_type": "execute_result"
    }
   ],
   "execution_count": 17
  },
  {
   "metadata": {},
   "cell_type": "markdown",
   "source": [
    "Hozzunk létre egy Polars DataFrame-t egy Pandas DataFrame-ből.  \n",
    "[polars.from_pandas](https://docs.pola.rs/api/python/stable/reference/api/polars.from_pandas.html#polars-from-pandas)  \n",
    "[polars.DataFrame.to_pandas](https://docs.pola.rs/api/python/stable/reference/dataframe/api/polars.DataFrame.to_pandas.html#polars.DataFrame.to_pandas)\n",
    " \n"
   ],
   "id": "bb3b10fccd6c16f1"
  },
  {
   "metadata": {
    "ExecuteTime": {
     "end_time": "2024-10-29T19:44:13.320410Z",
     "start_time": "2024-10-29T19:44:12.484354Z"
    }
   },
   "cell_type": "code",
   "source": [
    "#region-> Példa a Polars és Pandas DataFrame-k közötti konverzióra\n",
    "import pandas as pd\n",
    "import polars as pl\n",
    "\n",
    "df_pd = pd.DataFrame({\n",
    "    'x': [1, 2, 3],\n",
    "    'y': [4, 5, 6],\n",
    "    'z': [7, 8, 9]\n",
    "})\n",
    "\n",
    "\n",
    "df_pl = pl.from_pandas(df_pd)\n",
    "df_pd['x'] = [10, 20, 30]\n",
    "\n",
    "print(\"A módosított Pandas dataframe:\")\n",
    "print(df_pd)\n",
    "\n",
    "print(\"\\nA Polars dataframe nem módosul\")\n",
    "print(df_pl)\n",
    "#endregion\n"
   ],
   "id": "f8400ea1fdf53cb2",
   "outputs": [
    {
     "name": "stdout",
     "output_type": "stream",
     "text": [
      "A módosított Pandas dataframe:\n",
      "    x  y  z\n",
      "0  10  4  7\n",
      "1  20  5  8\n",
      "2  30  6  9\n",
      "\n",
      "A Polars dataframe nem módosul\n",
      "shape: (3, 3)\n",
      "┌─────┬─────┬─────┐\n",
      "│ x   ┆ y   ┆ z   │\n",
      "│ --- ┆ --- ┆ --- │\n",
      "│ i64 ┆ i64 ┆ i64 │\n",
      "╞═════╪═════╪═════╡\n",
      "│ 1   ┆ 4   ┆ 7   │\n",
      "│ 2   ┆ 5   ┆ 8   │\n",
      "│ 3   ┆ 6   ┆ 9   │\n",
      "└─────┴─────┴─────┘\n"
     ]
    }
   ],
   "execution_count": 18
  },
  {
   "metadata": {},
   "cell_type": "markdown",
   "source": [
    "### M01 - első mérkőzés  \n",
    "![](assets/pandas_vs_polars_h_128.png)  \n",
    "\n",
    " \n",
    "Most hogy lassan ismerkedünk az új szintaxissal, ideje egy kis mérkőzésnek: nyissuk meg a `introduction_to_polars.ipynb` Jupyter notebookot."
   ],
   "id": "4677a51ef26dd9ae"
  },
  {
   "metadata": {},
   "cell_type": "markdown",
   "source": [
    "## 4. Kifejezések, DataFrame műveletek\n",
    "Link a dokumentációhoz: [Expressions](https://docs.pola.rs/api/python/stable/reference/expressions/index.html). "
   ],
   "id": "54470b0a4fae8b00"
  },
  {
   "metadata": {},
   "cell_type": "markdown",
   "source": [
    "\n",
    "A kifejezések a Polars könyvtár egyik alapeleme, mégis önmagukban a kifejezések nem tesznek semmit.  \n",
    "A gyakorlatban a kifejezéseket úgy alkalmazzák, hogy átadják őket néhány `DataFrame` vagy `LazyFrame` metódusnak.\n",
    "\n",
    "Nézünk pár példát a kifejezések használatára:\n",
    "\n",
    "- Oszlopok kiválasztása a `df.select()` metódussal\n",
    "- Új oszlopok létrehozása a `df.with_columns()` metódussal\n",
    "- Sorok szűrése a `df.filter()` metódussal\n",
    "- Aggregálás a `df.group_by()` metódussal\n",
    "- Sorok rendezése a `df.sort()` metódussal\n",
    "\n",
    "A példákhoz használjuk a már jól ismert pingvin datasetet."
   ],
   "id": "8cf7c17eef0eee91"
  },
  {
   "metadata": {},
   "cell_type": "markdown",
   "source": [
    "### 4.1 Oszlopok kiválasztása, létrehozása"
   ],
   "id": "9d9531cc3d4968e4"
  },
  {
   "metadata": {
    "ExecuteTime": {
     "end_time": "2024-10-29T19:57:50.849414Z",
     "start_time": "2024-10-29T19:57:50.781065Z"
    }
   },
   "cell_type": "code",
   "source": [
    "import polars as pl\n",
    "\n",
    "\n",
    "def get_penguins_df() -> pl.DataFrame:\n",
    "    \"\"\"\n",
    "    \n",
    "    :return: \n",
    "    \"\"\"\n",
    "    return pl.read_csv(\"data/penguins.csv\", null_values=\"NA\")\n",
    "\n",
    "\n",
    "#region-> beolvasás csv fájlból\n",
    "df = get_penguins_df()\n",
    "with pl.Config(tbl_cols=-1, tbl_rows=10):\n",
    "    print(df.schema)\n",
    "    print(df)\n",
    "#endregion    \n"
   ],
   "id": "d1286add76769211",
   "outputs": [
    {
     "name": "stdout",
     "output_type": "stream",
     "text": [
      "Schema({'rowid': Int64, 'species': String, 'island': String, 'bill_length_mm': Float64, 'bill_depth_mm': Float64, 'flipper_length_mm': Int64, 'body_mass_g': Int64, 'sex': String, 'year': Int64})\n",
      "shape: (344, 9)\n",
      "┌───────┬───────────┬───────────┬────────────┬────────────┬────────────┬───────────┬────────┬──────┐\n",
      "│ rowid ┆ species   ┆ island    ┆ bill_lengt ┆ bill_depth ┆ flipper_le ┆ body_mass ┆ sex    ┆ year │\n",
      "│ ---   ┆ ---       ┆ ---       ┆ h_mm       ┆ _mm        ┆ ngth_mm    ┆ _g        ┆ ---    ┆ ---  │\n",
      "│ i64   ┆ str       ┆ str       ┆ ---        ┆ ---        ┆ ---        ┆ ---       ┆ str    ┆ i64  │\n",
      "│       ┆           ┆           ┆ f64        ┆ f64        ┆ i64        ┆ i64       ┆        ┆      │\n",
      "╞═══════╪═══════════╪═══════════╪════════════╪════════════╪════════════╪═══════════╪════════╪══════╡\n",
      "│ 1     ┆ Adelie    ┆ Torgersen ┆ 39.1       ┆ 18.7       ┆ 181        ┆ 3750      ┆ male   ┆ 2007 │\n",
      "│ 2     ┆ Adelie    ┆ Torgersen ┆ 39.5       ┆ 17.4       ┆ 186        ┆ 3800      ┆ female ┆ 2007 │\n",
      "│ 3     ┆ Adelie    ┆ Torgersen ┆ 40.3       ┆ 18.0       ┆ 195        ┆ 3250      ┆ female ┆ 2007 │\n",
      "│ 4     ┆ Adelie    ┆ Torgersen ┆ null       ┆ null       ┆ null       ┆ null      ┆ null   ┆ 2007 │\n",
      "│ 5     ┆ Adelie    ┆ Torgersen ┆ 36.7       ┆ 19.3       ┆ 193        ┆ 3450      ┆ female ┆ 2007 │\n",
      "│ …     ┆ …         ┆ …         ┆ …          ┆ …          ┆ …          ┆ …         ┆ …      ┆ …    │\n",
      "│ 340   ┆ Chinstrap ┆ Dream     ┆ 55.8       ┆ 19.8       ┆ 207        ┆ 4000      ┆ male   ┆ 2009 │\n",
      "│ 341   ┆ Chinstrap ┆ Dream     ┆ 43.5       ┆ 18.1       ┆ 202        ┆ 3400      ┆ female ┆ 2009 │\n",
      "│ 342   ┆ Chinstrap ┆ Dream     ┆ 49.6       ┆ 18.2       ┆ 193        ┆ 3775      ┆ male   ┆ 2009 │\n",
      "│ 343   ┆ Chinstrap ┆ Dream     ┆ 50.8       ┆ 19.0       ┆ 210        ┆ 4100      ┆ male   ┆ 2009 │\n",
      "│ 344   ┆ Chinstrap ┆ Dream     ┆ 50.2       ┆ 18.7       ┆ 198        ┆ 3775      ┆ female ┆ 2009 │\n",
      "└───────┴───────────┴───────────┴────────────┴────────────┴────────────┴───────────┴────────┴──────┘\n"
     ]
    }
   ],
   "execution_count": 19
  },
  {
   "metadata": {
    "ExecuteTime": {
     "end_time": "2024-10-29T18:15:52.008762Z",
     "start_time": "2024-10-29T18:15:52.005571Z"
    }
   },
   "cell_type": "code",
   "source": [
    "# Válasszuk ki az összes oszlopot\n",
    "df.select(\"*\")\n",
    "df.select(pl.all())"
   ],
   "id": "c512dceefedcc2bc",
   "outputs": [
    {
     "data": {
      "text/plain": [
       "shape: (344, 9)\n",
       "┌───────┬───────────┬───────────┬────────────────┬───┬───────────────┬─────────────┬────────┬──────┐\n",
       "│ rowid ┆ species   ┆ island    ┆ bill_length_mm ┆ … ┆ flipper_lengt ┆ body_mass_g ┆ sex    ┆ year │\n",
       "│ ---   ┆ ---       ┆ ---       ┆ ---            ┆   ┆ h_mm          ┆ ---         ┆ ---    ┆ ---  │\n",
       "│ i64   ┆ str       ┆ str       ┆ f64            ┆   ┆ ---           ┆ i64         ┆ str    ┆ i64  │\n",
       "│       ┆           ┆           ┆                ┆   ┆ i64           ┆             ┆        ┆      │\n",
       "╞═══════╪═══════════╪═══════════╪════════════════╪═══╪═══════════════╪═════════════╪════════╪══════╡\n",
       "│ 1     ┆ Adelie    ┆ Torgersen ┆ 39.1           ┆ … ┆ 181           ┆ 3750        ┆ male   ┆ 2007 │\n",
       "│ 2     ┆ Adelie    ┆ Torgersen ┆ 39.5           ┆ … ┆ 186           ┆ 3800        ┆ female ┆ 2007 │\n",
       "│ …     ┆ …         ┆ …         ┆ …              ┆ … ┆ …             ┆ …           ┆ …      ┆ …    │\n",
       "│ 344   ┆ Chinstrap ┆ Dream     ┆ 50.2           ┆ … ┆ 198           ┆ 3775        ┆ female ┆ 2009 │\n",
       "└───────┴───────────┴───────────┴────────────────┴───┴───────────────┴─────────────┴────────┴──────┘"
      ],
      "text/html": [
       "<div><style>\n",
       ".dataframe > thead > tr,\n",
       ".dataframe > tbody > tr {\n",
       "  text-align: right;\n",
       "  white-space: pre-wrap;\n",
       "}\n",
       "</style>\n",
       "<small>shape: (344, 9)</small><table border=\"1\" class=\"dataframe\"><thead><tr><th>rowid</th><th>species</th><th>island</th><th>bill_length_mm</th><th>bill_depth_mm</th><th>flipper_length_mm</th><th>body_mass_g</th><th>sex</th><th>year</th></tr><tr><td>i64</td><td>str</td><td>str</td><td>f64</td><td>f64</td><td>i64</td><td>i64</td><td>str</td><td>i64</td></tr></thead><tbody><tr><td>1</td><td>&quot;Adelie&quot;</td><td>&quot;Torgersen&quot;</td><td>39.1</td><td>18.7</td><td>181</td><td>3750</td><td>&quot;male&quot;</td><td>2007</td></tr><tr><td>2</td><td>&quot;Adelie&quot;</td><td>&quot;Torgersen&quot;</td><td>39.5</td><td>17.4</td><td>186</td><td>3800</td><td>&quot;female&quot;</td><td>2007</td></tr><tr><td>&hellip;</td><td>&hellip;</td><td>&hellip;</td><td>&hellip;</td><td>&hellip;</td><td>&hellip;</td><td>&hellip;</td><td>&hellip;</td><td>&hellip;</td></tr><tr><td>344</td><td>&quot;Chinstrap&quot;</td><td>&quot;Dream&quot;</td><td>50.2</td><td>18.7</td><td>198</td><td>3775</td><td>&quot;female&quot;</td><td>2009</td></tr></tbody></table></div>"
      ]
     },
     "execution_count": 202,
     "metadata": {},
     "output_type": "execute_result"
    }
   ],
   "execution_count": 202
  },
  {
   "metadata": {
    "ExecuteTime": {
     "end_time": "2024-10-29T18:15:52.048027Z",
     "start_time": "2024-10-29T18:15:52.041997Z"
    }
   },
   "cell_type": "code",
   "source": [
    "#region-> kifejezések használata a DataFrame.select() metódussal\n",
    "df.select(\n",
    "    pl.col(\"rowid\"),\n",
    "    pl.col(\"species\"),  # fontos, az oszlopok neve case-sensitive\n",
    "    pl.col(\"^bill.*$\")  # reguláris kifejezés használata az oszlopok kiválasztásra\n",
    ")\n",
    "#endregion"
   ],
   "id": "a170cbe78d63c616",
   "outputs": [
    {
     "data": {
      "text/plain": [
       "shape: (344, 4)\n",
       "┌───────┬───────────┬────────────────┬───────────────┐\n",
       "│ rowid ┆ species   ┆ bill_length_mm ┆ bill_depth_mm │\n",
       "│ ---   ┆ ---       ┆ ---            ┆ ---           │\n",
       "│ i64   ┆ str       ┆ f64            ┆ f64           │\n",
       "╞═══════╪═══════════╪════════════════╪═══════════════╡\n",
       "│ 1     ┆ Adelie    ┆ 39.1           ┆ 18.7          │\n",
       "│ 2     ┆ Adelie    ┆ 39.5           ┆ 17.4          │\n",
       "│ …     ┆ …         ┆ …              ┆ …             │\n",
       "│ 344   ┆ Chinstrap ┆ 50.2           ┆ 18.7          │\n",
       "└───────┴───────────┴────────────────┴───────────────┘"
      ],
      "text/html": [
       "<div><style>\n",
       ".dataframe > thead > tr,\n",
       ".dataframe > tbody > tr {\n",
       "  text-align: right;\n",
       "  white-space: pre-wrap;\n",
       "}\n",
       "</style>\n",
       "<small>shape: (344, 4)</small><table border=\"1\" class=\"dataframe\"><thead><tr><th>rowid</th><th>species</th><th>bill_length_mm</th><th>bill_depth_mm</th></tr><tr><td>i64</td><td>str</td><td>f64</td><td>f64</td></tr></thead><tbody><tr><td>1</td><td>&quot;Adelie&quot;</td><td>39.1</td><td>18.7</td></tr><tr><td>2</td><td>&quot;Adelie&quot;</td><td>39.5</td><td>17.4</td></tr><tr><td>&hellip;</td><td>&hellip;</td><td>&hellip;</td><td>&hellip;</td></tr><tr><td>344</td><td>&quot;Chinstrap&quot;</td><td>50.2</td><td>18.7</td></tr></tbody></table></div>"
      ]
     },
     "execution_count": 203,
     "metadata": {},
     "output_type": "execute_result"
    }
   ],
   "execution_count": 203
  },
  {
   "metadata": {},
   "cell_type": "markdown",
   "source": [
    "#### 4.1.1 Szelektorok (`column selectors`) használata"
   ],
   "id": "ac69b44125bd8acf"
  },
  {
   "metadata": {
    "ExecuteTime": {
     "end_time": "2024-10-29T18:15:52.125302Z",
     "start_time": "2024-10-29T18:15:52.119792Z"
    }
   },
   "cell_type": "code",
   "source": [
    "import polars.selectors as cs\n",
    "\n",
    "df.select(\n",
    "    cs.by_name(\"species\"),\n",
    "    cs.starts_with(\"bill\"),\n",
    "    cs.contains(\"flipper\")\n",
    ")\n",
    "\n",
    "# oszlop típusa szerinti kiválasztás\n",
    "df.select(cs.by_dtype(pl.UInt16))\n",
    "\n",
    "# oszlopok indexe szerinti kiválasztás\n",
    "df.select(cs.by_index(range(0,3)))\n",
    "\n",
    "# szelektorok összekapcsolása\n",
    "df.select(cs.by_index(range(0,3)) & ~cs.by_dtype(pl.UInt16))\n"
   ],
   "id": "218f465b9a22b984",
   "outputs": [
    {
     "data": {
      "text/plain": [
       "shape: (344, 3)\n",
       "┌───────┬───────────┬───────────┐\n",
       "│ rowid ┆ species   ┆ island    │\n",
       "│ ---   ┆ ---       ┆ ---       │\n",
       "│ i64   ┆ str       ┆ str       │\n",
       "╞═══════╪═══════════╪═══════════╡\n",
       "│ 1     ┆ Adelie    ┆ Torgersen │\n",
       "│ 2     ┆ Adelie    ┆ Torgersen │\n",
       "│ …     ┆ …         ┆ …         │\n",
       "│ 344   ┆ Chinstrap ┆ Dream     │\n",
       "└───────┴───────────┴───────────┘"
      ],
      "text/html": [
       "<div><style>\n",
       ".dataframe > thead > tr,\n",
       ".dataframe > tbody > tr {\n",
       "  text-align: right;\n",
       "  white-space: pre-wrap;\n",
       "}\n",
       "</style>\n",
       "<small>shape: (344, 3)</small><table border=\"1\" class=\"dataframe\"><thead><tr><th>rowid</th><th>species</th><th>island</th></tr><tr><td>i64</td><td>str</td><td>str</td></tr></thead><tbody><tr><td>1</td><td>&quot;Adelie&quot;</td><td>&quot;Torgersen&quot;</td></tr><tr><td>2</td><td>&quot;Adelie&quot;</td><td>&quot;Torgersen&quot;</td></tr><tr><td>&hellip;</td><td>&hellip;</td><td>&hellip;</td></tr><tr><td>344</td><td>&quot;Chinstrap&quot;</td><td>&quot;Dream&quot;</td></tr></tbody></table></div>"
      ]
     },
     "execution_count": 204,
     "metadata": {},
     "output_type": "execute_result"
    }
   ],
   "execution_count": 204
  },
  {
   "metadata": {},
   "cell_type": "markdown",
   "source": [
    "A szelektor operátorokkal 0 vagy több oszlopot tartalmazó halmazt választunk ki.  \n",
    "\n",
    "\n",
    "\n",
    "| Szelektor operátor | Inline Operátor | Leírás                          |\n",
    "|--------------------|-----------------|---------------------------------|\n",
    "| Unió               | \\|              | `x`, vagy `y`, vagy mindkettő   |\n",
    "| Metszet            | &               | mindkettő, `x` és `y` is        |\n",
    "| Különbség          | -               | `x`, ami nincs benne `y`-ban    |\n",
    "| Kizáró VAGY        | ^               | `x`, vagy `y`, de nem mindkettő |\n",
    "| Negáció            | ~               | Nincs benne `x`-ben             |"
   ],
   "id": "e81de4e8554d1b"
  },
  {
   "metadata": {},
   "cell_type": "markdown",
   "source": [
    "### 4.2 Új oszlopok létrehozása"
   ],
   "id": "31f95fad92aeb962"
  },
  {
   "metadata": {
    "ExecuteTime": {
     "end_time": "2024-10-29T18:15:52.256154Z",
     "start_time": "2024-10-29T18:15:52.248386Z"
    }
   },
   "cell_type": "code",
   "source": [
    "# feltételezzük, hogy a 2009-es méréseket követően a pingvinek szárnyainak 10%-os növekedése várható\n",
    "# hozzunk létre egy flipper_legth_in_one_year_mm oszlopot, amely a flipper_length_mm oszlop értékének 10%-ával növelt értékeket tartalmazza\n",
    "df = get_penguins_df()\n",
    "\n",
    "(df.with_columns(\n",
    "    # pl.col(\"flipper_length_mm\").mul(1.1).alias(\"flipper_length_in_one_year_mm\"),\n",
    "    (pl.col(\"flipper_length_mm\") * 1.1).alias(\"flipper_length_in_one_year_mm\"),\n",
    "    (pl.col(\"flipper_length_mm\") / pl.col(\"bill_length_mm\")).alias(\"flipper_to_bill_ratio\"))\n",
    ".with_columns(\n",
    "    bill_length_depth_ratio=pl.col(\"bill_length_mm\") / pl.col(\"bill_depth_mm\"),\n",
    "    planet=pl.lit(\"Earth\"))\n",
    ".select(\n",
    "    pl.col(\"rowid\"),\n",
    "    pl.col(\"species\"),\n",
    "    pl.col(\"bill_length_mm\"),\n",
    "    pl.col(\"flipper_length_mm\"),\n",
    "    pl.col(\"flipper_length_in_one_year_mm\"),\n",
    "    pl.col(\"flipper_to_bill_ratio\"),\n",
    "    pl.col(\"bill_length_depth_ratio\"),\n",
    "    pl.col(\"planet\")\n",
    "))\n"
   ],
   "id": "8f63cb299b92f985",
   "outputs": [
    {
     "data": {
      "text/plain": [
       "shape: (344, 8)\n",
       "┌───────┬───────────┬─────────────┬─────────────┬─────────────┬─────────────┬─────────────┬────────┐\n",
       "│ rowid ┆ species   ┆ bill_length ┆ flipper_len ┆ flipper_len ┆ flipper_to_ ┆ bill_length ┆ planet │\n",
       "│ ---   ┆ ---       ┆ _mm         ┆ gth_mm      ┆ gth_in_one_ ┆ bill_ratio  ┆ _depth_rati ┆ ---    │\n",
       "│ i64   ┆ str       ┆ ---         ┆ ---         ┆ year_mm     ┆ ---         ┆ o           ┆ str    │\n",
       "│       ┆           ┆ f64         ┆ i64         ┆ ---         ┆ f64         ┆ ---         ┆        │\n",
       "│       ┆           ┆             ┆             ┆ f64         ┆             ┆ f64         ┆        │\n",
       "╞═══════╪═══════════╪═════════════╪═════════════╪═════════════╪═════════════╪═════════════╪════════╡\n",
       "│ 1     ┆ Adelie    ┆ 39.1        ┆ 181         ┆ 199.1       ┆ 4.629156    ┆ 2.090909    ┆ Earth  │\n",
       "│ 2     ┆ Adelie    ┆ 39.5        ┆ 186         ┆ 204.6       ┆ 4.708861    ┆ 2.270115    ┆ Earth  │\n",
       "│ …     ┆ …         ┆ …           ┆ …           ┆ …           ┆ …           ┆ …           ┆ …      │\n",
       "│ 344   ┆ Chinstrap ┆ 50.2        ┆ 198         ┆ 217.8       ┆ 3.944223    ┆ 2.684492    ┆ Earth  │\n",
       "└───────┴───────────┴─────────────┴─────────────┴─────────────┴─────────────┴─────────────┴────────┘"
      ],
      "text/html": [
       "<div><style>\n",
       ".dataframe > thead > tr,\n",
       ".dataframe > tbody > tr {\n",
       "  text-align: right;\n",
       "  white-space: pre-wrap;\n",
       "}\n",
       "</style>\n",
       "<small>shape: (344, 8)</small><table border=\"1\" class=\"dataframe\"><thead><tr><th>rowid</th><th>species</th><th>bill_length_mm</th><th>flipper_length_mm</th><th>flipper_length_in_one_year_mm</th><th>flipper_to_bill_ratio</th><th>bill_length_depth_ratio</th><th>planet</th></tr><tr><td>i64</td><td>str</td><td>f64</td><td>i64</td><td>f64</td><td>f64</td><td>f64</td><td>str</td></tr></thead><tbody><tr><td>1</td><td>&quot;Adelie&quot;</td><td>39.1</td><td>181</td><td>199.1</td><td>4.629156</td><td>2.090909</td><td>&quot;Earth&quot;</td></tr><tr><td>2</td><td>&quot;Adelie&quot;</td><td>39.5</td><td>186</td><td>204.6</td><td>4.708861</td><td>2.270115</td><td>&quot;Earth&quot;</td></tr><tr><td>&hellip;</td><td>&hellip;</td><td>&hellip;</td><td>&hellip;</td><td>&hellip;</td><td>&hellip;</td><td>&hellip;</td><td>&hellip;</td></tr><tr><td>344</td><td>&quot;Chinstrap&quot;</td><td>50.2</td><td>198</td><td>217.8</td><td>3.944223</td><td>2.684492</td><td>&quot;Earth&quot;</td></tr></tbody></table></div>"
      ]
     },
     "execution_count": 205,
     "metadata": {},
     "output_type": "execute_result"
    }
   ],
   "execution_count": 205
  },
  {
   "metadata": {},
   "cell_type": "markdown",
   "source": [
    "\n",
    "### 4.3 Szűrés\n",
    "\n",
    "Dokumentáció: [df.filter() metódus használata a sorok szűrésére](https://docs.pola.rs/api/python/stable/reference/dataframe/api/polars.DataFrame.filter.html)"
   ],
   "id": "1d6401c0943ffb2"
  },
  {
   "metadata": {
    "ExecuteTime": {
     "end_time": "2024-10-29T18:15:52.383609Z",
     "start_time": "2024-10-29T18:15:52.365972Z"
    }
   },
   "cell_type": "code",
   "source": [
    "df.filter(\n",
    "    pl.col(\"species\") == \"Adelie\",\n",
    "    pl.col(\"island\") == \"Biscoe\",\n",
    "    pl.col(\"flipper_length_mm\") > 180,\n",
    "    pl.all().is_not_null()\n",
    ")"
   ],
   "id": "61f9bf29474b1dfa",
   "outputs": [
    {
     "name": "stderr",
     "output_type": "stream",
     "text": [
      "dataframe filtered\n"
     ]
    },
    {
     "data": {
      "text/plain": [
       "shape: (39, 9)\n",
       "┌───────┬─────────┬────────┬────────────────┬───┬───────────────────┬─────────────┬────────┬──────┐\n",
       "│ rowid ┆ species ┆ island ┆ bill_length_mm ┆ … ┆ flipper_length_mm ┆ body_mass_g ┆ sex    ┆ year │\n",
       "│ ---   ┆ ---     ┆ ---    ┆ ---            ┆   ┆ ---               ┆ ---         ┆ ---    ┆ ---  │\n",
       "│ i64   ┆ str     ┆ str    ┆ f64            ┆   ┆ i64               ┆ i64         ┆ str    ┆ i64  │\n",
       "╞═══════╪═════════╪════════╪════════════════╪═══╪═══════════════════╪═════════════╪════════╪══════╡\n",
       "│ 23    ┆ Adelie  ┆ Biscoe ┆ 35.9           ┆ … ┆ 189               ┆ 3800        ┆ female ┆ 2007 │\n",
       "│ 24    ┆ Adelie  ┆ Biscoe ┆ 38.2           ┆ … ┆ 185               ┆ 3950        ┆ male   ┆ 2007 │\n",
       "│ …     ┆ …       ┆ …      ┆ …              ┆ … ┆ …                 ┆ …           ┆ …      ┆ …    │\n",
       "│ 116   ┆ Adelie  ┆ Biscoe ┆ 42.7           ┆ … ┆ 196               ┆ 4075        ┆ male   ┆ 2009 │\n",
       "└───────┴─────────┴────────┴────────────────┴───┴───────────────────┴─────────────┴────────┴──────┘"
      ],
      "text/html": [
       "<div><style>\n",
       ".dataframe > thead > tr,\n",
       ".dataframe > tbody > tr {\n",
       "  text-align: right;\n",
       "  white-space: pre-wrap;\n",
       "}\n",
       "</style>\n",
       "<small>shape: (39, 9)</small><table border=\"1\" class=\"dataframe\"><thead><tr><th>rowid</th><th>species</th><th>island</th><th>bill_length_mm</th><th>bill_depth_mm</th><th>flipper_length_mm</th><th>body_mass_g</th><th>sex</th><th>year</th></tr><tr><td>i64</td><td>str</td><td>str</td><td>f64</td><td>f64</td><td>i64</td><td>i64</td><td>str</td><td>i64</td></tr></thead><tbody><tr><td>23</td><td>&quot;Adelie&quot;</td><td>&quot;Biscoe&quot;</td><td>35.9</td><td>19.2</td><td>189</td><td>3800</td><td>&quot;female&quot;</td><td>2007</td></tr><tr><td>24</td><td>&quot;Adelie&quot;</td><td>&quot;Biscoe&quot;</td><td>38.2</td><td>18.1</td><td>185</td><td>3950</td><td>&quot;male&quot;</td><td>2007</td></tr><tr><td>&hellip;</td><td>&hellip;</td><td>&hellip;</td><td>&hellip;</td><td>&hellip;</td><td>&hellip;</td><td>&hellip;</td><td>&hellip;</td><td>&hellip;</td></tr><tr><td>116</td><td>&quot;Adelie&quot;</td><td>&quot;Biscoe&quot;</td><td>42.7</td><td>18.3</td><td>196</td><td>4075</td><td>&quot;male&quot;</td><td>2009</td></tr></tbody></table></div>"
      ]
     },
     "execution_count": 206,
     "metadata": {},
     "output_type": "execute_result"
    }
   ],
   "execution_count": 206
  },
  {
   "metadata": {},
   "cell_type": "markdown",
   "source": [
    "### 4.4 Rendezés"
   ],
   "id": "2712c57751b26a6e"
  },
  {
   "metadata": {
    "ExecuteTime": {
     "end_time": "2024-10-29T18:15:52.789258Z",
     "start_time": "2024-10-29T18:15:52.765779Z"
    }
   },
   "cell_type": "code",
   "source": [
    "\n",
    "df1 = get_penguins_df()\n",
    "\n",
    "# Rendezés egy szempont szerint\n",
    "df1 \\\n",
    "    .filter(pl.col(\"rowid\").is_between(4, 12)) \\\n",
    "    .sort(\"flipper_length_mm\", nulls_last=True)"
   ],
   "id": "9b990d5a98c57a31",
   "outputs": [
    {
     "name": "stderr",
     "output_type": "stream",
     "text": [
      "dataframe filtered\n"
     ]
    },
    {
     "data": {
      "text/plain": [
       "shape: (9, 9)\n",
       "┌───────┬─────────┬───────────┬────────────────┬───┬─────────────────┬─────────────┬────────┬──────┐\n",
       "│ rowid ┆ species ┆ island    ┆ bill_length_mm ┆ … ┆ flipper_length_ ┆ body_mass_g ┆ sex    ┆ year │\n",
       "│ ---   ┆ ---     ┆ ---       ┆ ---            ┆   ┆ mm              ┆ ---         ┆ ---    ┆ ---  │\n",
       "│ i64   ┆ str     ┆ str       ┆ f64            ┆   ┆ ---             ┆ i64         ┆ str    ┆ i64  │\n",
       "│       ┆         ┆           ┆                ┆   ┆ i64             ┆             ┆        ┆      │\n",
       "╞═══════╪═════════╪═══════════╪════════════════╪═══╪═════════════════╪═════════════╪════════╪══════╡\n",
       "│ 12    ┆ Adelie  ┆ Torgersen ┆ 37.8           ┆ … ┆ 180             ┆ 3700        ┆ null   ┆ 2007 │\n",
       "│ 7     ┆ Adelie  ┆ Torgersen ┆ 38.9           ┆ … ┆ 181             ┆ 3625        ┆ female ┆ 2007 │\n",
       "│ …     ┆ …       ┆ …         ┆ …              ┆ … ┆ …               ┆ …           ┆ …      ┆ …    │\n",
       "│ 4     ┆ Adelie  ┆ Torgersen ┆ null           ┆ … ┆ null            ┆ null        ┆ null   ┆ 2007 │\n",
       "└───────┴─────────┴───────────┴────────────────┴───┴─────────────────┴─────────────┴────────┴──────┘"
      ],
      "text/html": [
       "<div><style>\n",
       ".dataframe > thead > tr,\n",
       ".dataframe > tbody > tr {\n",
       "  text-align: right;\n",
       "  white-space: pre-wrap;\n",
       "}\n",
       "</style>\n",
       "<small>shape: (9, 9)</small><table border=\"1\" class=\"dataframe\"><thead><tr><th>rowid</th><th>species</th><th>island</th><th>bill_length_mm</th><th>bill_depth_mm</th><th>flipper_length_mm</th><th>body_mass_g</th><th>sex</th><th>year</th></tr><tr><td>i64</td><td>str</td><td>str</td><td>f64</td><td>f64</td><td>i64</td><td>i64</td><td>str</td><td>i64</td></tr></thead><tbody><tr><td>12</td><td>&quot;Adelie&quot;</td><td>&quot;Torgersen&quot;</td><td>37.8</td><td>17.3</td><td>180</td><td>3700</td><td>null</td><td>2007</td></tr><tr><td>7</td><td>&quot;Adelie&quot;</td><td>&quot;Torgersen&quot;</td><td>38.9</td><td>17.8</td><td>181</td><td>3625</td><td>&quot;female&quot;</td><td>2007</td></tr><tr><td>&hellip;</td><td>&hellip;</td><td>&hellip;</td><td>&hellip;</td><td>&hellip;</td><td>&hellip;</td><td>&hellip;</td><td>&hellip;</td><td>&hellip;</td></tr><tr><td>4</td><td>&quot;Adelie&quot;</td><td>&quot;Torgersen&quot;</td><td>null</td><td>null</td><td>null</td><td>null</td><td>null</td><td>2007</td></tr></tbody></table></div>"
      ]
     },
     "execution_count": 207,
     "metadata": {},
     "output_type": "execute_result"
    }
   ],
   "execution_count": 207
  },
  {
   "metadata": {
    "ExecuteTime": {
     "end_time": "2024-10-29T18:15:53.583593Z",
     "start_time": "2024-10-29T18:15:53.550460Z"
    }
   },
   "cell_type": "code",
   "source": [
    "# Rendezés több szempont szerint\n",
    "df1.sort(\"species\", \"bill_length_mm\", \"bill_depth_mm\", \"flipper_length_mm\",\n",
    "         descending=[False, True, True, True],\n",
    "         nulls_last=True)\n"
   ],
   "id": "69ce82029810a01e",
   "outputs": [
    {
     "data": {
      "text/plain": [
       "shape: (344, 9)\n",
       "┌───────┬─────────┬───────────┬────────────────┬───┬───────────────────┬─────────────┬──────┬──────┐\n",
       "│ rowid ┆ species ┆ island    ┆ bill_length_mm ┆ … ┆ flipper_length_mm ┆ body_mass_g ┆ sex  ┆ year │\n",
       "│ ---   ┆ ---     ┆ ---       ┆ ---            ┆   ┆ ---               ┆ ---         ┆ ---  ┆ ---  │\n",
       "│ i64   ┆ str     ┆ str       ┆ f64            ┆   ┆ i64               ┆ i64         ┆ str  ┆ i64  │\n",
       "╞═══════╪═════════╪═══════════╪════════════════╪═══╪═══════════════════╪═════════════╪══════╪══════╡\n",
       "│ 20    ┆ Adelie  ┆ Torgersen ┆ 46.0           ┆ … ┆ 194               ┆ 4200        ┆ male ┆ 2007 │\n",
       "│ 74    ┆ Adelie  ┆ Torgersen ┆ 45.8           ┆ … ┆ 197               ┆ 4150        ┆ male ┆ 2008 │\n",
       "│ …     ┆ …       ┆ …         ┆ …              ┆ … ┆ …                 ┆ …           ┆ …    ┆ …    │\n",
       "│ 272   ┆ Gentoo  ┆ Biscoe    ┆ null           ┆ … ┆ null              ┆ null        ┆ null ┆ 2009 │\n",
       "└───────┴─────────┴───────────┴────────────────┴───┴───────────────────┴─────────────┴──────┴──────┘"
      ],
      "text/html": [
       "<div><style>\n",
       ".dataframe > thead > tr,\n",
       ".dataframe > tbody > tr {\n",
       "  text-align: right;\n",
       "  white-space: pre-wrap;\n",
       "}\n",
       "</style>\n",
       "<small>shape: (344, 9)</small><table border=\"1\" class=\"dataframe\"><thead><tr><th>rowid</th><th>species</th><th>island</th><th>bill_length_mm</th><th>bill_depth_mm</th><th>flipper_length_mm</th><th>body_mass_g</th><th>sex</th><th>year</th></tr><tr><td>i64</td><td>str</td><td>str</td><td>f64</td><td>f64</td><td>i64</td><td>i64</td><td>str</td><td>i64</td></tr></thead><tbody><tr><td>20</td><td>&quot;Adelie&quot;</td><td>&quot;Torgersen&quot;</td><td>46.0</td><td>21.5</td><td>194</td><td>4200</td><td>&quot;male&quot;</td><td>2007</td></tr><tr><td>74</td><td>&quot;Adelie&quot;</td><td>&quot;Torgersen&quot;</td><td>45.8</td><td>18.9</td><td>197</td><td>4150</td><td>&quot;male&quot;</td><td>2008</td></tr><tr><td>&hellip;</td><td>&hellip;</td><td>&hellip;</td><td>&hellip;</td><td>&hellip;</td><td>&hellip;</td><td>&hellip;</td><td>&hellip;</td><td>&hellip;</td></tr><tr><td>272</td><td>&quot;Gentoo&quot;</td><td>&quot;Biscoe&quot;</td><td>null</td><td>null</td><td>null</td><td>null</td><td>null</td><td>2009</td></tr></tbody></table></div>"
      ]
     },
     "execution_count": 208,
     "metadata": {},
     "output_type": "execute_result"
    }
   ],
   "execution_count": 208
  },
  {
   "metadata": {},
   "cell_type": "markdown",
   "source": [
    "## 5. Adatok lekérdezése több DataFrame-ből (joins)\n",
    "\n",
    "| Paraméter     | Leírás                                                                                                                    |\n",
    "|---------------|---------------------------------------------------------------------------------------------------------------------------|\n",
    "| `other`       | A DataFrame, amelyhez az aktuális DataFrame-t illesztjük                                                                  |\n",
    "| `on`          | Az oszlop(ok), amelyeken az illesztést végre kell hajtani, amennyiben az oszlopnév megegyezik a bal és jobb DataFrameben. |\n",
    "| `left_on` és `right_on` | Az oszlop(ok), amelyeken a csatlakozást végre kell hajtani, ha az oszlopok eltérő nevet viselnek a bal és jobb keretben.  |\n",
    "| `how`         | Az illesztés típusa                                                                                                       |\n",
    "| `suffix`      | Az utótag, amely a mindkét DataFrame-be megjelenő oszlopokhoz lesz hozzáadva.                                             |\n",
    "| `validate`    | Ellenőrzés az illesztéshez                                                                                                |\n",
    "| `join_nulls`  | Null értékek illesztése. Alapértelmezés szerint a null értékek nem vesszük figyelembe join esetén.                        |\n"
   ],
   "id": "7ffd81b71ba30074"
  },
  {
   "metadata": {
    "ExecuteTime": {
     "end_time": "2024-10-29T18:15:53.794861Z",
     "start_time": "2024-10-29T18:15:53.790234Z"
    }
   },
   "cell_type": "code",
   "source": [
    "keys_1 = [\"K1\", \"K2\", \"K3\", \"K4\"]\n",
    "df1 = pl.DataFrame({\n",
    "    \"key\": keys_1,\n",
    "    \"value\": np.random.randint(1, 10, len(keys_1))\n",
    "})\n",
    "df1"
   ],
   "id": "a0c9318ea478f80f",
   "outputs": [
    {
     "data": {
      "text/plain": [
       "shape: (4, 2)\n",
       "┌─────┬───────┐\n",
       "│ key ┆ value │\n",
       "│ --- ┆ ---   │\n",
       "│ str ┆ i64   │\n",
       "╞═════╪═══════╡\n",
       "│ K1  ┆ 6     │\n",
       "│ K2  ┆ 7     │\n",
       "│ …   ┆ …     │\n",
       "│ K4  ┆ 8     │\n",
       "└─────┴───────┘"
      ],
      "text/html": [
       "<div><style>\n",
       ".dataframe > thead > tr,\n",
       ".dataframe > tbody > tr {\n",
       "  text-align: right;\n",
       "  white-space: pre-wrap;\n",
       "}\n",
       "</style>\n",
       "<small>shape: (4, 2)</small><table border=\"1\" class=\"dataframe\"><thead><tr><th>key</th><th>value</th></tr><tr><td>str</td><td>i64</td></tr></thead><tbody><tr><td>&quot;K1&quot;</td><td>6</td></tr><tr><td>&quot;K2&quot;</td><td>7</td></tr><tr><td>&hellip;</td><td>&hellip;</td></tr><tr><td>&quot;K4&quot;</td><td>8</td></tr></tbody></table></div>"
      ]
     },
     "execution_count": 209,
     "metadata": {},
     "output_type": "execute_result"
    }
   ],
   "execution_count": 209
  },
  {
   "metadata": {
    "ExecuteTime": {
     "end_time": "2024-10-29T18:15:53.906401Z",
     "start_time": "2024-10-29T18:15:53.901301Z"
    }
   },
   "cell_type": "code",
   "source": [
    "keys_2 = [\"K2\", \"K2\", \"K3\", \"K4\", \"K5\", \"K6\"]\n",
    "df2 = pl.DataFrame({\n",
    "    \"key\": keys_2,\n",
    "    \"value\": np.random.randint(1, 10, len(keys_2))\n",
    "})\n",
    "df2"
   ],
   "id": "f999ed0afdf91879",
   "outputs": [
    {
     "data": {
      "text/plain": [
       "shape: (6, 2)\n",
       "┌─────┬───────┐\n",
       "│ key ┆ value │\n",
       "│ --- ┆ ---   │\n",
       "│ str ┆ i64   │\n",
       "╞═════╪═══════╡\n",
       "│ K2  ┆ 9     │\n",
       "│ K2  ┆ 1     │\n",
       "│ …   ┆ …     │\n",
       "│ K6  ┆ 2     │\n",
       "└─────┴───────┘"
      ],
      "text/html": [
       "<div><style>\n",
       ".dataframe > thead > tr,\n",
       ".dataframe > tbody > tr {\n",
       "  text-align: right;\n",
       "  white-space: pre-wrap;\n",
       "}\n",
       "</style>\n",
       "<small>shape: (6, 2)</small><table border=\"1\" class=\"dataframe\"><thead><tr><th>key</th><th>value</th></tr><tr><td>str</td><td>i64</td></tr></thead><tbody><tr><td>&quot;K2&quot;</td><td>9</td></tr><tr><td>&quot;K2&quot;</td><td>1</td></tr><tr><td>&hellip;</td><td>&hellip;</td></tr><tr><td>&quot;K6&quot;</td><td>2</td></tr></tbody></table></div>"
      ]
     },
     "execution_count": 210,
     "metadata": {},
     "output_type": "execute_result"
    }
   ],
   "execution_count": 210
  },
  {
   "metadata": {
    "ExecuteTime": {
     "end_time": "2024-10-29T18:15:54.019638Z",
     "start_time": "2024-10-29T18:15:54.010737Z"
    }
   },
   "cell_type": "code",
   "source": [
    "df1.join(other=df2, on=\"key\", how=\"inner\")"
   ],
   "id": "aae24ff9e2f00125",
   "outputs": [
    {
     "name": "stderr",
     "output_type": "stream",
     "text": [
      "join parallel: true\n",
      "INNER join dataframes finished\n"
     ]
    },
    {
     "data": {
      "text/plain": [
       "shape: (4, 3)\n",
       "┌─────┬───────┬─────────────┐\n",
       "│ key ┆ value ┆ value_right │\n",
       "│ --- ┆ ---   ┆ ---         │\n",
       "│ str ┆ i64   ┆ i64         │\n",
       "╞═════╪═══════╪═════════════╡\n",
       "│ K2  ┆ 7     ┆ 9           │\n",
       "│ K2  ┆ 7     ┆ 1           │\n",
       "│ …   ┆ …     ┆ …           │\n",
       "│ K4  ┆ 8     ┆ 4           │\n",
       "└─────┴───────┴─────────────┘"
      ],
      "text/html": [
       "<div><style>\n",
       ".dataframe > thead > tr,\n",
       ".dataframe > tbody > tr {\n",
       "  text-align: right;\n",
       "  white-space: pre-wrap;\n",
       "}\n",
       "</style>\n",
       "<small>shape: (4, 3)</small><table border=\"1\" class=\"dataframe\"><thead><tr><th>key</th><th>value</th><th>value_right</th></tr><tr><td>str</td><td>i64</td><td>i64</td></tr></thead><tbody><tr><td>&quot;K2&quot;</td><td>7</td><td>9</td></tr><tr><td>&quot;K2&quot;</td><td>7</td><td>1</td></tr><tr><td>&hellip;</td><td>&hellip;</td><td>&hellip;</td></tr><tr><td>&quot;K4&quot;</td><td>8</td><td>4</td></tr></tbody></table></div>"
      ]
     },
     "execution_count": 211,
     "metadata": {},
     "output_type": "execute_result"
    }
   ],
   "execution_count": 211
  },
  {
   "metadata": {
    "ExecuteTime": {
     "end_time": "2024-10-29T18:15:54.176059Z",
     "start_time": "2024-10-29T18:15:54.173158Z"
    }
   },
   "cell_type": "code",
   "source": [
    "\n",
    "df1.join(other=df2, left_on=\"key\", right_on=\"key\", how=\"inner\")"
   ],
   "id": "5896ffb7c5731411",
   "outputs": [
    {
     "name": "stderr",
     "output_type": "stream",
     "text": [
      "join parallel: true\n",
      "INNER join dataframes finished\n"
     ]
    },
    {
     "data": {
      "text/plain": [
       "shape: (4, 3)\n",
       "┌─────┬───────┬─────────────┐\n",
       "│ key ┆ value ┆ value_right │\n",
       "│ --- ┆ ---   ┆ ---         │\n",
       "│ str ┆ i64   ┆ i64         │\n",
       "╞═════╪═══════╪═════════════╡\n",
       "│ K2  ┆ 7     ┆ 9           │\n",
       "│ K2  ┆ 7     ┆ 1           │\n",
       "│ …   ┆ …     ┆ …           │\n",
       "│ K4  ┆ 8     ┆ 4           │\n",
       "└─────┴───────┴─────────────┘"
      ],
      "text/html": [
       "<div><style>\n",
       ".dataframe > thead > tr,\n",
       ".dataframe > tbody > tr {\n",
       "  text-align: right;\n",
       "  white-space: pre-wrap;\n",
       "}\n",
       "</style>\n",
       "<small>shape: (4, 3)</small><table border=\"1\" class=\"dataframe\"><thead><tr><th>key</th><th>value</th><th>value_right</th></tr><tr><td>str</td><td>i64</td><td>i64</td></tr></thead><tbody><tr><td>&quot;K2&quot;</td><td>7</td><td>9</td></tr><tr><td>&quot;K2&quot;</td><td>7</td><td>1</td></tr><tr><td>&hellip;</td><td>&hellip;</td><td>&hellip;</td></tr><tr><td>&quot;K4&quot;</td><td>8</td><td>4</td></tr></tbody></table></div>"
      ]
     },
     "execution_count": 212,
     "metadata": {},
     "output_type": "execute_result"
    }
   ],
   "execution_count": 212
  },
  {
   "metadata": {
    "ExecuteTime": {
     "end_time": "2024-10-29T18:15:54.391383Z",
     "start_time": "2024-10-29T18:15:54.385905Z"
    }
   },
   "cell_type": "code",
   "source": [
    "df1.join(df2, on=\"key\", how=\"full\", suffix=\"_other\") #korábban outer"
   ],
   "id": "9df6db0d6dd0e11c",
   "outputs": [
    {
     "name": "stderr",
     "output_type": "stream",
     "text": [
      "join parallel: true\n",
      "FULL join dataframes finished\n"
     ]
    },
    {
     "data": {
      "text/plain": [
       "shape: (7, 4)\n",
       "┌─────┬───────┬───────────┬─────────────┐\n",
       "│ key ┆ value ┆ key_other ┆ value_other │\n",
       "│ --- ┆ ---   ┆ ---       ┆ ---         │\n",
       "│ str ┆ i64   ┆ str       ┆ i64         │\n",
       "╞═════╪═══════╪═══════════╪═════════════╡\n",
       "│ K2  ┆ 7     ┆ K2        ┆ 9           │\n",
       "│ K2  ┆ 7     ┆ K2        ┆ 1           │\n",
       "│ …   ┆ …     ┆ …         ┆ …           │\n",
       "│ K1  ┆ 6     ┆ null      ┆ null        │\n",
       "└─────┴───────┴───────────┴─────────────┘"
      ],
      "text/html": [
       "<div><style>\n",
       ".dataframe > thead > tr,\n",
       ".dataframe > tbody > tr {\n",
       "  text-align: right;\n",
       "  white-space: pre-wrap;\n",
       "}\n",
       "</style>\n",
       "<small>shape: (7, 4)</small><table border=\"1\" class=\"dataframe\"><thead><tr><th>key</th><th>value</th><th>key_other</th><th>value_other</th></tr><tr><td>str</td><td>i64</td><td>str</td><td>i64</td></tr></thead><tbody><tr><td>&quot;K2&quot;</td><td>7</td><td>&quot;K2&quot;</td><td>9</td></tr><tr><td>&quot;K2&quot;</td><td>7</td><td>&quot;K2&quot;</td><td>1</td></tr><tr><td>&hellip;</td><td>&hellip;</td><td>&hellip;</td><td>&hellip;</td></tr><tr><td>&quot;K1&quot;</td><td>6</td><td>null</td><td>null</td></tr></tbody></table></div>"
      ]
     },
     "execution_count": 213,
     "metadata": {},
     "output_type": "execute_result"
    }
   ],
   "execution_count": 213
  },
  {
   "metadata": {
    "ExecuteTime": {
     "end_time": "2024-10-29T18:15:54.588001Z",
     "start_time": "2024-10-29T18:15:54.582256Z"
    }
   },
   "cell_type": "code",
   "source": [
    "df1.join(df2, on=\"key\", how=\"left\")"
   ],
   "id": "9e988f9a19f4f536",
   "outputs": [
    {
     "name": "stderr",
     "output_type": "stream",
     "text": [
      "join parallel: true\n",
      "LEFT join dataframes finished\n"
     ]
    },
    {
     "data": {
      "text/plain": [
       "shape: (5, 3)\n",
       "┌─────┬───────┬─────────────┐\n",
       "│ key ┆ value ┆ value_right │\n",
       "│ --- ┆ ---   ┆ ---         │\n",
       "│ str ┆ i64   ┆ i64         │\n",
       "╞═════╪═══════╪═════════════╡\n",
       "│ K1  ┆ 6     ┆ null        │\n",
       "│ K2  ┆ 7     ┆ 9           │\n",
       "│ …   ┆ …     ┆ …           │\n",
       "│ K4  ┆ 8     ┆ 4           │\n",
       "└─────┴───────┴─────────────┘"
      ],
      "text/html": [
       "<div><style>\n",
       ".dataframe > thead > tr,\n",
       ".dataframe > tbody > tr {\n",
       "  text-align: right;\n",
       "  white-space: pre-wrap;\n",
       "}\n",
       "</style>\n",
       "<small>shape: (5, 3)</small><table border=\"1\" class=\"dataframe\"><thead><tr><th>key</th><th>value</th><th>value_right</th></tr><tr><td>str</td><td>i64</td><td>i64</td></tr></thead><tbody><tr><td>&quot;K1&quot;</td><td>6</td><td>null</td></tr><tr><td>&quot;K2&quot;</td><td>7</td><td>9</td></tr><tr><td>&hellip;</td><td>&hellip;</td><td>&hellip;</td></tr><tr><td>&quot;K4&quot;</td><td>8</td><td>4</td></tr></tbody></table></div>"
      ]
     },
     "execution_count": 214,
     "metadata": {},
     "output_type": "execute_result"
    }
   ],
   "execution_count": 214
  },
  {
   "metadata": {
    "ExecuteTime": {
     "end_time": "2024-10-29T18:15:54.681042Z",
     "start_time": "2024-10-29T18:15:54.676299Z"
    }
   },
   "cell_type": "code",
   "source": [
    "df1.join(df2, on=\"key\", how=\"semi\")"
   ],
   "id": "89f7b75fafc7d4dc",
   "outputs": [
    {
     "name": "stderr",
     "output_type": "stream",
     "text": [
      "join parallel: true\n",
      "SEMI join dataframes finished\n"
     ]
    },
    {
     "data": {
      "text/plain": [
       "shape: (3, 2)\n",
       "┌─────┬───────┐\n",
       "│ key ┆ value │\n",
       "│ --- ┆ ---   │\n",
       "│ str ┆ i64   │\n",
       "╞═════╪═══════╡\n",
       "│ K2  ┆ 7     │\n",
       "│ K3  ┆ 4     │\n",
       "│ K4  ┆ 8     │\n",
       "└─────┴───────┘"
      ],
      "text/html": [
       "<div><style>\n",
       ".dataframe > thead > tr,\n",
       ".dataframe > tbody > tr {\n",
       "  text-align: right;\n",
       "  white-space: pre-wrap;\n",
       "}\n",
       "</style>\n",
       "<small>shape: (3, 2)</small><table border=\"1\" class=\"dataframe\"><thead><tr><th>key</th><th>value</th></tr><tr><td>str</td><td>i64</td></tr></thead><tbody><tr><td>&quot;K2&quot;</td><td>7</td></tr><tr><td>&quot;K3&quot;</td><td>4</td></tr><tr><td>&quot;K4&quot;</td><td>8</td></tr></tbody></table></div>"
      ]
     },
     "execution_count": 215,
     "metadata": {},
     "output_type": "execute_result"
    }
   ],
   "execution_count": 215
  },
  {
   "metadata": {
    "ExecuteTime": {
     "end_time": "2024-10-29T18:15:54.798022Z",
     "start_time": "2024-10-29T18:15:54.792830Z"
    }
   },
   "cell_type": "code",
   "source": [
    "df1.join(df2, on=[\"key\", \"value\"], how=\"full\")"
   ],
   "id": "8ca72ddd403f017b",
   "outputs": [
    {
     "name": "stderr",
     "output_type": "stream",
     "text": [
      "join parallel: true\n",
      "FULL join dataframes finished\n"
     ]
    },
    {
     "data": {
      "text/plain": [
       "shape: (10, 4)\n",
       "┌──────┬───────┬───────────┬─────────────┐\n",
       "│ key  ┆ value ┆ key_right ┆ value_right │\n",
       "│ ---  ┆ ---   ┆ ---       ┆ ---         │\n",
       "│ str  ┆ i64   ┆ str       ┆ i64         │\n",
       "╞══════╪═══════╪═══════════╪═════════════╡\n",
       "│ null ┆ null  ┆ K2        ┆ 9           │\n",
       "│ null ┆ null  ┆ K2        ┆ 1           │\n",
       "│ …    ┆ …     ┆ …         ┆ …           │\n",
       "│ K2   ┆ 7     ┆ null      ┆ null        │\n",
       "└──────┴───────┴───────────┴─────────────┘"
      ],
      "text/html": [
       "<div><style>\n",
       ".dataframe > thead > tr,\n",
       ".dataframe > tbody > tr {\n",
       "  text-align: right;\n",
       "  white-space: pre-wrap;\n",
       "}\n",
       "</style>\n",
       "<small>shape: (10, 4)</small><table border=\"1\" class=\"dataframe\"><thead><tr><th>key</th><th>value</th><th>key_right</th><th>value_right</th></tr><tr><td>str</td><td>i64</td><td>str</td><td>i64</td></tr></thead><tbody><tr><td>null</td><td>null</td><td>&quot;K2&quot;</td><td>9</td></tr><tr><td>null</td><td>null</td><td>&quot;K2&quot;</td><td>1</td></tr><tr><td>&hellip;</td><td>&hellip;</td><td>&hellip;</td><td>&hellip;</td></tr><tr><td>&quot;K2&quot;</td><td>7</td><td>null</td><td>null</td></tr></tbody></table></div>"
      ]
     },
     "execution_count": 216,
     "metadata": {},
     "output_type": "execute_result"
    }
   ],
   "execution_count": 216
  },
  {
   "metadata": {
    "ExecuteTime": {
     "end_time": "2024-10-29T18:15:54.979166Z",
     "start_time": "2024-10-29T18:15:54.951950Z"
    }
   },
   "cell_type": "code",
   "source": [
    "\n",
    "df_movies = pl.read_json(\"data/movies.json\")\n",
    "print(df_movies.schema)\n",
    "df_movies.head(10)"
   ],
   "id": "3f9a9f18506f9154",
   "outputs": [
    {
     "name": "stdout",
     "output_type": "stream",
     "text": [
      "Schema({'movie_id': Int64, 'title': String, 'budget': Int64, 'homepage': String, 'overview': String, 'popularity': Float64, 'release_date': String, 'revenue': Int64, 'runtime': Int64, 'movie_status': String, 'tagline': String, 'vote_average': Float64, 'vote_count': Int64})\n"
     ]
    },
    {
     "data": {
      "text/plain": [
       "shape: (10, 13)\n",
       "┌──────────┬───────────┬───────────┬───────────┬───┬───────────┬───────────┬───────────┬───────────┐\n",
       "│ movie_id ┆ title     ┆ budget    ┆ homepage  ┆ … ┆ movie_sta ┆ tagline   ┆ vote_aver ┆ vote_coun │\n",
       "│ ---      ┆ ---       ┆ ---       ┆ ---       ┆   ┆ tus       ┆ ---       ┆ age       ┆ t         │\n",
       "│ i64      ┆ str       ┆ i64       ┆ str       ┆   ┆ ---       ┆ str       ┆ ---       ┆ ---       │\n",
       "│          ┆           ┆           ┆           ┆   ┆ str       ┆           ┆ f64       ┆ i64       │\n",
       "╞══════════╪═══════════╪═══════════╪═══════════╪═══╪═══════════╪═══════════╪═══════════╪═══════════╡\n",
       "│ 5        ┆ Four      ┆ 4000000   ┆           ┆ … ┆ Released  ┆ Twelve    ┆ 6.5       ┆ 530       │\n",
       "│          ┆ Rooms     ┆           ┆           ┆   ┆           ┆ outrageou ┆           ┆           │\n",
       "│          ┆           ┆           ┆           ┆   ┆           ┆ s guests. ┆           ┆           │\n",
       "│          ┆           ┆           ┆           ┆   ┆           ┆ Four…     ┆           ┆           │\n",
       "│ 11       ┆ Star Wars ┆ 11000000  ┆ http://ww ┆ … ┆ Released  ┆ A long    ┆ 8.1       ┆ 6624      │\n",
       "│          ┆           ┆           ┆ w.starwar ┆   ┆           ┆ time ago  ┆           ┆           │\n",
       "│          ┆           ┆           ┆ s.com/fil ┆   ┆           ┆ in a      ┆           ┆           │\n",
       "│          ┆           ┆           ┆ ms/…      ┆   ┆           ┆ galaxy    ┆           ┆           │\n",
       "│          ┆           ┆           ┆           ┆   ┆           ┆ fa…       ┆           ┆           │\n",
       "│ …        ┆ …         ┆ …         ┆ …         ┆ … ┆ …         ┆ …         ┆ …         ┆ …         │\n",
       "│ 22       ┆ Pirates   ┆ 140000000 ┆ http://di ┆ … ┆ Released  ┆ Prepare   ┆ 7.5       ┆ 6985      │\n",
       "│          ┆ of the    ┆           ┆ sney.go.c ┆   ┆           ┆ to be     ┆           ┆           │\n",
       "│          ┆ Caribbean ┆           ┆ om/disney ┆   ┆           ┆ blown out ┆           ┆           │\n",
       "│          ┆ : The …   ┆           ┆ vid…      ┆   ┆           ┆ of the…   ┆           ┆           │\n",
       "└──────────┴───────────┴───────────┴───────────┴───┴───────────┴───────────┴───────────┴───────────┘"
      ],
      "text/html": [
       "<div><style>\n",
       ".dataframe > thead > tr,\n",
       ".dataframe > tbody > tr {\n",
       "  text-align: right;\n",
       "  white-space: pre-wrap;\n",
       "}\n",
       "</style>\n",
       "<small>shape: (10, 13)</small><table border=\"1\" class=\"dataframe\"><thead><tr><th>movie_id</th><th>title</th><th>budget</th><th>homepage</th><th>overview</th><th>popularity</th><th>release_date</th><th>revenue</th><th>runtime</th><th>movie_status</th><th>tagline</th><th>vote_average</th><th>vote_count</th></tr><tr><td>i64</td><td>str</td><td>i64</td><td>str</td><td>str</td><td>f64</td><td>str</td><td>i64</td><td>i64</td><td>str</td><td>str</td><td>f64</td><td>i64</td></tr></thead><tbody><tr><td>5</td><td>&quot;Four Rooms&quot;</td><td>4000000</td><td>&quot;&quot;</td><td>&quot;It&#x27;s Ted the Bellhop&#x27;s first n…</td><td>22.87623</td><td>&quot;1995-12-09&quot;</td><td>4300000</td><td>98</td><td>&quot;Released&quot;</td><td>&quot;Twelve outrageous guests. Four…</td><td>6.5</td><td>530</td></tr><tr><td>11</td><td>&quot;Star Wars&quot;</td><td>11000000</td><td>&quot;http://www.starwars.com/films/…</td><td>&quot;Princess Leia is captured and …</td><td>126.393695</td><td>&quot;1977-05-25&quot;</td><td>775398007</td><td>121</td><td>&quot;Released&quot;</td><td>&quot;A long time ago in a galaxy fa…</td><td>8.1</td><td>6624</td></tr><tr><td>&hellip;</td><td>&hellip;</td><td>&hellip;</td><td>&hellip;</td><td>&hellip;</td><td>&hellip;</td><td>&hellip;</td><td>&hellip;</td><td>&hellip;</td><td>&hellip;</td><td>&hellip;</td><td>&hellip;</td><td>&hellip;</td></tr><tr><td>22</td><td>&quot;Pirates of the Caribbean: The …</td><td>140000000</td><td>&quot;http://disney.go.com/disneyvid…</td><td>&quot;Jack Sparrow, a freewheeling 1…</td><td>271.972889</td><td>&quot;2003-07-09&quot;</td><td>655011224</td><td>143</td><td>&quot;Released&quot;</td><td>&quot;Prepare to be blown out of the…</td><td>7.5</td><td>6985</td></tr></tbody></table></div>"
      ]
     },
     "execution_count": 217,
     "metadata": {},
     "output_type": "execute_result"
    }
   ],
   "execution_count": 217
  },
  {
   "metadata": {
    "ExecuteTime": {
     "end_time": "2024-10-29T18:15:55.081610Z",
     "start_time": "2024-10-29T18:15:55.075164Z"
    }
   },
   "cell_type": "code",
   "source": [
    "df_movie_genre = pl.read_json(\"data/movie_genre.json\")\n",
    "print(df_movie_genre.schema)\n",
    "df_movie_genre.head(10)"
   ],
   "id": "c811345085c3ceec",
   "outputs": [
    {
     "name": "stdout",
     "output_type": "stream",
     "text": [
      "Schema({'movie_id': Int64, 'genre_id': Int64})\n"
     ]
    },
    {
     "data": {
      "text/plain": [
       "shape: (10, 2)\n",
       "┌──────────┬──────────┐\n",
       "│ movie_id ┆ genre_id │\n",
       "│ ---      ┆ ---      │\n",
       "│ i64      ┆ i64      │\n",
       "╞══════════╪══════════╡\n",
       "│ 5        ┆ 35       │\n",
       "│ 5        ┆ 80       │\n",
       "│ …        ┆ …        │\n",
       "│ 13       ┆ 10749    │\n",
       "└──────────┴──────────┘"
      ],
      "text/html": [
       "<div><style>\n",
       ".dataframe > thead > tr,\n",
       ".dataframe > tbody > tr {\n",
       "  text-align: right;\n",
       "  white-space: pre-wrap;\n",
       "}\n",
       "</style>\n",
       "<small>shape: (10, 2)</small><table border=\"1\" class=\"dataframe\"><thead><tr><th>movie_id</th><th>genre_id</th></tr><tr><td>i64</td><td>i64</td></tr></thead><tbody><tr><td>5</td><td>35</td></tr><tr><td>5</td><td>80</td></tr><tr><td>&hellip;</td><td>&hellip;</td></tr><tr><td>13</td><td>10749</td></tr></tbody></table></div>"
      ]
     },
     "execution_count": 218,
     "metadata": {},
     "output_type": "execute_result"
    }
   ],
   "execution_count": 218
  },
  {
   "metadata": {
    "ExecuteTime": {
     "end_time": "2024-10-29T18:15:55.211703Z",
     "start_time": "2024-10-29T18:15:55.208294Z"
    }
   },
   "cell_type": "code",
   "source": [
    "df_genres = pl.read_json(\"data/genres.json\")\n",
    "print(df_genres.schema)\n",
    "df_genres.head(10)"
   ],
   "id": "95cf76b0c6ec7c9a",
   "outputs": [
    {
     "name": "stdout",
     "output_type": "stream",
     "text": [
      "Schema({'genre_id': Int64, 'genre_name': String})\n"
     ]
    },
    {
     "data": {
      "text/plain": [
       "shape: (10, 2)\n",
       "┌──────────┬────────────┐\n",
       "│ genre_id ┆ genre_name │\n",
       "│ ---      ┆ ---        │\n",
       "│ i64      ┆ str        │\n",
       "╞══════════╪════════════╡\n",
       "│ 12       ┆ Adventure  │\n",
       "│ 14       ┆ Fantasy    │\n",
       "│ …        ┆ …          │\n",
       "│ 53       ┆ Thriller   │\n",
       "└──────────┴────────────┘"
      ],
      "text/html": [
       "<div><style>\n",
       ".dataframe > thead > tr,\n",
       ".dataframe > tbody > tr {\n",
       "  text-align: right;\n",
       "  white-space: pre-wrap;\n",
       "}\n",
       "</style>\n",
       "<small>shape: (10, 2)</small><table border=\"1\" class=\"dataframe\"><thead><tr><th>genre_id</th><th>genre_name</th></tr><tr><td>i64</td><td>str</td></tr></thead><tbody><tr><td>12</td><td>&quot;Adventure&quot;</td></tr><tr><td>14</td><td>&quot;Fantasy&quot;</td></tr><tr><td>&hellip;</td><td>&hellip;</td></tr><tr><td>53</td><td>&quot;Thriller&quot;</td></tr></tbody></table></div>"
      ]
     },
     "execution_count": 219,
     "metadata": {},
     "output_type": "execute_result"
    }
   ],
   "execution_count": 219
  },
  {
   "metadata": {
    "ExecuteTime": {
     "end_time": "2024-10-29T18:15:55.309102Z",
     "start_time": "2024-10-29T18:15:55.302373Z"
    }
   },
   "cell_type": "code",
   "source": [
    "df_combined = (df_movies\n",
    ".join(df_movie_genre, on='movie_id', how=\"inner\").join(df_genres, on='genre_id')\n",
    ".select([\n",
    "    pl.col('movie_id'),\n",
    "    pl.col('title'),\n",
    "    pl.col('genre_name')\n",
    "]))\n",
    "df_combined\n"
   ],
   "id": "7e21cab4205eb760",
   "outputs": [
    {
     "name": "stderr",
     "output_type": "stream",
     "text": [
      "join parallel: true\n",
      "INNER join dataframes finished\n",
      "join parallel: true\n",
      "INNER join dataframes finished\n"
     ]
    },
    {
     "data": {
      "text/plain": [
       "shape: (12_160, 3)\n",
       "┌──────────┬─────────────────────────────┬─────────────┐\n",
       "│ movie_id ┆ title                       ┆ genre_name  │\n",
       "│ ---      ┆ ---                         ┆ ---         │\n",
       "│ i64      ┆ str                         ┆ str         │\n",
       "╞══════════╪═════════════════════════════╪═════════════╡\n",
       "│ 5        ┆ Four Rooms                  ┆ Comedy      │\n",
       "│ 5        ┆ Four Rooms                  ┆ Crime       │\n",
       "│ …        ┆ …                           ┆ …           │\n",
       "│ 459488   ┆ To Be Frank, Sinatra at 100 ┆ Documentary │\n",
       "└──────────┴─────────────────────────────┴─────────────┘"
      ],
      "text/html": [
       "<div><style>\n",
       ".dataframe > thead > tr,\n",
       ".dataframe > tbody > tr {\n",
       "  text-align: right;\n",
       "  white-space: pre-wrap;\n",
       "}\n",
       "</style>\n",
       "<small>shape: (12_160, 3)</small><table border=\"1\" class=\"dataframe\"><thead><tr><th>movie_id</th><th>title</th><th>genre_name</th></tr><tr><td>i64</td><td>str</td><td>str</td></tr></thead><tbody><tr><td>5</td><td>&quot;Four Rooms&quot;</td><td>&quot;Comedy&quot;</td></tr><tr><td>5</td><td>&quot;Four Rooms&quot;</td><td>&quot;Crime&quot;</td></tr><tr><td>&hellip;</td><td>&hellip;</td><td>&hellip;</td></tr><tr><td>459488</td><td>&quot;To Be Frank, Sinatra at 100&quot;</td><td>&quot;Documentary&quot;</td></tr></tbody></table></div>"
      ]
     },
     "execution_count": 220,
     "metadata": {},
     "output_type": "execute_result"
    }
   ],
   "execution_count": 220
  },
  {
   "metadata": {
    "ExecuteTime": {
     "end_time": "2024-10-29T18:15:55.386026Z",
     "start_time": "2024-10-29T18:15:55.379349Z"
    }
   },
   "cell_type": "code",
   "source": [
    "df_movies_with_genres = df_combined \\\n",
    "    .group_by('movie_id') \\\n",
    "    .agg([\n",
    "    pl.col('title').first(),  # Get the movie title (assuming it's the same for each movie_id)\n",
    "    pl.col('genre_name')  # Collect genres into a list for each movie\n",
    "]) \\\n",
    "    .filter(pl.col(\"title\") == \"Four Rooms\")\n",
    "df_movies_with_genres\n"
   ],
   "id": "9b98d07d384cf5aa",
   "outputs": [
    {
     "name": "stderr",
     "output_type": "stream",
     "text": [
      "keys/aggregates are not partitionable: running default HASH AGGREGATION\n",
      "dataframe filtered\n"
     ]
    },
    {
     "data": {
      "text/plain": [
       "shape: (1, 3)\n",
       "┌──────────┬────────────┬─────────────────────┐\n",
       "│ movie_id ┆ title      ┆ genre_name          │\n",
       "│ ---      ┆ ---        ┆ ---                 │\n",
       "│ i64      ┆ str        ┆ list[str]           │\n",
       "╞══════════╪════════════╪═════════════════════╡\n",
       "│ 5        ┆ Four Rooms ┆ [\"Comedy\", \"Crime\"] │\n",
       "└──────────┴────────────┴─────────────────────┘"
      ],
      "text/html": [
       "<div><style>\n",
       ".dataframe > thead > tr,\n",
       ".dataframe > tbody > tr {\n",
       "  text-align: right;\n",
       "  white-space: pre-wrap;\n",
       "}\n",
       "</style>\n",
       "<small>shape: (1, 3)</small><table border=\"1\" class=\"dataframe\"><thead><tr><th>movie_id</th><th>title</th><th>genre_name</th></tr><tr><td>i64</td><td>str</td><td>list[str]</td></tr></thead><tbody><tr><td>5</td><td>&quot;Four Rooms&quot;</td><td>[&quot;Comedy&quot;, &quot;Crime&quot;]</td></tr></tbody></table></div>"
      ]
     },
     "execution_count": 221,
     "metadata": {},
     "output_type": "execute_result"
    }
   ],
   "execution_count": 221
  },
  {
   "metadata": {
    "ExecuteTime": {
     "end_time": "2024-10-29T18:15:55.482190Z",
     "start_time": "2024-10-29T18:15:55.480927Z"
    }
   },
   "cell_type": "code",
   "source": [],
   "id": "8cab0136636e92b4",
   "outputs": [],
   "execution_count": null
  }
 ],
 "metadata": {
  "kernelspec": {
   "display_name": "Python 3",
   "language": "python",
   "name": "python3"
  },
  "language_info": {
   "codemirror_mode": {
    "name": "ipython",
    "version": 2
   },
   "file_extension": ".py",
   "mimetype": "text/x-python",
   "name": "python",
   "nbconvert_exporter": "python",
   "pygments_lexer": "ipython2",
   "version": "2.7.6"
  }
 },
 "nbformat": 4,
 "nbformat_minor": 5
}
